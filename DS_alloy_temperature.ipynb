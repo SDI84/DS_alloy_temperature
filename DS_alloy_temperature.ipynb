{
 "cells": [
  {
   "cell_type": "markdown",
   "id": "1712d4bd",
   "metadata": {},
   "source": [
    "# Цель проекта.\n",
    "Необходимо построить модель, которая предскажет температуру стали, для обеспечения уменьшения потребления электроэнергии."
   ]
  },
  {
   "cell_type": "code",
   "execution_count": 1,
   "id": "e4bfa23f",
   "metadata": {
    "scrolled": true
   },
   "outputs": [
    {
     "name": "stdout",
     "output_type": "stream",
     "text": [
      "Collecting optuna\n",
      "  Downloading optuna-3.1.1-py3-none-any.whl (365 kB)\n",
      "\u001b[K     |████████████████████████████████| 365 kB 1.4 MB/s eta 0:00:01\n",
      "\u001b[?25hRequirement already satisfied: sqlalchemy>=1.3.0 in /opt/conda/lib/python3.9/site-packages (from optuna) (1.4.20)\n",
      "Collecting cmaes>=0.9.1\n",
      "  Downloading cmaes-0.9.1-py3-none-any.whl (21 kB)\n",
      "Requirement already satisfied: alembic>=1.5.0 in /opt/conda/lib/python3.9/site-packages (from optuna) (1.6.5)\n",
      "Requirement already satisfied: packaging>=20.0 in /opt/conda/lib/python3.9/site-packages (from optuna) (21.3)\n",
      "Collecting colorlog\n",
      "  Downloading colorlog-6.7.0-py2.py3-none-any.whl (11 kB)\n",
      "Requirement already satisfied: PyYAML in /opt/conda/lib/python3.9/site-packages (from optuna) (6.0)\n",
      "Requirement already satisfied: numpy in /opt/conda/lib/python3.9/site-packages (from optuna) (1.21.1)\n",
      "Requirement already satisfied: tqdm in /opt/conda/lib/python3.9/site-packages (from optuna) (4.61.2)\n",
      "Requirement already satisfied: Mako in /opt/conda/lib/python3.9/site-packages (from alembic>=1.5.0->optuna) (1.1.4)\n",
      "Requirement already satisfied: python-editor>=0.3 in /opt/conda/lib/python3.9/site-packages (from alembic>=1.5.0->optuna) (1.0.4)\n",
      "Requirement already satisfied: python-dateutil in /opt/conda/lib/python3.9/site-packages (from alembic>=1.5.0->optuna) (2.8.1)\n",
      "Requirement already satisfied: pyparsing!=3.0.5,>=2.0.2 in /opt/conda/lib/python3.9/site-packages (from packaging>=20.0->optuna) (2.4.7)\n",
      "Requirement already satisfied: greenlet!=0.4.17 in /opt/conda/lib/python3.9/site-packages (from sqlalchemy>=1.3.0->optuna) (1.1.0)\n",
      "Requirement already satisfied: MarkupSafe>=0.9.2 in /opt/conda/lib/python3.9/site-packages (from Mako->alembic>=1.5.0->optuna) (2.1.1)\n",
      "Requirement already satisfied: six>=1.5 in /opt/conda/lib/python3.9/site-packages (from python-dateutil->alembic>=1.5.0->optuna) (1.16.0)\n",
      "Installing collected packages: colorlog, cmaes, optuna\n",
      "Successfully installed cmaes-0.9.1 colorlog-6.7.0 optuna-3.1.1\n"
     ]
    }
   ],
   "source": [
    "#!pip install optuna"
   ]
  },
  {
   "cell_type": "markdown",
   "id": "edb556d7",
   "metadata": {},
   "source": [
    "Импорт библиотек."
   ]
  },
  {
   "cell_type": "code",
   "execution_count": 2,
   "id": "ae49bb7a",
   "metadata": {
    "scrolled": true
   },
   "outputs": [],
   "source": [
    "import os\n",
    "import re\n",
    "import pandas as pd\n",
    "import matplotlib.pyplot as plt\n",
    "import seaborn as sns\n",
    "import optuna\n",
    "import shap\n",
    "\n",
    "from sklearn.model_selection import train_test_split\n",
    "from sklearn.linear_model import LinearRegression\n",
    "from sklearn.ensemble import RandomForestRegressor\n",
    "from sklearn.metrics import mean_absolute_error\n",
    "from sklearn.model_selection import cross_val_score\n",
    "from catboost import CatBoostRegressor,Pool, cv\n",
    "from lightgbm import LGBMRegressor\n",
    "from sklearn.dummy import DummyRegressor\n",
    " "
   ]
  },
  {
   "cell_type": "markdown",
   "id": "a6701676",
   "metadata": {},
   "source": [
    "Объявление констант"
   ]
  },
  {
   "cell_type": "code",
   "execution_count": 3,
   "id": "45be578d",
   "metadata": {},
   "outputs": [],
   "source": [
    "RANDOM_STATE = 80523\n",
    "TEST_SIZE = .25"
   ]
  },
  {
   "cell_type": "markdown",
   "id": "500305c3",
   "metadata": {},
   "source": [
    "# Часть 1.\n",
    "Цель - провести первичный анализ данных и составить план проекта."
   ]
  },
  {
   "cell_type": "markdown",
   "id": "9b14fcc8",
   "metadata": {},
   "source": [
    "## Первичный анализ данных."
   ]
  },
  {
   "cell_type": "code",
   "execution_count": 4,
   "id": "72899f59",
   "metadata": {},
   "outputs": [
    {
     "name": "stdout",
     "output_type": "stream",
     "text": [
      "\u001b[1m Данные об электродах в файле data_arc_new \u001b[0m\n",
      "<class 'pandas.core.frame.DataFrame'>\n",
      "RangeIndex: 14876 entries, 0 to 14875\n",
      "Data columns (total 5 columns):\n",
      " #   Column                Non-Null Count  Dtype  \n",
      "---  ------                --------------  -----  \n",
      " 0   key                   14876 non-null  int64  \n",
      " 1   Начало нагрева дугой  14876 non-null  object \n",
      " 2   Конец нагрева дугой   14876 non-null  object \n",
      " 3   Активная мощность     14876 non-null  float64\n",
      " 4   Реактивная мощность   14876 non-null  float64\n",
      "dtypes: float64(2), int64(1), object(2)\n",
      "memory usage: 581.2+ KB\n",
      "\u001b[1m Данные о подаче сыпучих материалов (объём) в файле data_bulk_new \u001b[0m\n",
      "<class 'pandas.core.frame.DataFrame'>\n",
      "RangeIndex: 3129 entries, 0 to 3128\n",
      "Data columns (total 16 columns):\n",
      " #   Column   Non-Null Count  Dtype  \n",
      "---  ------   --------------  -----  \n",
      " 0   key      3129 non-null   int64  \n",
      " 1   Bulk 1   252 non-null    float64\n",
      " 2   Bulk 2   22 non-null     float64\n",
      " 3   Bulk 3   1298 non-null   float64\n",
      " 4   Bulk 4   1014 non-null   float64\n",
      " 5   Bulk 5   77 non-null     float64\n",
      " 6   Bulk 6   576 non-null    float64\n",
      " 7   Bulk 7   25 non-null     float64\n",
      " 8   Bulk 8   1 non-null      float64\n",
      " 9   Bulk 9   19 non-null     float64\n",
      " 10  Bulk 10  176 non-null    float64\n",
      " 11  Bulk 11  177 non-null    float64\n",
      " 12  Bulk 12  2450 non-null   float64\n",
      " 13  Bulk 13  18 non-null     float64\n",
      " 14  Bulk 14  2806 non-null   float64\n",
      " 15  Bulk 15  2248 non-null   float64\n",
      "dtypes: float64(15), int64(1)\n",
      "memory usage: 391.2 KB\n",
      "\u001b[1m Данные о подаче сыпучих материалов (время) в файле data_bulk_time_new \u001b[0m\n",
      "<class 'pandas.core.frame.DataFrame'>\n",
      "RangeIndex: 3129 entries, 0 to 3128\n",
      "Data columns (total 16 columns):\n",
      " #   Column   Non-Null Count  Dtype \n",
      "---  ------   --------------  ----- \n",
      " 0   key      3129 non-null   int64 \n",
      " 1   Bulk 1   252 non-null    object\n",
      " 2   Bulk 2   22 non-null     object\n",
      " 3   Bulk 3   1298 non-null   object\n",
      " 4   Bulk 4   1014 non-null   object\n",
      " 5   Bulk 5   77 non-null     object\n",
      " 6   Bulk 6   576 non-null    object\n",
      " 7   Bulk 7   25 non-null     object\n",
      " 8   Bulk 8   1 non-null      object\n",
      " 9   Bulk 9   19 non-null     object\n",
      " 10  Bulk 10  176 non-null    object\n",
      " 11  Bulk 11  177 non-null    object\n",
      " 12  Bulk 12  2450 non-null   object\n",
      " 13  Bulk 13  18 non-null     object\n",
      " 14  Bulk 14  2806 non-null   object\n",
      " 15  Bulk 15  2248 non-null   object\n",
      "dtypes: int64(1), object(15)\n",
      "memory usage: 391.2+ KB\n",
      "\u001b[1m Данные о продувке сплава газом в файле data_gas_new \u001b[0m\n",
      "<class 'pandas.core.frame.DataFrame'>\n",
      "RangeIndex: 3239 entries, 0 to 3238\n",
      "Data columns (total 2 columns):\n",
      " #   Column  Non-Null Count  Dtype  \n",
      "---  ------  --------------  -----  \n",
      " 0   key     3239 non-null   int64  \n",
      " 1   Газ 1   3239 non-null   float64\n",
      "dtypes: float64(1), int64(1)\n",
      "memory usage: 50.7 KB\n",
      "\u001b[1m Результаты измерения температуры в файле data_temp_new \u001b[0m\n",
      "<class 'pandas.core.frame.DataFrame'>\n",
      "RangeIndex: 18092 entries, 0 to 18091\n",
      "Data columns (total 3 columns):\n",
      " #   Column        Non-Null Count  Dtype  \n",
      "---  ------        --------------  -----  \n",
      " 0   key           18092 non-null  int64  \n",
      " 1   Время замера  18092 non-null  object \n",
      " 2   Температура   14665 non-null  float64\n",
      "dtypes: float64(1), int64(1), object(1)\n",
      "memory usage: 424.2+ KB\n",
      "\u001b[1m Данные о проволочных материалах (объём) в файле data_wire_new \u001b[0m\n",
      "<class 'pandas.core.frame.DataFrame'>\n",
      "RangeIndex: 3081 entries, 0 to 3080\n",
      "Data columns (total 10 columns):\n",
      " #   Column  Non-Null Count  Dtype  \n",
      "---  ------  --------------  -----  \n",
      " 0   key     3081 non-null   int64  \n",
      " 1   Wire 1  3055 non-null   float64\n",
      " 2   Wire 2  1079 non-null   float64\n",
      " 3   Wire 3  63 non-null     float64\n",
      " 4   Wire 4  14 non-null     float64\n",
      " 5   Wire 5  1 non-null      float64\n",
      " 6   Wire 6  73 non-null     float64\n",
      " 7   Wire 7  11 non-null     float64\n",
      " 8   Wire 8  19 non-null     float64\n",
      " 9   Wire 9  29 non-null     float64\n",
      "dtypes: float64(9), int64(1)\n",
      "memory usage: 240.8 KB\n",
      "\u001b[1m Данные о проволочных материалах (время) в файле data_wire_time_new \u001b[0m\n",
      "<class 'pandas.core.frame.DataFrame'>\n",
      "RangeIndex: 3081 entries, 0 to 3080\n",
      "Data columns (total 10 columns):\n",
      " #   Column  Non-Null Count  Dtype \n",
      "---  ------  --------------  ----- \n",
      " 0   key     3081 non-null   int64 \n",
      " 1   Wire 1  3055 non-null   object\n",
      " 2   Wire 2  1079 non-null   object\n",
      " 3   Wire 3  63 non-null     object\n",
      " 4   Wire 4  14 non-null     object\n",
      " 5   Wire 5  1 non-null      object\n",
      " 6   Wire 6  73 non-null     object\n",
      " 7   Wire 7  11 non-null     object\n",
      " 8   Wire 8  19 non-null     object\n",
      " 9   Wire 9  29 non-null     object\n",
      "dtypes: int64(1), object(9)\n",
      "memory usage: 240.8+ KB\n"
     ]
    }
   ],
   "source": [
    "file_name = [['data_arc_new', 'Данные об электродах']\n",
    "             ,['data_bulk_new', 'Данные о подаче сыпучих материалов (объём)']\n",
    "             ,['data_bulk_time_new', 'Данные о подаче сыпучих материалов (время)']\n",
    "             ,['data_gas_new', 'Данные о продувке сплава газом']\n",
    "             ,['data_temp_new', 'Результаты измерения температуры']\n",
    "             ,['data_wire_new', 'Данные о проволочных материалах (объём)']\n",
    "             ,['data_wire_time_new', 'Данные о проволочных материалах (время)']]\n",
    "\n",
    "path = '/datasets/'\n",
    "if not os.path.exists(path):\n",
    "    path = 'datasets/'\n",
    "    \n",
    "data=dict()\n",
    "\n",
    "\n",
    "\n",
    "for i in file_name:\n",
    "    data[i[0]]=pd.read_csv(path+i[0]+'.csv')\n",
    "    print(f'\\033[1m {i[1]} в файле {i[0]} \\033[0m')\n",
    "    data[i[0]].info()\n",
    "      "
   ]
  },
  {
   "cell_type": "markdown",
   "id": "b8d11c13",
   "metadata": {},
   "source": [
    "Количество уникальных партий в различных файлах."
   ]
  },
  {
   "cell_type": "code",
   "execution_count": 5,
   "id": "24de53e1",
   "metadata": {
    "scrolled": true
   },
   "outputs": [
    {
     "name": "stdout",
     "output_type": "stream",
     "text": [
      "\u001b[1m Данные об электродах в файле data_arc_new \u001b[0m\n",
      "Количество партий :  3214\n",
      "\u001b[1m Данные о подаче сыпучих материалов (объём) в файле data_bulk_new \u001b[0m\n",
      "Количество партий :  3129\n",
      "\u001b[1m Данные о подаче сыпучих материалов (время) в файле data_bulk_time_new \u001b[0m\n",
      "Количество партий :  3129\n",
      "\u001b[1m Данные о продувке сплава газом в файле data_gas_new \u001b[0m\n",
      "Количество партий :  3239\n",
      "\u001b[1m Результаты измерения температуры в файле data_temp_new \u001b[0m\n",
      "Количество партий :  3216\n",
      "\u001b[1m Данные о проволочных материалах (объём) в файле data_wire_new \u001b[0m\n",
      "Количество партий :  3081\n",
      "\u001b[1m Данные о проволочных материалах (время) в файле data_wire_time_new \u001b[0m\n",
      "Количество партий :  3081\n"
     ]
    }
   ],
   "source": [
    "for i in file_name:\n",
    "    print(f'\\033[1m {i[1]} в файле {i[0]} \\033[0m')\n",
    "    print(f'Количество партий : ',len(data[i[0]]['key'].unique()))"
   ]
  },
  {
   "cell_type": "markdown",
   "id": "936ba2b0",
   "metadata": {},
   "source": [
    "Первые строки каждого датафрейма."
   ]
  },
  {
   "cell_type": "code",
   "execution_count": 6,
   "id": "b32e4804",
   "metadata": {
    "scrolled": true
   },
   "outputs": [
    {
     "name": "stdout",
     "output_type": "stream",
     "text": [
      "\u001b[1m Данные об электродах в файле data_arc_new \u001b[0m\n",
      "   key Начало нагрева дугой  Конец нагрева дугой  Активная мощность  \\\n",
      "0    1  2019-05-03 11:02:14  2019-05-03 11:06:02           0.305130   \n",
      "1    1  2019-05-03 11:07:28  2019-05-03 11:10:33           0.765658   \n",
      "2    1  2019-05-03 11:11:44  2019-05-03 11:14:36           0.580313   \n",
      "3    1  2019-05-03 11:18:14  2019-05-03 11:24:19           0.518496   \n",
      "4    1  2019-05-03 11:26:09  2019-05-03 11:28:37           0.867133   \n",
      "\n",
      "   Реактивная мощность  \n",
      "0             0.211253  \n",
      "1             0.477438  \n",
      "2             0.430460  \n",
      "3             0.379979  \n",
      "4             0.643691  \n",
      "\u001b[1m Данные о подаче сыпучих материалов (объём) в файле data_bulk_new \u001b[0m\n",
      "   key  Bulk 1  Bulk 2  Bulk 3  Bulk 4  Bulk 5  Bulk 6  Bulk 7  Bulk 8  \\\n",
      "0    1     NaN     NaN     NaN    43.0     NaN     NaN     NaN     NaN   \n",
      "1    2     NaN     NaN     NaN    73.0     NaN     NaN     NaN     NaN   \n",
      "2    3     NaN     NaN     NaN    34.0     NaN     NaN     NaN     NaN   \n",
      "3    4     NaN     NaN     NaN    81.0     NaN     NaN     NaN     NaN   \n",
      "4    5     NaN     NaN     NaN    78.0     NaN     NaN     NaN     NaN   \n",
      "\n",
      "   Bulk 9  Bulk 10  Bulk 11  Bulk 12  Bulk 13  Bulk 14  Bulk 15  \n",
      "0     NaN      NaN      NaN    206.0      NaN    150.0    154.0  \n",
      "1     NaN      NaN      NaN    206.0      NaN    149.0    154.0  \n",
      "2     NaN      NaN      NaN    205.0      NaN    152.0    153.0  \n",
      "3     NaN      NaN      NaN    207.0      NaN    153.0    154.0  \n",
      "4     NaN      NaN      NaN    203.0      NaN    151.0    152.0  \n",
      "\u001b[1m Данные о подаче сыпучих материалов (время) в файле data_bulk_time_new \u001b[0m\n",
      "   key Bulk 1 Bulk 2 Bulk 3               Bulk 4 Bulk 5 Bulk 6 Bulk 7 Bulk 8  \\\n",
      "0    1    NaN    NaN    NaN  2019-05-03 11:28:48    NaN    NaN    NaN    NaN   \n",
      "1    2    NaN    NaN    NaN  2019-05-03 11:36:50    NaN    NaN    NaN    NaN   \n",
      "2    3    NaN    NaN    NaN  2019-05-03 12:32:39    NaN    NaN    NaN    NaN   \n",
      "3    4    NaN    NaN    NaN  2019-05-03 12:43:22    NaN    NaN    NaN    NaN   \n",
      "4    5    NaN    NaN    NaN  2019-05-03 13:30:47    NaN    NaN    NaN    NaN   \n",
      "\n",
      "  Bulk 9 Bulk 10 Bulk 11              Bulk 12 Bulk 13              Bulk 14  \\\n",
      "0    NaN     NaN     NaN  2019-05-03 11:24:31     NaN  2019-05-03 11:14:50   \n",
      "1    NaN     NaN     NaN  2019-05-03 11:53:30     NaN  2019-05-03 11:48:37   \n",
      "2    NaN     NaN     NaN  2019-05-03 12:27:13     NaN  2019-05-03 12:21:01   \n",
      "3    NaN     NaN     NaN  2019-05-03 12:58:00     NaN  2019-05-03 12:51:11   \n",
      "4    NaN     NaN     NaN  2019-05-03 13:30:47     NaN  2019-05-03 13:34:12   \n",
      "\n",
      "               Bulk 15  \n",
      "0  2019-05-03 11:10:43  \n",
      "1  2019-05-03 11:44:39  \n",
      "2  2019-05-03 12:16:16  \n",
      "3  2019-05-03 12:46:36  \n",
      "4  2019-05-03 13:30:47  \n",
      "\u001b[1m Данные о продувке сплава газом в файле data_gas_new \u001b[0m\n",
      "   key      Газ 1\n",
      "0    1  29.749986\n",
      "1    2  12.555561\n",
      "2    3  28.554793\n",
      "3    4  18.841219\n",
      "4    5   5.413692\n",
      "\u001b[1m Результаты измерения температуры в файле data_temp_new \u001b[0m\n",
      "   key         Время замера  Температура\n",
      "0    1  2019-05-03 11:02:04       1571.0\n",
      "1    1  2019-05-03 11:07:18       1604.0\n",
      "2    1  2019-05-03 11:11:34       1618.0\n",
      "3    1  2019-05-03 11:18:04       1601.0\n",
      "4    1  2019-05-03 11:25:59       1606.0\n",
      "\u001b[1m Данные о проволочных материалах (объём) в файле data_wire_new \u001b[0m\n",
      "   key     Wire 1   Wire 2  Wire 3  Wire 4  Wire 5  Wire 6  Wire 7  Wire 8  \\\n",
      "0    1  60.059998      NaN     NaN     NaN     NaN     NaN     NaN     NaN   \n",
      "1    2  96.052315      NaN     NaN     NaN     NaN     NaN     NaN     NaN   \n",
      "2    3  91.160157      NaN     NaN     NaN     NaN     NaN     NaN     NaN   \n",
      "3    4  89.063515      NaN     NaN     NaN     NaN     NaN     NaN     NaN   \n",
      "4    5  89.238236  9.11456     NaN     NaN     NaN     NaN     NaN     NaN   \n",
      "\n",
      "   Wire 9  \n",
      "0     NaN  \n",
      "1     NaN  \n",
      "2     NaN  \n",
      "3     NaN  \n",
      "4     NaN  \n",
      "\u001b[1m Данные о проволочных материалах (время) в файле data_wire_time_new \u001b[0m\n",
      "   key               Wire 1               Wire 2 Wire 3 Wire 4 Wire 5 Wire 6  \\\n",
      "0    1  2019-05-03 11:06:19                  NaN    NaN    NaN    NaN    NaN   \n",
      "1    2  2019-05-03 11:36:50                  NaN    NaN    NaN    NaN    NaN   \n",
      "2    3  2019-05-03 12:11:46                  NaN    NaN    NaN    NaN    NaN   \n",
      "3    4  2019-05-03 12:43:22                  NaN    NaN    NaN    NaN    NaN   \n",
      "4    5  2019-05-03 13:20:44  2019-05-03 13:15:34    NaN    NaN    NaN    NaN   \n",
      "\n",
      "  Wire 7 Wire 8 Wire 9  \n",
      "0    NaN    NaN    NaN  \n",
      "1    NaN    NaN    NaN  \n",
      "2    NaN    NaN    NaN  \n",
      "3    NaN    NaN    NaN  \n",
      "4    NaN    NaN    NaN  \n"
     ]
    }
   ],
   "source": [
    "for i in file_name:\n",
    "    print(f'\\033[1m {i[1]} в файле {i[0]} \\033[0m')\n",
    "    print(data[i[0]].head())"
   ]
  },
  {
   "cell_type": "markdown",
   "id": "4d5c5d9b",
   "metadata": {},
   "source": [
    "Стат характеристики датафреймов."
   ]
  },
  {
   "cell_type": "code",
   "execution_count": 7,
   "id": "5d1b35cb",
   "metadata": {},
   "outputs": [
    {
     "name": "stdout",
     "output_type": "stream",
     "text": [
      "\u001b[1m Данные об электродах в файле data_arc_new \u001b[0m\n",
      "                key  Активная мощность  Реактивная мощность\n",
      "count  14876.000000       14876.000000         14876.000000\n",
      "mean    1615.220422           0.662752             0.438986\n",
      "std      934.571502           0.258885             5.873485\n",
      "min        1.000000           0.223120          -715.479924\n",
      "1%        33.000000           0.270028             0.193644\n",
      "10%      322.000000           0.369425             0.267902\n",
      "25%      806.000000           0.467115             0.337175\n",
      "50%     1617.000000           0.599587             0.441639\n",
      "75%     2429.000000           0.830070             0.608201\n",
      "90%     2913.000000           1.041155             0.775249\n",
      "99%     3205.000000           1.335955             1.032311\n",
      "max     3241.000000           1.463773             1.270284\n",
      "\u001b[1m Данные о подаче сыпучих материалов (объём) в файле data_bulk_new \u001b[0m\n",
      "               key      Bulk 1      Bulk 2       Bulk 3       Bulk 4  \\\n",
      "count  3129.000000  252.000000   22.000000  1298.000000  1014.000000   \n",
      "mean   1624.383509   39.242063  253.045455   113.879045   104.394477   \n",
      "std     933.337642   18.277654   21.180578    75.483494    48.184126   \n",
      "min       1.000000   10.000000  228.000000     6.000000    12.000000   \n",
      "1%       32.280000   17.530000  228.000000    19.000000    19.000000   \n",
      "10%     334.800000   27.000000  232.100000    30.700000    46.000000   \n",
      "25%     816.000000   27.000000  242.000000    58.000000    72.000000   \n",
      "50%    1622.000000   31.000000  251.500000    97.500000   102.000000   \n",
      "75%    2431.000000   46.000000  257.750000   152.000000   133.000000   \n",
      "90%    2921.200000   54.000000  270.000000   224.000000   166.000000   \n",
      "99%    3208.720000   98.900000  315.970000   343.180000   239.000000   \n",
      "max    3241.000000  185.000000  325.000000   454.000000   281.000000   \n",
      "\n",
      "           Bulk 5      Bulk 6      Bulk 7  Bulk 8      Bulk 9     Bulk 10  \\\n",
      "count   77.000000  576.000000   25.000000     1.0   19.000000  176.000000   \n",
      "mean   107.025974  118.925347  305.600000    49.0   76.315789   83.284091   \n",
      "std     81.790646   72.057776  191.022904     NaN   21.720581   26.060347   \n",
      "min     11.000000   17.000000   47.000000    49.0   63.000000   24.000000   \n",
      "1%      16.320000   25.000000   47.720000    49.0   63.360000   27.500000   \n",
      "10%     33.000000   46.000000   62.400000    49.0   65.000000   49.500000   \n",
      "25%     70.000000   69.750000  155.000000    49.0   66.000000   64.000000   \n",
      "50%     86.000000  100.000000  298.000000    49.0   68.000000   86.500000   \n",
      "75%    132.000000  157.000000  406.000000    49.0   70.500000  102.000000   \n",
      "90%    184.000000  216.500000  534.600000    49.0  108.600000  110.500000   \n",
      "99%    367.400000  351.750000  724.960000    49.0  140.520000  148.750000   \n",
      "max    603.000000  503.000000  772.000000    49.0  147.000000  159.000000   \n",
      "\n",
      "          Bulk 11      Bulk 12     Bulk 13      Bulk 14      Bulk 15  \n",
      "count  177.000000  2450.000000   18.000000  2806.000000  2248.000000  \n",
      "mean    76.819209   260.471020  181.111111   170.284747   160.513345  \n",
      "std     59.655365   120.649269   46.088009    65.868652    51.765319  \n",
      "min      8.000000    53.000000  151.000000    16.000000     1.000000  \n",
      "1%      14.000000   103.000000  151.170000    90.000000    54.000000  \n",
      "10%     18.000000   125.900000  152.700000   101.000000   103.000000  \n",
      "25%     25.000000   204.000000  153.250000   119.000000   105.000000  \n",
      "50%     64.000000   208.000000  155.500000   151.000000   160.000000  \n",
      "75%    106.000000   316.000000  203.500000   205.750000   205.000000  \n",
      "90%    159.600000   420.000000  233.200000   254.500000   211.000000  \n",
      "99%    229.840000   570.000000  300.410000   374.800000   240.000000  \n",
      "max    313.000000  1849.000000  305.000000   636.000000   405.000000  \n",
      "\u001b[1m Данные о подаче сыпучих материалов (время) в файле data_bulk_time_new \u001b[0m\n",
      "               key\n",
      "count  3129.000000\n",
      "mean   1624.383509\n",
      "std     933.337642\n",
      "min       1.000000\n",
      "1%       32.280000\n",
      "10%     334.800000\n",
      "25%     816.000000\n",
      "50%    1622.000000\n",
      "75%    2431.000000\n",
      "90%    2921.200000\n",
      "99%    3208.720000\n",
      "max    3241.000000\n",
      "\u001b[1m Данные о продувке сплава газом в файле data_gas_new \u001b[0m\n",
      "               key        Газ 1\n",
      "count  3239.000000  3239.000000\n",
      "mean   1621.861377    11.002062\n",
      "std     935.386334     6.220327\n",
      "min       1.000000     0.008399\n",
      "1%       33.380000     1.132655\n",
      "10%     326.800000     4.743129\n",
      "25%     812.500000     7.043089\n",
      "50%    1622.000000     9.836267\n",
      "75%    2431.500000    13.769915\n",
      "90%    2917.200000    18.550515\n",
      "99%    3208.620000    31.558630\n",
      "max    3241.000000    77.995040\n",
      "\u001b[1m Результаты измерения температуры в файле data_temp_new \u001b[0m\n",
      "                key   Температура\n",
      "count  18092.000000  14665.000000\n",
      "mean    1616.460977   1590.722741\n",
      "std      934.641385     20.394381\n",
      "min        1.000000   1191.000000\n",
      "1%        33.000000   1545.000000\n",
      "10%      322.000000   1570.000000\n",
      "25%      807.750000   1580.000000\n",
      "50%     1618.000000   1590.000000\n",
      "75%     2429.000000   1599.000000\n",
      "90%     2913.900000   1614.000000\n",
      "99%     3206.000000   1651.000000\n",
      "max     3241.000000   1705.000000\n",
      "\u001b[1m Данные о проволочных материалах (объём) в файле data_wire_new \u001b[0m\n",
      "               key       Wire 1       Wire 2      Wire 3      Wire 4  Wire 5  \\\n",
      "count  3081.000000  3055.000000  1079.000000   63.000000   14.000000   1.000   \n",
      "mean   1623.426485   100.895853    50.577323  189.482681   57.442841  15.132   \n",
      "std     932.996726    42.012518    39.320216   99.513444   28.824667     NaN   \n",
      "min       1.000000     1.918800     0.030160    0.144144   24.148801  15.132   \n",
      "1%       31.800000    13.060320     4.125285    0.144144   24.276700  15.132   \n",
      "10%     334.000000    47.083295    10.875696   90.724239   27.547522  15.132   \n",
      "25%     823.000000    72.115684    20.193680   95.135044   40.807002  15.132   \n",
      "50%    1619.000000   100.158234    40.142956  235.194977   45.234282  15.132   \n",
      "75%    2434.000000   126.060483    70.227558  276.252014   76.124619  15.132   \n",
      "90%    2925.000000   155.151366   103.183386  283.012333   99.895538  15.132   \n",
      "99%    3210.200000   209.267394   181.311065  349.188221  111.905543  15.132   \n",
      "max    3241.000000   330.314424   282.780152  385.008668  113.231044  15.132   \n",
      "\n",
      "           Wire 6     Wire 7      Wire 8     Wire 9  \n",
      "count   73.000000  11.000000   19.000000  29.000000  \n",
      "mean    48.016974  10.039007   53.625193  34.155752  \n",
      "std     33.919845   8.610584   16.881728  19.931616  \n",
      "min      0.034320   0.234208   45.076721   4.622800  \n",
      "1%       0.108451   0.316181   45.076721   5.499313  \n",
      "10%     13.274977   1.053936   45.298865  10.039120  \n",
      "25%     25.053600   6.762756   46.094879  22.058401  \n",
      "50%     42.076324   9.017009   46.279999  30.066399  \n",
      "75%     64.212723  11.886057   48.089603  43.862003  \n",
      "90%     80.521594  12.354473   73.844374  62.229440  \n",
      "99%    155.027565  30.798354  101.409133  82.491139  \n",
      "max    180.454575  32.847674  102.762401  90.053604  \n",
      "\u001b[1m Данные о проволочных материалах (время) в файле data_wire_time_new \u001b[0m\n",
      "               key\n",
      "count  3081.000000\n",
      "mean   1623.426485\n",
      "std     932.996726\n",
      "min       1.000000\n",
      "1%       31.800000\n",
      "10%     334.000000\n",
      "25%     823.000000\n",
      "50%    1619.000000\n",
      "75%    2434.000000\n",
      "90%    2925.000000\n",
      "99%    3210.200000\n",
      "max    3241.000000\n"
     ]
    }
   ],
   "source": [
    "for i in file_name:\n",
    "    print(f'\\033[1m {i[1]} в файле {i[0]} \\033[0m')\n",
    "    print(data[i[0]].describe(percentiles=[.01,.10,.25,.5,.75,.90,.99]))"
   ]
  },
  {
   "cell_type": "markdown",
   "id": "2a4c3b42",
   "metadata": {},
   "source": [
    "Построим бокс плоты для данных."
   ]
  },
  {
   "cell_type": "code",
   "execution_count": 8,
   "id": "65c79444",
   "metadata": {
    "scrolled": true
   },
   "outputs": [
    {
     "data": {
      "image/png": "[encoded data removed]",
      "text/plain": [
       "<Figure size 720x720 with 2 Axes>"
      ]
     },
     "metadata": {
      "needs_background": "light"
     },
     "output_type": "display_data"
    },
    {
     "data": {
      "image/png": "[encoded data removed]",
      "text/plain": [
       "<Figure size 720x720 with 15 Axes>"
      ]
     },
     "metadata": {
      "needs_background": "light"
     },
     "output_type": "display_data"
    },
    {
     "data": {
      "image/png": "[encoded data removed]",
      "text/plain": [
       "<Figure size 720x720 with 1 Axes>"
      ]
     },
     "metadata": {
      "needs_background": "light"
     },
     "output_type": "display_data"
    },
    {
     "data": {
      "image/png": "[encoded data removed]",
      "text/plain": [
       "<Figure size 720x720 with 1 Axes>"
      ]
     },
     "metadata": {
      "needs_background": "light"
     },
     "output_type": "display_data"
    },
    {
     "data": {
      "image/png": "[encoded data removed]",
      "text/plain": [
       "<Figure size 720x720 with 9 Axes>"
      ]
     },
     "metadata": {
      "needs_background": "light"
     },
     "output_type": "display_data"
    }
   ],
   "source": [
    "for i in file_name:\n",
    "    if i[0] not in ['data_bulk_time_new','data_wire_time_new']:\n",
    "        data[i[0]][list(data[i[0]].columns[1:])].plot(kind='box',figsize=(10,10),subplots=True,rot = 0\n",
    "                                                      ,title=f'{i[1]} в файле {i[0]}');"
   ]
  },
  {
   "cell_type": "markdown",
   "id": "dec353d2",
   "metadata": {},
   "source": [
    "### Замечания к данным:\n",
    "1. Число партий различно в разных файлах (есть пропуски, должно быть 3241 партия, а не в одном датафрейме столько нет)- необходимо либо удалить пропущенные данные, либо восстановить используя медианное или среднее значение, для будущего объединения.  \n",
    "2. На boxplot явно видны аномальные выбросы в реактивной мощности(отрицательное значение) и в температуре(несколько низких значений, при том что плавление стали от 1300 градусов) и продувке газом (несколько завышенных значений) - либо удалить \"некорректные\" данные или заменить их на медианное или среднее значение.\n",
    "3. По суммарному просмотру статистических данных и boxplot среди объемов добавления \"аномалий\" не увидел. Большой разброс там присутствует-где очень много значений.(что возможно связано с технологическим процессом, можно уточнить у заказчика)\n",
    "4. Для указания времени изпользуется тип данных object. - требуется поменять тип данных\n",
    "5. Столбцы названы в разнобой, где-то кириллицей, где-то латиницей. - привести к общему виду.\n"
   ]
  },
  {
   "cell_type": "markdown",
   "id": "515820b4",
   "metadata": {},
   "source": [
    "### На данном этапе были сформировнны следующие вопросы для получения уточнения у заказчика:\n",
    "1. Если данные о подаче конкретных типов сыпучих материалов или проволоки отсутствуют, значит на этом шаге подача данных типов материалов отсутствовала?\n",
    "2. Вопрос об аномальных данных температуры 1200 градусов-может ли такая температура быть у доменной печи в рабочем состоянии ( при первом включении)\n",
    "3. Существуют ли нижние и верхние границы объема добавления сыпучих материалов и проволоки, для каждого материала по технологии? "
   ]
  },
  {
   "cell_type": "markdown",
   "id": "c8c69992",
   "metadata": {},
   "source": [
    "### Ответы:  \n",
    "1. Да, верно. И можно ставить 0 - нет присадок.  \n",
    "2. В случае с температурой плавления: по справочнику она у металла = около 1400+-, т.е. 1200 - действиетльно кажется очень странным значением. А 1450 и выше выглядит вполне рабочим, не смотря на статистические границы.  \n",
    "3. По регламенту на заводе точно есть. Но у нас в распоряжении - нет"
   ]
  },
  {
   "cell_type": "markdown",
   "id": "169d6b7d",
   "metadata": {},
   "source": [
    "### План работ:\n",
    "1. Очистить данные и объединить датафреймы.\n",
    "2. Продумать несколько моделей которые можно использовать. Т.к. показатель темпеатура-модель регрессионная. Продумать метрики.\n",
    "3. Проверить модели на валидационной выборке. Выбрать лучшую.\n",
    "4. Проверить модель на тестовой выборке.\n",
    "\n"
   ]
  },
  {
   "cell_type": "markdown",
   "id": "1036ebd4",
   "metadata": {},
   "source": [
    "# Часть 2.\n",
    "Цель - предобработка данных, построение модели."
   ]
  },
  {
   "cell_type": "markdown",
   "id": "20efff15",
   "metadata": {},
   "source": [
    "## Предобработка данных.\n",
    "### Исправление типа данных и имен столбцов."
   ]
  },
  {
   "cell_type": "code",
   "execution_count": 9,
   "id": "236d2a49",
   "metadata": {},
   "outputs": [],
   "source": [
    "data['data_arc_new'].columns = ['key','start_heating','stop_heating','active_power','reactive_power']\n",
    "data['data_temp_new'].columns = ['key','sample_time','temp']\n",
    "data['data_gas_new'].columns = ['key','gas_1']"
   ]
  },
  {
   "cell_type": "code",
   "execution_count": 10,
   "id": "a5ebfbd5",
   "metadata": {},
   "outputs": [],
   "source": [
    "for i in file_name:\n",
    "    data[i[0]].columns = [re.sub(r' ','_',i).lower() for i in data[i[0]].columns]\n",
    "    data[i[0]][data[i[0]].columns[data[i[0]].dtypes == 'object']] = data[i[0]][data[i[0]]\\\n",
    "                                                                               .columns[data[i[0]].dtypes == 'object']]\\\n",
    "                                                                                .apply(pd.to_datetime)\n",
    "    \n"
   ]
  },
  {
   "cell_type": "code",
   "execution_count": 11,
   "id": "8b341865",
   "metadata": {
    "scrolled": true
   },
   "outputs": [
    {
     "name": "stdout",
     "output_type": "stream",
     "text": [
      "\u001b[1m Данные об электродах в файле data_arc_new \u001b[0m\n",
      "<class 'pandas.core.frame.DataFrame'>\n",
      "RangeIndex: 14876 entries, 0 to 14875\n",
      "Data columns (total 5 columns):\n",
      " #   Column          Non-Null Count  Dtype         \n",
      "---  ------          --------------  -----         \n",
      " 0   key             14876 non-null  int64         \n",
      " 1   start_heating   14876 non-null  datetime64[ns]\n",
      " 2   stop_heating    14876 non-null  datetime64[ns]\n",
      " 3   active_power    14876 non-null  float64       \n",
      " 4   reactive_power  14876 non-null  float64       \n",
      "dtypes: datetime64[ns](2), float64(2), int64(1)\n",
      "memory usage: 581.2 KB\n",
      "\u001b[1m Данные о подаче сыпучих материалов (объём) в файле data_bulk_new \u001b[0m\n",
      "<class 'pandas.core.frame.DataFrame'>\n",
      "RangeIndex: 3129 entries, 0 to 3128\n",
      "Data columns (total 16 columns):\n",
      " #   Column   Non-Null Count  Dtype  \n",
      "---  ------   --------------  -----  \n",
      " 0   key      3129 non-null   int64  \n",
      " 1   bulk_1   252 non-null    float64\n",
      " 2   bulk_2   22 non-null     float64\n",
      " 3   bulk_3   1298 non-null   float64\n",
      " 4   bulk_4   1014 non-null   float64\n",
      " 5   bulk_5   77 non-null     float64\n",
      " 6   bulk_6   576 non-null    float64\n",
      " 7   bulk_7   25 non-null     float64\n",
      " 8   bulk_8   1 non-null      float64\n",
      " 9   bulk_9   19 non-null     float64\n",
      " 10  bulk_10  176 non-null    float64\n",
      " 11  bulk_11  177 non-null    float64\n",
      " 12  bulk_12  2450 non-null   float64\n",
      " 13  bulk_13  18 non-null     float64\n",
      " 14  bulk_14  2806 non-null   float64\n",
      " 15  bulk_15  2248 non-null   float64\n",
      "dtypes: float64(15), int64(1)\n",
      "memory usage: 391.2 KB\n",
      "\u001b[1m Данные о подаче сыпучих материалов (время) в файле data_bulk_time_new \u001b[0m\n",
      "<class 'pandas.core.frame.DataFrame'>\n",
      "RangeIndex: 3129 entries, 0 to 3128\n",
      "Data columns (total 16 columns):\n",
      " #   Column   Non-Null Count  Dtype         \n",
      "---  ------   --------------  -----         \n",
      " 0   key      3129 non-null   int64         \n",
      " 1   bulk_1   252 non-null    datetime64[ns]\n",
      " 2   bulk_2   22 non-null     datetime64[ns]\n",
      " 3   bulk_3   1298 non-null   datetime64[ns]\n",
      " 4   bulk_4   1014 non-null   datetime64[ns]\n",
      " 5   bulk_5   77 non-null     datetime64[ns]\n",
      " 6   bulk_6   576 non-null    datetime64[ns]\n",
      " 7   bulk_7   25 non-null     datetime64[ns]\n",
      " 8   bulk_8   1 non-null      datetime64[ns]\n",
      " 9   bulk_9   19 non-null     datetime64[ns]\n",
      " 10  bulk_10  176 non-null    datetime64[ns]\n",
      " 11  bulk_11  177 non-null    datetime64[ns]\n",
      " 12  bulk_12  2450 non-null   datetime64[ns]\n",
      " 13  bulk_13  18 non-null     datetime64[ns]\n",
      " 14  bulk_14  2806 non-null   datetime64[ns]\n",
      " 15  bulk_15  2248 non-null   datetime64[ns]\n",
      "dtypes: datetime64[ns](15), int64(1)\n",
      "memory usage: 391.2 KB\n",
      "\u001b[1m Данные о продувке сплава газом в файле data_gas_new \u001b[0m\n",
      "<class 'pandas.core.frame.DataFrame'>\n",
      "RangeIndex: 3239 entries, 0 to 3238\n",
      "Data columns (total 2 columns):\n",
      " #   Column  Non-Null Count  Dtype  \n",
      "---  ------  --------------  -----  \n",
      " 0   key     3239 non-null   int64  \n",
      " 1   gas_1   3239 non-null   float64\n",
      "dtypes: float64(1), int64(1)\n",
      "memory usage: 50.7 KB\n",
      "\u001b[1m Результаты измерения температуры в файле data_temp_new \u001b[0m\n",
      "<class 'pandas.core.frame.DataFrame'>\n",
      "RangeIndex: 18092 entries, 0 to 18091\n",
      "Data columns (total 3 columns):\n",
      " #   Column       Non-Null Count  Dtype         \n",
      "---  ------       --------------  -----         \n",
      " 0   key          18092 non-null  int64         \n",
      " 1   sample_time  18092 non-null  datetime64[ns]\n",
      " 2   temp         14665 non-null  float64       \n",
      "dtypes: datetime64[ns](1), float64(1), int64(1)\n",
      "memory usage: 424.2 KB\n",
      "\u001b[1m Данные о проволочных материалах (объём) в файле data_wire_new \u001b[0m\n",
      "<class 'pandas.core.frame.DataFrame'>\n",
      "RangeIndex: 3081 entries, 0 to 3080\n",
      "Data columns (total 10 columns):\n",
      " #   Column  Non-Null Count  Dtype  \n",
      "---  ------  --------------  -----  \n",
      " 0   key     3081 non-null   int64  \n",
      " 1   wire_1  3055 non-null   float64\n",
      " 2   wire_2  1079 non-null   float64\n",
      " 3   wire_3  63 non-null     float64\n",
      " 4   wire_4  14 non-null     float64\n",
      " 5   wire_5  1 non-null      float64\n",
      " 6   wire_6  73 non-null     float64\n",
      " 7   wire_7  11 non-null     float64\n",
      " 8   wire_8  19 non-null     float64\n",
      " 9   wire_9  29 non-null     float64\n",
      "dtypes: float64(9), int64(1)\n",
      "memory usage: 240.8 KB\n",
      "\u001b[1m Данные о проволочных материалах (время) в файле data_wire_time_new \u001b[0m\n",
      "<class 'pandas.core.frame.DataFrame'>\n",
      "RangeIndex: 3081 entries, 0 to 3080\n",
      "Data columns (total 10 columns):\n",
      " #   Column  Non-Null Count  Dtype         \n",
      "---  ------  --------------  -----         \n",
      " 0   key     3081 non-null   int64         \n",
      " 1   wire_1  3055 non-null   datetime64[ns]\n",
      " 2   wire_2  1079 non-null   datetime64[ns]\n",
      " 3   wire_3  63 non-null     datetime64[ns]\n",
      " 4   wire_4  14 non-null     datetime64[ns]\n",
      " 5   wire_5  1 non-null      datetime64[ns]\n",
      " 6   wire_6  73 non-null     datetime64[ns]\n",
      " 7   wire_7  11 non-null     datetime64[ns]\n",
      " 8   wire_8  19 non-null     datetime64[ns]\n",
      " 9   wire_9  29 non-null     datetime64[ns]\n",
      "dtypes: datetime64[ns](9), int64(1)\n",
      "memory usage: 240.8 KB\n"
     ]
    }
   ],
   "source": [
    "for i in file_name:\n",
    "    print(f'\\033[1m {i[1]} в файле {i[0]} \\033[0m')\n",
    "    data[i[0]].info()"
   ]
  },
  {
   "cell_type": "markdown",
   "id": "7b7a3992",
   "metadata": {},
   "source": [
    "### Создание объединенного dataframe модели (data_model) и заполнение его. \n",
    "#### Определение номеров партий (key) присутствующих во всех файлах"
   ]
  },
  {
   "cell_type": "code",
   "execution_count": 12,
   "id": "8146e6e6",
   "metadata": {},
   "outputs": [
    {
     "name": "stdout",
     "output_type": "stream",
     "text": [
      "3214\n",
      "3128\n",
      "3126\n",
      "3126\n",
      "3022\n"
     ]
    },
    {
     "data": {
      "text/plain": [
       "3022"
      ]
     },
     "execution_count": 12,
     "metadata": {},
     "output_type": "execute_result"
    }
   ],
   "source": [
    "key_model = set(data[file_name[0][0]]['key'].unique())\n",
    "for i in file_name: \n",
    "    if i[0] not in ['data_wire_time_new','data_bulk_time_new']:\n",
    "        key_model = key_model & set(data[i[0]][data[i[0]][data[i[0]].columns[1:]].sum(axis=1)!=0]['key'].unique())\n",
    "        print(len(key_model))\n",
    "len(key_model)"
   ]
  },
  {
   "cell_type": "code",
   "execution_count": 13,
   "id": "78cb712d",
   "metadata": {},
   "outputs": [
    {
     "data": {
      "text/plain": [
       "3022"
      ]
     },
     "execution_count": 13,
     "metadata": {},
     "output_type": "execute_result"
    }
   ],
   "source": [
    "key_model = set(data[file_name[0][0]]['key'].unique())\n",
    "for i in file_name[1:]:\n",
    "    key_model = key_model & set(data[i[0]]['key'].unique())\n",
    "len(key_model)"
   ]
  },
  {
   "cell_type": "code",
   "execution_count": 14,
   "id": "c04edc04",
   "metadata": {},
   "outputs": [
    {
     "name": "stdout",
     "output_type": "stream",
     "text": [
      "<class 'pandas.core.frame.DataFrame'>\n",
      "RangeIndex: 3022 entries, 0 to 3021\n",
      "Data columns (total 1 columns):\n",
      " #   Column  Non-Null Count  Dtype\n",
      "---  ------  --------------  -----\n",
      " 0   key     3022 non-null   int64\n",
      "dtypes: int64(1)\n",
      "memory usage: 23.7 KB\n"
     ]
    }
   ],
   "source": [
    "data_model = pd.DataFrame(key_model, columns = ['key'])\n",
    "data_model.info()"
   ]
  },
  {
   "cell_type": "markdown",
   "id": "331d8a70",
   "metadata": {},
   "source": [
    "#### Добавляем данные из файла data_arc_new"
   ]
  },
  {
   "cell_type": "code",
   "execution_count": 15,
   "id": "0e49e446",
   "metadata": {
    "scrolled": true
   },
   "outputs": [
    {
     "name": "stdout",
     "output_type": "stream",
     "text": [
      "<class 'pandas.core.frame.DataFrame'>\n",
      "RangeIndex: 14876 entries, 0 to 14875\n",
      "Data columns (total 5 columns):\n",
      " #   Column          Non-Null Count  Dtype         \n",
      "---  ------          --------------  -----         \n",
      " 0   key             14876 non-null  int64         \n",
      " 1   start_heating   14876 non-null  datetime64[ns]\n",
      " 2   stop_heating    14876 non-null  datetime64[ns]\n",
      " 3   active_power    14876 non-null  float64       \n",
      " 4   reactive_power  14876 non-null  float64       \n",
      "dtypes: datetime64[ns](2), float64(2), int64(1)\n",
      "memory usage: 581.2 KB\n"
     ]
    }
   ],
   "source": [
    "data_arc_new = data['data_arc_new'].copy()\n",
    "data_arc_new.info()"
   ]
  },
  {
   "cell_type": "markdown",
   "id": "685fb7bb",
   "metadata": {},
   "source": [
    "Додавим два интервала - интервал работы(нагрева) и интервал простоя(между нагревами)."
   ]
  },
  {
   "cell_type": "code",
   "execution_count": 16,
   "id": "8338ba9a",
   "metadata": {
    "scrolled": true
   },
   "outputs": [
    {
     "data": {
      "text/html": [
       "<div>\n",
       "<style scoped>\n",
       "    .dataframe tbody tr th:only-of-type {\n",
       "        vertical-align: middle;\n",
       "    }\n",
       "\n",
       "    .dataframe tbody tr th {\n",
       "        vertical-align: top;\n",
       "    }\n",
       "\n",
       "    .dataframe thead th {\n",
       "        text-align: right;\n",
       "    }\n",
       "</style>\n",
       "<table border=\"1\" class=\"dataframe\">\n",
       "  <thead>\n",
       "    <tr style=\"text-align: right;\">\n",
       "      <th></th>\n",
       "      <th>key</th>\n",
       "      <th>start_heating</th>\n",
       "      <th>stop_heating</th>\n",
       "      <th>active_power</th>\n",
       "      <th>reactive_power</th>\n",
       "      <th>interval_idle</th>\n",
       "      <th>interval_job</th>\n",
       "    </tr>\n",
       "  </thead>\n",
       "  <tbody>\n",
       "    <tr>\n",
       "      <th>0</th>\n",
       "      <td>1</td>\n",
       "      <td>2019-05-03 11:02:14</td>\n",
       "      <td>2019-05-03 11:06:02</td>\n",
       "      <td>0.305130</td>\n",
       "      <td>0.211253</td>\n",
       "      <td>NaN</td>\n",
       "      <td>228</td>\n",
       "    </tr>\n",
       "    <tr>\n",
       "      <th>1</th>\n",
       "      <td>1</td>\n",
       "      <td>2019-05-03 11:07:28</td>\n",
       "      <td>2019-05-03 11:10:33</td>\n",
       "      <td>0.765658</td>\n",
       "      <td>0.477438</td>\n",
       "      <td>86.0</td>\n",
       "      <td>185</td>\n",
       "    </tr>\n",
       "    <tr>\n",
       "      <th>2</th>\n",
       "      <td>1</td>\n",
       "      <td>2019-05-03 11:11:44</td>\n",
       "      <td>2019-05-03 11:14:36</td>\n",
       "      <td>0.580313</td>\n",
       "      <td>0.430460</td>\n",
       "      <td>71.0</td>\n",
       "      <td>172</td>\n",
       "    </tr>\n",
       "    <tr>\n",
       "      <th>3</th>\n",
       "      <td>1</td>\n",
       "      <td>2019-05-03 11:18:14</td>\n",
       "      <td>2019-05-03 11:24:19</td>\n",
       "      <td>0.518496</td>\n",
       "      <td>0.379979</td>\n",
       "      <td>218.0</td>\n",
       "      <td>365</td>\n",
       "    </tr>\n",
       "    <tr>\n",
       "      <th>4</th>\n",
       "      <td>1</td>\n",
       "      <td>2019-05-03 11:26:09</td>\n",
       "      <td>2019-05-03 11:28:37</td>\n",
       "      <td>0.867133</td>\n",
       "      <td>0.643691</td>\n",
       "      <td>110.0</td>\n",
       "      <td>148</td>\n",
       "    </tr>\n",
       "    <tr>\n",
       "      <th>5</th>\n",
       "      <td>2</td>\n",
       "      <td>2019-05-03 11:34:14</td>\n",
       "      <td>2019-05-03 11:36:31</td>\n",
       "      <td>0.381124</td>\n",
       "      <td>0.220351</td>\n",
       "      <td>NaN</td>\n",
       "      <td>137</td>\n",
       "    </tr>\n",
       "    <tr>\n",
       "      <th>6</th>\n",
       "      <td>2</td>\n",
       "      <td>2019-05-03 11:38:50</td>\n",
       "      <td>2019-05-03 11:44:28</td>\n",
       "      <td>0.261665</td>\n",
       "      <td>0.205527</td>\n",
       "      <td>139.0</td>\n",
       "      <td>338</td>\n",
       "    </tr>\n",
       "    <tr>\n",
       "      <th>7</th>\n",
       "      <td>2</td>\n",
       "      <td>2019-05-03 11:46:19</td>\n",
       "      <td>2019-05-03 11:48:25</td>\n",
       "      <td>0.710297</td>\n",
       "      <td>0.484962</td>\n",
       "      <td>111.0</td>\n",
       "      <td>126</td>\n",
       "    </tr>\n",
       "    <tr>\n",
       "      <th>8</th>\n",
       "      <td>2</td>\n",
       "      <td>2019-05-03 11:49:48</td>\n",
       "      <td>2019-05-03 11:53:18</td>\n",
       "      <td>0.786322</td>\n",
       "      <td>0.542517</td>\n",
       "      <td>83.0</td>\n",
       "      <td>210</td>\n",
       "    </tr>\n",
       "    <tr>\n",
       "      <th>9</th>\n",
       "      <td>3</td>\n",
       "      <td>2019-05-03 12:06:54</td>\n",
       "      <td>2019-05-03 12:11:34</td>\n",
       "      <td>1.101678</td>\n",
       "      <td>0.820856</td>\n",
       "      <td>NaN</td>\n",
       "      <td>280</td>\n",
       "    </tr>\n",
       "    <tr>\n",
       "      <th>10</th>\n",
       "      <td>3</td>\n",
       "      <td>2019-05-03 12:13:52</td>\n",
       "      <td>2019-05-03 12:15:56</td>\n",
       "      <td>0.542675</td>\n",
       "      <td>0.474673</td>\n",
       "      <td>138.0</td>\n",
       "      <td>124</td>\n",
       "    </tr>\n",
       "    <tr>\n",
       "      <th>11</th>\n",
       "      <td>3</td>\n",
       "      <td>2019-05-03 12:18:56</td>\n",
       "      <td>2019-05-03 12:20:45</td>\n",
       "      <td>0.774632</td>\n",
       "      <td>0.505690</td>\n",
       "      <td>180.0</td>\n",
       "      <td>109</td>\n",
       "    </tr>\n",
       "    <tr>\n",
       "      <th>12</th>\n",
       "      <td>3</td>\n",
       "      <td>2019-05-03 12:25:43</td>\n",
       "      <td>2019-05-03 12:27:00</td>\n",
       "      <td>1.222963</td>\n",
       "      <td>0.863676</td>\n",
       "      <td>298.0</td>\n",
       "      <td>77</td>\n",
       "    </tr>\n",
       "    <tr>\n",
       "      <th>13</th>\n",
       "      <td>3</td>\n",
       "      <td>2019-05-03 12:31:14</td>\n",
       "      <td>2019-05-03 12:32:19</td>\n",
       "      <td>0.421693</td>\n",
       "      <td>0.272562</td>\n",
       "      <td>254.0</td>\n",
       "      <td>65</td>\n",
       "    </tr>\n",
       "    <tr>\n",
       "      <th>14</th>\n",
       "      <td>4</td>\n",
       "      <td>2019-05-03 12:39:37</td>\n",
       "      <td>2019-05-03 12:43:04</td>\n",
       "      <td>0.642946</td>\n",
       "      <td>0.516071</td>\n",
       "      <td>NaN</td>\n",
       "      <td>207</td>\n",
       "    </tr>\n",
       "    <tr>\n",
       "      <th>15</th>\n",
       "      <td>4</td>\n",
       "      <td>2019-05-03 12:44:47</td>\n",
       "      <td>2019-05-03 12:46:26</td>\n",
       "      <td>0.310693</td>\n",
       "      <td>0.241781</td>\n",
       "      <td>103.0</td>\n",
       "      <td>99</td>\n",
       "    </tr>\n",
       "    <tr>\n",
       "      <th>16</th>\n",
       "      <td>4</td>\n",
       "      <td>2019-05-03 12:48:14</td>\n",
       "      <td>2019-05-03 12:50:51</td>\n",
       "      <td>0.887855</td>\n",
       "      <td>0.644479</td>\n",
       "      <td>108.0</td>\n",
       "      <td>157</td>\n",
       "    </tr>\n",
       "    <tr>\n",
       "      <th>17</th>\n",
       "      <td>4</td>\n",
       "      <td>2019-05-03 12:53:12</td>\n",
       "      <td>2019-05-03 12:57:50</td>\n",
       "      <td>0.864995</td>\n",
       "      <td>0.654661</td>\n",
       "      <td>141.0</td>\n",
       "      <td>278</td>\n",
       "    </tr>\n",
       "    <tr>\n",
       "      <th>18</th>\n",
       "      <td>5</td>\n",
       "      <td>2019-05-03 13:11:13</td>\n",
       "      <td>2019-05-03 13:15:24</td>\n",
       "      <td>0.324563</td>\n",
       "      <td>0.279102</td>\n",
       "      <td>NaN</td>\n",
       "      <td>251</td>\n",
       "    </tr>\n",
       "    <tr>\n",
       "      <th>19</th>\n",
       "      <td>5</td>\n",
       "      <td>2019-05-03 13:18:21</td>\n",
       "      <td>2019-05-03 13:20:33</td>\n",
       "      <td>0.573810</td>\n",
       "      <td>0.439417</td>\n",
       "      <td>177.0</td>\n",
       "      <td>132</td>\n",
       "    </tr>\n",
       "  </tbody>\n",
       "</table>\n",
       "</div>"
      ],
      "text/plain": [
       "    key       start_heating        stop_heating  active_power  reactive_power  \\\n",
       "0     1 2019-05-03 11:02:14 2019-05-03 11:06:02      0.305130        0.211253   \n",
       "1     1 2019-05-03 11:07:28 2019-05-03 11:10:33      0.765658        0.477438   \n",
       "2     1 2019-05-03 11:11:44 2019-05-03 11:14:36      0.580313        0.430460   \n",
       "3     1 2019-05-03 11:18:14 2019-05-03 11:24:19      0.518496        0.379979   \n",
       "4     1 2019-05-03 11:26:09 2019-05-03 11:28:37      0.867133        0.643691   \n",
       "5     2 2019-05-03 11:34:14 2019-05-03 11:36:31      0.381124        0.220351   \n",
       "6     2 2019-05-03 11:38:50 2019-05-03 11:44:28      0.261665        0.205527   \n",
       "7     2 2019-05-03 11:46:19 2019-05-03 11:48:25      0.710297        0.484962   \n",
       "8     2 2019-05-03 11:49:48 2019-05-03 11:53:18      0.786322        0.542517   \n",
       "9     3 2019-05-03 12:06:54 2019-05-03 12:11:34      1.101678        0.820856   \n",
       "10    3 2019-05-03 12:13:52 2019-05-03 12:15:56      0.542675        0.474673   \n",
       "11    3 2019-05-03 12:18:56 2019-05-03 12:20:45      0.774632        0.505690   \n",
       "12    3 2019-05-03 12:25:43 2019-05-03 12:27:00      1.222963        0.863676   \n",
       "13    3 2019-05-03 12:31:14 2019-05-03 12:32:19      0.421693        0.272562   \n",
       "14    4 2019-05-03 12:39:37 2019-05-03 12:43:04      0.642946        0.516071   \n",
       "15    4 2019-05-03 12:44:47 2019-05-03 12:46:26      0.310693        0.241781   \n",
       "16    4 2019-05-03 12:48:14 2019-05-03 12:50:51      0.887855        0.644479   \n",
       "17    4 2019-05-03 12:53:12 2019-05-03 12:57:50      0.864995        0.654661   \n",
       "18    5 2019-05-03 13:11:13 2019-05-03 13:15:24      0.324563        0.279102   \n",
       "19    5 2019-05-03 13:18:21 2019-05-03 13:20:33      0.573810        0.439417   \n",
       "\n",
       "    interval_idle  interval_job  \n",
       "0             NaN           228  \n",
       "1            86.0           185  \n",
       "2            71.0           172  \n",
       "3           218.0           365  \n",
       "4           110.0           148  \n",
       "5             NaN           137  \n",
       "6           139.0           338  \n",
       "7           111.0           126  \n",
       "8            83.0           210  \n",
       "9             NaN           280  \n",
       "10          138.0           124  \n",
       "11          180.0           109  \n",
       "12          298.0            77  \n",
       "13          254.0            65  \n",
       "14            NaN           207  \n",
       "15          103.0            99  \n",
       "16          108.0           157  \n",
       "17          141.0           278  \n",
       "18            NaN           251  \n",
       "19          177.0           132  "
      ]
     },
     "execution_count": 16,
     "metadata": {},
     "output_type": "execute_result"
    }
   ],
   "source": [
    "data_arc_new['interval_idle']=(data_arc_new[data_arc_new['key']==data_arc_new['key'].shift()]['start_heating']\n",
    "                     -data_arc_new['stop_heating'].shift()\n",
    "                    ).dt.seconds\n",
    "data_arc_new['interval_job'] = (data_arc_new['stop_heating']-data_arc_new['start_heating']).dt.seconds\n",
    "data_arc_new.head(20)"
   ]
  },
  {
   "cell_type": "markdown",
   "id": "108aec90",
   "metadata": {},
   "source": [
    "При исследовании установлено, что в значениях реактивной мощности(\"reactive_power\") имеются выбросы.  \n",
    "При моделировании не будем ее использовать, т.к. активная мощность - полещная мощность используемая на нагрев(что нам и требуется). (https://skat-ups.ru/vopros-otvet/activnaya-reactivnaya-mojnost/#:~:text=%D0%90%D0%BA%D1%82%D0%B8%D0%B2%D0%BD%D0%B0%D1%8F%20%D0%BC%D0%BE%D1%89%D0%BD%D0%BE%D1%81%D1%82%D1%8C%20%E2%80%94%20%D1%8D%D1%82%D0%BE%20%D0%BF%D0%BE%D0%BB%D0%B5%D0%B7%D0%BD%D0%B0%D1%8F%20%D1%87%D0%B0%D1%81%D1%82%D1%8C,%D0%B2%20%D0%B4%D1%80%D1%83%D0%B3%D0%B8%D0%B5%20%D0%BD%D0%B5%D0%BE%D0%B1%D1%85%D0%BE%D0%B4%D0%B8%D0%BC%D1%8B%D0%B5%20%D0%B2%D0%B8%D0%B4%D1%8B%20%D1%8D%D0%BD%D0%B5%D1%80%D0%B3%D0%B8%D0%B8.)  \n",
    "Введем дополнительный столбец-интервал работ умноженный на активную мощность."
   ]
  },
  {
   "cell_type": "code",
   "execution_count": 17,
   "id": "7f37d3b0",
   "metadata": {},
   "outputs": [
    {
     "data": {
      "text/html": [
       "<div>\n",
       "<style scoped>\n",
       "    .dataframe tbody tr th:only-of-type {\n",
       "        vertical-align: middle;\n",
       "    }\n",
       "\n",
       "    .dataframe tbody tr th {\n",
       "        vertical-align: top;\n",
       "    }\n",
       "\n",
       "    .dataframe thead th {\n",
       "        text-align: right;\n",
       "    }\n",
       "</style>\n",
       "<table border=\"1\" class=\"dataframe\">\n",
       "  <thead>\n",
       "    <tr style=\"text-align: right;\">\n",
       "      <th></th>\n",
       "      <th>key</th>\n",
       "      <th>start_heating</th>\n",
       "      <th>stop_heating</th>\n",
       "      <th>active_power</th>\n",
       "      <th>reactive_power</th>\n",
       "      <th>interval_idle</th>\n",
       "      <th>interval_job</th>\n",
       "      <th>active</th>\n",
       "    </tr>\n",
       "  </thead>\n",
       "  <tbody>\n",
       "    <tr>\n",
       "      <th>0</th>\n",
       "      <td>1</td>\n",
       "      <td>2019-05-03 11:02:14</td>\n",
       "      <td>2019-05-03 11:06:02</td>\n",
       "      <td>0.305130</td>\n",
       "      <td>0.211253</td>\n",
       "      <td>NaN</td>\n",
       "      <td>228</td>\n",
       "      <td>69.569640</td>\n",
       "    </tr>\n",
       "    <tr>\n",
       "      <th>1</th>\n",
       "      <td>1</td>\n",
       "      <td>2019-05-03 11:07:28</td>\n",
       "      <td>2019-05-03 11:10:33</td>\n",
       "      <td>0.765658</td>\n",
       "      <td>0.477438</td>\n",
       "      <td>86.0</td>\n",
       "      <td>185</td>\n",
       "      <td>141.646730</td>\n",
       "    </tr>\n",
       "    <tr>\n",
       "      <th>2</th>\n",
       "      <td>1</td>\n",
       "      <td>2019-05-03 11:11:44</td>\n",
       "      <td>2019-05-03 11:14:36</td>\n",
       "      <td>0.580313</td>\n",
       "      <td>0.430460</td>\n",
       "      <td>71.0</td>\n",
       "      <td>172</td>\n",
       "      <td>99.813836</td>\n",
       "    </tr>\n",
       "    <tr>\n",
       "      <th>3</th>\n",
       "      <td>1</td>\n",
       "      <td>2019-05-03 11:18:14</td>\n",
       "      <td>2019-05-03 11:24:19</td>\n",
       "      <td>0.518496</td>\n",
       "      <td>0.379979</td>\n",
       "      <td>218.0</td>\n",
       "      <td>365</td>\n",
       "      <td>189.251040</td>\n",
       "    </tr>\n",
       "    <tr>\n",
       "      <th>4</th>\n",
       "      <td>1</td>\n",
       "      <td>2019-05-03 11:26:09</td>\n",
       "      <td>2019-05-03 11:28:37</td>\n",
       "      <td>0.867133</td>\n",
       "      <td>0.643691</td>\n",
       "      <td>110.0</td>\n",
       "      <td>148</td>\n",
       "      <td>128.335684</td>\n",
       "    </tr>\n",
       "    <tr>\n",
       "      <th>5</th>\n",
       "      <td>2</td>\n",
       "      <td>2019-05-03 11:34:14</td>\n",
       "      <td>2019-05-03 11:36:31</td>\n",
       "      <td>0.381124</td>\n",
       "      <td>0.220351</td>\n",
       "      <td>NaN</td>\n",
       "      <td>137</td>\n",
       "      <td>52.213988</td>\n",
       "    </tr>\n",
       "    <tr>\n",
       "      <th>6</th>\n",
       "      <td>2</td>\n",
       "      <td>2019-05-03 11:38:50</td>\n",
       "      <td>2019-05-03 11:44:28</td>\n",
       "      <td>0.261665</td>\n",
       "      <td>0.205527</td>\n",
       "      <td>139.0</td>\n",
       "      <td>338</td>\n",
       "      <td>88.442770</td>\n",
       "    </tr>\n",
       "    <tr>\n",
       "      <th>7</th>\n",
       "      <td>2</td>\n",
       "      <td>2019-05-03 11:46:19</td>\n",
       "      <td>2019-05-03 11:48:25</td>\n",
       "      <td>0.710297</td>\n",
       "      <td>0.484962</td>\n",
       "      <td>111.0</td>\n",
       "      <td>126</td>\n",
       "      <td>89.497422</td>\n",
       "    </tr>\n",
       "    <tr>\n",
       "      <th>8</th>\n",
       "      <td>2</td>\n",
       "      <td>2019-05-03 11:49:48</td>\n",
       "      <td>2019-05-03 11:53:18</td>\n",
       "      <td>0.786322</td>\n",
       "      <td>0.542517</td>\n",
       "      <td>83.0</td>\n",
       "      <td>210</td>\n",
       "      <td>165.127620</td>\n",
       "    </tr>\n",
       "    <tr>\n",
       "      <th>9</th>\n",
       "      <td>3</td>\n",
       "      <td>2019-05-03 12:06:54</td>\n",
       "      <td>2019-05-03 12:11:34</td>\n",
       "      <td>1.101678</td>\n",
       "      <td>0.820856</td>\n",
       "      <td>NaN</td>\n",
       "      <td>280</td>\n",
       "      <td>308.469840</td>\n",
       "    </tr>\n",
       "  </tbody>\n",
       "</table>\n",
       "</div>"
      ],
      "text/plain": [
       "   key       start_heating        stop_heating  active_power  reactive_power  \\\n",
       "0    1 2019-05-03 11:02:14 2019-05-03 11:06:02      0.305130        0.211253   \n",
       "1    1 2019-05-03 11:07:28 2019-05-03 11:10:33      0.765658        0.477438   \n",
       "2    1 2019-05-03 11:11:44 2019-05-03 11:14:36      0.580313        0.430460   \n",
       "3    1 2019-05-03 11:18:14 2019-05-03 11:24:19      0.518496        0.379979   \n",
       "4    1 2019-05-03 11:26:09 2019-05-03 11:28:37      0.867133        0.643691   \n",
       "5    2 2019-05-03 11:34:14 2019-05-03 11:36:31      0.381124        0.220351   \n",
       "6    2 2019-05-03 11:38:50 2019-05-03 11:44:28      0.261665        0.205527   \n",
       "7    2 2019-05-03 11:46:19 2019-05-03 11:48:25      0.710297        0.484962   \n",
       "8    2 2019-05-03 11:49:48 2019-05-03 11:53:18      0.786322        0.542517   \n",
       "9    3 2019-05-03 12:06:54 2019-05-03 12:11:34      1.101678        0.820856   \n",
       "\n",
       "   interval_idle  interval_job      active  \n",
       "0            NaN           228   69.569640  \n",
       "1           86.0           185  141.646730  \n",
       "2           71.0           172   99.813836  \n",
       "3          218.0           365  189.251040  \n",
       "4          110.0           148  128.335684  \n",
       "5            NaN           137   52.213988  \n",
       "6          139.0           338   88.442770  \n",
       "7          111.0           126   89.497422  \n",
       "8           83.0           210  165.127620  \n",
       "9            NaN           280  308.469840  "
      ]
     },
     "execution_count": 17,
     "metadata": {},
     "output_type": "execute_result"
    }
   ],
   "source": [
    "data_arc_new['active'] = data_arc_new['active_power'] * data_arc_new['interval_job']\n",
    "data_arc_new.head(10)"
   ]
  },
  {
   "cell_type": "markdown",
   "id": "1f77501e",
   "metadata": {},
   "source": [
    "Сгруппируем теперь данные по партиям ('key')."
   ]
  },
  {
   "cell_type": "code",
   "execution_count": 18,
   "id": "d729c346",
   "metadata": {},
   "outputs": [
    {
     "data": {
      "text/html": [
       "<div>\n",
       "<style scoped>\n",
       "    .dataframe tbody tr th:only-of-type {\n",
       "        vertical-align: middle;\n",
       "    }\n",
       "\n",
       "    .dataframe tbody tr th {\n",
       "        vertical-align: top;\n",
       "    }\n",
       "\n",
       "    .dataframe thead th {\n",
       "        text-align: right;\n",
       "    }\n",
       "</style>\n",
       "<table border=\"1\" class=\"dataframe\">\n",
       "  <thead>\n",
       "    <tr style=\"text-align: right;\">\n",
       "      <th></th>\n",
       "      <th>interval_idle</th>\n",
       "      <th>active_power</th>\n",
       "    </tr>\n",
       "    <tr>\n",
       "      <th>key</th>\n",
       "      <th></th>\n",
       "      <th></th>\n",
       "    </tr>\n",
       "  </thead>\n",
       "  <tbody>\n",
       "    <tr>\n",
       "      <th>1</th>\n",
       "      <td>485.0</td>\n",
       "      <td>628.616930</td>\n",
       "    </tr>\n",
       "    <tr>\n",
       "      <th>2</th>\n",
       "      <td>333.0</td>\n",
       "      <td>395.281800</td>\n",
       "    </tr>\n",
       "    <tr>\n",
       "      <th>3</th>\n",
       "      <td>870.0</td>\n",
       "      <td>581.774624</td>\n",
       "    </tr>\n",
       "    <tr>\n",
       "      <th>4</th>\n",
       "      <td>352.0</td>\n",
       "      <td>543.710274</td>\n",
       "    </tr>\n",
       "    <tr>\n",
       "      <th>5</th>\n",
       "      <td>493.0</td>\n",
       "      <td>412.180480</td>\n",
       "    </tr>\n",
       "  </tbody>\n",
       "</table>\n",
       "</div>"
      ],
      "text/plain": [
       "     interval_idle  active_power\n",
       "key                             \n",
       "1            485.0    628.616930\n",
       "2            333.0    395.281800\n",
       "3            870.0    581.774624\n",
       "4            352.0    543.710274\n",
       "5            493.0    412.180480"
      ]
     },
     "execution_count": 18,
     "metadata": {},
     "output_type": "execute_result"
    }
   ],
   "source": [
    "data_arc_new_group = data_arc_new.groupby('key')[['interval_idle','active']].sum()\n",
    "data_arc_new_group.columns = ['interval_idle','active_power']\n",
    "data_arc_new_group.head()"
   ]
  },
  {
   "cell_type": "markdown",
   "id": "b4c93e6b",
   "metadata": {},
   "source": [
    "Добавим данные в data_model."
   ]
  },
  {
   "cell_type": "code",
   "execution_count": 19,
   "id": "fecaa77d",
   "metadata": {},
   "outputs": [
    {
     "name": "stdout",
     "output_type": "stream",
     "text": [
      "<class 'pandas.core.frame.DataFrame'>\n",
      "Int64Index: 3022 entries, 0 to 3021\n",
      "Data columns (total 3 columns):\n",
      " #   Column         Non-Null Count  Dtype  \n",
      "---  ------         --------------  -----  \n",
      " 0   key            3022 non-null   int64  \n",
      " 1   interval_idle  3022 non-null   float64\n",
      " 2   active_power   3022 non-null   float64\n",
      "dtypes: float64(2), int64(1)\n",
      "memory usage: 94.4 KB\n"
     ]
    }
   ],
   "source": [
    "data_model = data_model.merge(data_arc_new_group, on='key', how='left')\n",
    "data_model.info()"
   ]
  },
  {
   "cell_type": "code",
   "execution_count": 20,
   "id": "efeb8826",
   "metadata": {},
   "outputs": [
    {
     "data": {
      "text/html": [
       "<div>\n",
       "<style scoped>\n",
       "    .dataframe tbody tr th:only-of-type {\n",
       "        vertical-align: middle;\n",
       "    }\n",
       "\n",
       "    .dataframe tbody tr th {\n",
       "        vertical-align: top;\n",
       "    }\n",
       "\n",
       "    .dataframe thead th {\n",
       "        text-align: right;\n",
       "    }\n",
       "</style>\n",
       "<table border=\"1\" class=\"dataframe\">\n",
       "  <thead>\n",
       "    <tr style=\"text-align: right;\">\n",
       "      <th></th>\n",
       "      <th>key</th>\n",
       "      <th>interval_idle</th>\n",
       "      <th>active_power</th>\n",
       "    </tr>\n",
       "  </thead>\n",
       "  <tbody>\n",
       "    <tr>\n",
       "      <th>0</th>\n",
       "      <td>1</td>\n",
       "      <td>485.0</td>\n",
       "      <td>628.616930</td>\n",
       "    </tr>\n",
       "    <tr>\n",
       "      <th>1</th>\n",
       "      <td>2</td>\n",
       "      <td>333.0</td>\n",
       "      <td>395.281800</td>\n",
       "    </tr>\n",
       "    <tr>\n",
       "      <th>2</th>\n",
       "      <td>3</td>\n",
       "      <td>870.0</td>\n",
       "      <td>581.774624</td>\n",
       "    </tr>\n",
       "    <tr>\n",
       "      <th>3</th>\n",
       "      <td>4</td>\n",
       "      <td>352.0</td>\n",
       "      <td>543.710274</td>\n",
       "    </tr>\n",
       "    <tr>\n",
       "      <th>4</th>\n",
       "      <td>5</td>\n",
       "      <td>493.0</td>\n",
       "      <td>412.180480</td>\n",
       "    </tr>\n",
       "  </tbody>\n",
       "</table>\n",
       "</div>"
      ],
      "text/plain": [
       "   key  interval_idle  active_power\n",
       "0    1          485.0    628.616930\n",
       "1    2          333.0    395.281800\n",
       "2    3          870.0    581.774624\n",
       "3    4          352.0    543.710274\n",
       "4    5          493.0    412.180480"
      ]
     },
     "execution_count": 20,
     "metadata": {},
     "output_type": "execute_result"
    }
   ],
   "source": [
    "data_model.head()"
   ]
  },
  {
   "cell_type": "markdown",
   "id": "5bdf42bc",
   "metadata": {},
   "source": [
    "#### Добавляем данные из файла data_bulk_new"
   ]
  },
  {
   "cell_type": "code",
   "execution_count": 21,
   "id": "ced214e9",
   "metadata": {},
   "outputs": [
    {
     "name": "stdout",
     "output_type": "stream",
     "text": [
      "<class 'pandas.core.frame.DataFrame'>\n",
      "RangeIndex: 3129 entries, 0 to 3128\n",
      "Data columns (total 16 columns):\n",
      " #   Column   Non-Null Count  Dtype  \n",
      "---  ------   --------------  -----  \n",
      " 0   key      3129 non-null   int64  \n",
      " 1   bulk_1   252 non-null    float64\n",
      " 2   bulk_2   22 non-null     float64\n",
      " 3   bulk_3   1298 non-null   float64\n",
      " 4   bulk_4   1014 non-null   float64\n",
      " 5   bulk_5   77 non-null     float64\n",
      " 6   bulk_6   576 non-null    float64\n",
      " 7   bulk_7   25 non-null     float64\n",
      " 8   bulk_8   1 non-null      float64\n",
      " 9   bulk_9   19 non-null     float64\n",
      " 10  bulk_10  176 non-null    float64\n",
      " 11  bulk_11  177 non-null    float64\n",
      " 12  bulk_12  2450 non-null   float64\n",
      " 13  bulk_13  18 non-null     float64\n",
      " 14  bulk_14  2806 non-null   float64\n",
      " 15  bulk_15  2248 non-null   float64\n",
      "dtypes: float64(15), int64(1)\n",
      "memory usage: 391.2 KB\n"
     ]
    }
   ],
   "source": [
    "data_bulk = data['data_bulk_new']\n",
    "data_bulk.info()"
   ]
  },
  {
   "cell_type": "markdown",
   "id": "633dcc3d",
   "metadata": {},
   "source": [
    "Объединим столбцы с заполненностью меннее 500 и удалим их."
   ]
  },
  {
   "cell_type": "code",
   "execution_count": 22,
   "id": "d9e1dd49",
   "metadata": {},
   "outputs": [
    {
     "name": "stdout",
     "output_type": "stream",
     "text": [
      "<class 'pandas.core.frame.DataFrame'>\n",
      "RangeIndex: 3129 entries, 0 to 3128\n",
      "Data columns (total 8 columns):\n",
      " #   Column      Non-Null Count  Dtype  \n",
      "---  ------      --------------  -----  \n",
      " 0   key         3129 non-null   int64  \n",
      " 1   bulk_3      1298 non-null   float64\n",
      " 2   bulk_4      1014 non-null   float64\n",
      " 3   bulk_6      576 non-null    float64\n",
      " 4   bulk_12     2450 non-null   float64\n",
      " 5   bulk_14     2806 non-null   float64\n",
      " 6   bulk_15     2248 non-null   float64\n",
      " 7   other_bulk  3129 non-null   float64\n",
      "dtypes: float64(7), int64(1)\n",
      "memory usage: 195.7 KB\n"
     ]
    }
   ],
   "source": [
    "list_bulk = ['bulk_1','bulk_2','bulk_5','bulk_7','bulk_8','bulk_9','bulk_10','bulk_11','bulk_13']\n",
    "data_bulk['other_bulk'] = data_bulk[list_bulk].sum(axis=1)\n",
    "data_bulk = data_bulk.drop(columns=list_bulk,axis=1)\n",
    "data_bulk.info()"
   ]
  },
  {
   "cell_type": "code",
   "execution_count": 23,
   "id": "ab070d6d",
   "metadata": {},
   "outputs": [
    {
     "name": "stdout",
     "output_type": "stream",
     "text": [
      "<class 'pandas.core.frame.DataFrame'>\n",
      "Int64Index: 3022 entries, 0 to 3021\n",
      "Data columns (total 10 columns):\n",
      " #   Column         Non-Null Count  Dtype  \n",
      "---  ------         --------------  -----  \n",
      " 0   key            3022 non-null   int64  \n",
      " 1   interval_idle  3022 non-null   float64\n",
      " 2   active_power   3022 non-null   float64\n",
      " 3   bulk_3         1293 non-null   float64\n",
      " 4   bulk_4         1012 non-null   float64\n",
      " 5   bulk_6         570 non-null    float64\n",
      " 6   bulk_12        2356 non-null   float64\n",
      " 7   bulk_14        2709 non-null   float64\n",
      " 8   bulk_15        2234 non-null   float64\n",
      " 9   other_bulk     3022 non-null   float64\n",
      "dtypes: float64(9), int64(1)\n",
      "memory usage: 259.7 KB\n"
     ]
    }
   ],
   "source": [
    "data_model = data_model.merge(data_bulk, on='key', how='left')\n",
    "\n",
    "data_model.info()"
   ]
  },
  {
   "cell_type": "markdown",
   "id": "5dc27b16",
   "metadata": {},
   "source": [
    "#### Добавляем данные из файла data_wire_new"
   ]
  },
  {
   "cell_type": "code",
   "execution_count": 24,
   "id": "4abce447",
   "metadata": {},
   "outputs": [
    {
     "name": "stdout",
     "output_type": "stream",
     "text": [
      "<class 'pandas.core.frame.DataFrame'>\n",
      "RangeIndex: 3081 entries, 0 to 3080\n",
      "Data columns (total 10 columns):\n",
      " #   Column  Non-Null Count  Dtype  \n",
      "---  ------  --------------  -----  \n",
      " 0   key     3081 non-null   int64  \n",
      " 1   wire_1  3055 non-null   float64\n",
      " 2   wire_2  1079 non-null   float64\n",
      " 3   wire_3  63 non-null     float64\n",
      " 4   wire_4  14 non-null     float64\n",
      " 5   wire_5  1 non-null      float64\n",
      " 6   wire_6  73 non-null     float64\n",
      " 7   wire_7  11 non-null     float64\n",
      " 8   wire_8  19 non-null     float64\n",
      " 9   wire_9  29 non-null     float64\n",
      "dtypes: float64(9), int64(1)\n",
      "memory usage: 240.8 KB\n"
     ]
    }
   ],
   "source": [
    "data_wire = data['data_wire_new']\n",
    "data_wire.info()"
   ]
  },
  {
   "cell_type": "markdown",
   "id": "8a334b2b",
   "metadata": {},
   "source": [
    "Объединим столбцы с заполненностью меннее 500 и удалим их."
   ]
  },
  {
   "cell_type": "code",
   "execution_count": 25,
   "id": "fe45c15f",
   "metadata": {},
   "outputs": [
    {
     "name": "stdout",
     "output_type": "stream",
     "text": [
      "<class 'pandas.core.frame.DataFrame'>\n",
      "RangeIndex: 3081 entries, 0 to 3080\n",
      "Data columns (total 4 columns):\n",
      " #   Column      Non-Null Count  Dtype  \n",
      "---  ------      --------------  -----  \n",
      " 0   key         3081 non-null   int64  \n",
      " 1   wire_1      3055 non-null   float64\n",
      " 2   wire_2      1079 non-null   float64\n",
      " 3   other_wire  3081 non-null   float64\n",
      "dtypes: float64(3), int64(1)\n",
      "memory usage: 96.4 KB\n"
     ]
    }
   ],
   "source": [
    "list_wire = ['wire_3','wire_4','wire_5','wire_6','wire_7','wire_8','wire_9']\n",
    "data_wire['other_wire'] = data_wire[list_wire].sum(axis=1)\n",
    "data_wire = data_wire.drop(columns=list_wire,axis=1)\n",
    "data_wire.info()\n"
   ]
  },
  {
   "cell_type": "code",
   "execution_count": 26,
   "id": "eb75c6ec",
   "metadata": {},
   "outputs": [
    {
     "name": "stdout",
     "output_type": "stream",
     "text": [
      "<class 'pandas.core.frame.DataFrame'>\n",
      "Int64Index: 3022 entries, 0 to 3021\n",
      "Data columns (total 13 columns):\n",
      " #   Column         Non-Null Count  Dtype  \n",
      "---  ------         --------------  -----  \n",
      " 0   key            3022 non-null   int64  \n",
      " 1   interval_idle  3022 non-null   float64\n",
      " 2   active_power   3022 non-null   float64\n",
      " 3   bulk_3         1293 non-null   float64\n",
      " 4   bulk_4         1012 non-null   float64\n",
      " 5   bulk_6         570 non-null    float64\n",
      " 6   bulk_12        2356 non-null   float64\n",
      " 7   bulk_14        2709 non-null   float64\n",
      " 8   bulk_15        2234 non-null   float64\n",
      " 9   other_bulk     3022 non-null   float64\n",
      " 10  wire_1         2997 non-null   float64\n",
      " 11  wire_2         1051 non-null   float64\n",
      " 12  other_wire     3022 non-null   float64\n",
      "dtypes: float64(12), int64(1)\n",
      "memory usage: 330.5 KB\n"
     ]
    }
   ],
   "source": [
    "data_model = data_model.merge(data_wire, on='key', how='left')\n",
    "\n",
    "data_model.info()"
   ]
  },
  {
   "cell_type": "markdown",
   "id": "ece063e2",
   "metadata": {},
   "source": [
    "#### Добавляем данные из файла data_gas_new"
   ]
  },
  {
   "cell_type": "code",
   "execution_count": 27,
   "id": "dc23896c",
   "metadata": {},
   "outputs": [
    {
     "name": "stdout",
     "output_type": "stream",
     "text": [
      "<class 'pandas.core.frame.DataFrame'>\n",
      "Int64Index: 3022 entries, 0 to 3021\n",
      "Data columns (total 14 columns):\n",
      " #   Column         Non-Null Count  Dtype  \n",
      "---  ------         --------------  -----  \n",
      " 0   key            3022 non-null   int64  \n",
      " 1   interval_idle  3022 non-null   float64\n",
      " 2   active_power   3022 non-null   float64\n",
      " 3   bulk_3         1293 non-null   float64\n",
      " 4   bulk_4         1012 non-null   float64\n",
      " 5   bulk_6         570 non-null    float64\n",
      " 6   bulk_12        2356 non-null   float64\n",
      " 7   bulk_14        2709 non-null   float64\n",
      " 8   bulk_15        2234 non-null   float64\n",
      " 9   other_bulk     3022 non-null   float64\n",
      " 10  wire_1         2997 non-null   float64\n",
      " 11  wire_2         1051 non-null   float64\n",
      " 12  other_wire     3022 non-null   float64\n",
      " 13  gas_1          3022 non-null   float64\n",
      "dtypes: float64(13), int64(1)\n",
      "memory usage: 354.1 KB\n"
     ]
    }
   ],
   "source": [
    "data_model = data_model.merge(data['data_gas_new'], on='key', how='left')\n",
    "data_model.info()"
   ]
  },
  {
   "cell_type": "markdown",
   "id": "86c2b318",
   "metadata": {},
   "source": [
    "#### Добавляем данные из файла data_temp_new"
   ]
  },
  {
   "cell_type": "code",
   "execution_count": 28,
   "id": "9d800f2c",
   "metadata": {},
   "outputs": [
    {
     "data": {
      "text/html": [
       "<div>\n",
       "<style scoped>\n",
       "    .dataframe tbody tr th:only-of-type {\n",
       "        vertical-align: middle;\n",
       "    }\n",
       "\n",
       "    .dataframe tbody tr th {\n",
       "        vertical-align: top;\n",
       "    }\n",
       "\n",
       "    .dataframe thead th {\n",
       "        text-align: right;\n",
       "    }\n",
       "</style>\n",
       "<table border=\"1\" class=\"dataframe\">\n",
       "  <thead>\n",
       "    <tr style=\"text-align: right;\">\n",
       "      <th></th>\n",
       "      <th>key</th>\n",
       "      <th>sample_time</th>\n",
       "      <th>temp</th>\n",
       "    </tr>\n",
       "  </thead>\n",
       "  <tbody>\n",
       "    <tr>\n",
       "      <th>0</th>\n",
       "      <td>1</td>\n",
       "      <td>2019-05-03 11:02:04</td>\n",
       "      <td>1571.0</td>\n",
       "    </tr>\n",
       "    <tr>\n",
       "      <th>1</th>\n",
       "      <td>1</td>\n",
       "      <td>2019-05-03 11:07:18</td>\n",
       "      <td>1604.0</td>\n",
       "    </tr>\n",
       "    <tr>\n",
       "      <th>2</th>\n",
       "      <td>1</td>\n",
       "      <td>2019-05-03 11:11:34</td>\n",
       "      <td>1618.0</td>\n",
       "    </tr>\n",
       "    <tr>\n",
       "      <th>3</th>\n",
       "      <td>1</td>\n",
       "      <td>2019-05-03 11:18:04</td>\n",
       "      <td>1601.0</td>\n",
       "    </tr>\n",
       "    <tr>\n",
       "      <th>4</th>\n",
       "      <td>1</td>\n",
       "      <td>2019-05-03 11:25:59</td>\n",
       "      <td>1606.0</td>\n",
       "    </tr>\n",
       "    <tr>\n",
       "      <th>5</th>\n",
       "      <td>1</td>\n",
       "      <td>2019-05-03 11:30:38</td>\n",
       "      <td>1613.0</td>\n",
       "    </tr>\n",
       "    <tr>\n",
       "      <th>6</th>\n",
       "      <td>2</td>\n",
       "      <td>2019-05-03 11:34:04</td>\n",
       "      <td>1581.0</td>\n",
       "    </tr>\n",
       "    <tr>\n",
       "      <th>7</th>\n",
       "      <td>2</td>\n",
       "      <td>2019-05-03 11:38:40</td>\n",
       "      <td>1577.0</td>\n",
       "    </tr>\n",
       "    <tr>\n",
       "      <th>8</th>\n",
       "      <td>2</td>\n",
       "      <td>2019-05-03 11:46:09</td>\n",
       "      <td>1589.0</td>\n",
       "    </tr>\n",
       "    <tr>\n",
       "      <th>9</th>\n",
       "      <td>2</td>\n",
       "      <td>2019-05-03 11:49:38</td>\n",
       "      <td>1604.0</td>\n",
       "    </tr>\n",
       "  </tbody>\n",
       "</table>\n",
       "</div>"
      ],
      "text/plain": [
       "   key         sample_time    temp\n",
       "0    1 2019-05-03 11:02:04  1571.0\n",
       "1    1 2019-05-03 11:07:18  1604.0\n",
       "2    1 2019-05-03 11:11:34  1618.0\n",
       "3    1 2019-05-03 11:18:04  1601.0\n",
       "4    1 2019-05-03 11:25:59  1606.0\n",
       "5    1 2019-05-03 11:30:38  1613.0\n",
       "6    2 2019-05-03 11:34:04  1581.0\n",
       "7    2 2019-05-03 11:38:40  1577.0\n",
       "8    2 2019-05-03 11:46:09  1589.0\n",
       "9    2 2019-05-03 11:49:38  1604.0"
      ]
     },
     "execution_count": 28,
     "metadata": {},
     "output_type": "execute_result"
    }
   ],
   "source": [
    "data_temp = data['data_temp_new']\n",
    "data_temp.head(10)"
   ]
  },
  {
   "cell_type": "markdown",
   "id": "f0adc96d",
   "metadata": {},
   "source": []
  },
  {
   "cell_type": "markdown",
   "id": "2b4bb445",
   "metadata": {},
   "source": [
    "Заменим все нулевые значения на заведомо большое число(10000)."
   ]
  },
  {
   "cell_type": "code",
   "execution_count": 29,
   "id": "9a19e1be",
   "metadata": {},
   "outputs": [
    {
     "data": {
      "text/plain": [
       "3427"
      ]
     },
     "execution_count": 29,
     "metadata": {},
     "output_type": "execute_result"
    }
   ],
   "source": [
    "sum(data_temp['temp'].isnull())"
   ]
  },
  {
   "cell_type": "code",
   "execution_count": 30,
   "id": "c667281b",
   "metadata": {},
   "outputs": [
    {
     "data": {
      "text/plain": [
       "0"
      ]
     },
     "execution_count": 30,
     "metadata": {},
     "output_type": "execute_result"
    }
   ],
   "source": [
    "data_temp.loc[data_temp['temp'].isnull(),['temp']] = 10000\n",
    "sum(data_temp['temp'].isnull())"
   ]
  },
  {
   "cell_type": "markdown",
   "id": "09d82119",
   "metadata": {},
   "source": [
    "Выделим значение первой и последней температуры партии('key')"
   ]
  },
  {
   "cell_type": "code",
   "execution_count": 31,
   "id": "5e9442d8",
   "metadata": {},
   "outputs": [
    {
     "data": {
      "text/html": [
       "<div>\n",
       "<style scoped>\n",
       "    .dataframe tbody tr th:only-of-type {\n",
       "        vertical-align: middle;\n",
       "    }\n",
       "\n",
       "    .dataframe tbody tr th {\n",
       "        vertical-align: top;\n",
       "    }\n",
       "\n",
       "    .dataframe thead th {\n",
       "        text-align: right;\n",
       "    }\n",
       "</style>\n",
       "<table border=\"1\" class=\"dataframe\">\n",
       "  <thead>\n",
       "    <tr style=\"text-align: right;\">\n",
       "      <th></th>\n",
       "      <th>first_temp</th>\n",
       "      <th>last_temp</th>\n",
       "    </tr>\n",
       "    <tr>\n",
       "      <th>key</th>\n",
       "      <th></th>\n",
       "      <th></th>\n",
       "    </tr>\n",
       "  </thead>\n",
       "  <tbody>\n",
       "    <tr>\n",
       "      <th>1</th>\n",
       "      <td>1571.0</td>\n",
       "      <td>1613.0</td>\n",
       "    </tr>\n",
       "    <tr>\n",
       "      <th>2</th>\n",
       "      <td>1581.0</td>\n",
       "      <td>1602.0</td>\n",
       "    </tr>\n",
       "    <tr>\n",
       "      <th>3</th>\n",
       "      <td>1596.0</td>\n",
       "      <td>1599.0</td>\n",
       "    </tr>\n",
       "    <tr>\n",
       "      <th>4</th>\n",
       "      <td>1601.0</td>\n",
       "      <td>1625.0</td>\n",
       "    </tr>\n",
       "    <tr>\n",
       "      <th>5</th>\n",
       "      <td>1576.0</td>\n",
       "      <td>1602.0</td>\n",
       "    </tr>\n",
       "  </tbody>\n",
       "</table>\n",
       "</div>"
      ],
      "text/plain": [
       "     first_temp  last_temp\n",
       "key                       \n",
       "1        1571.0     1613.0\n",
       "2        1581.0     1602.0\n",
       "3        1596.0     1599.0\n",
       "4        1601.0     1625.0\n",
       "5        1576.0     1602.0"
      ]
     },
     "execution_count": 31,
     "metadata": {},
     "output_type": "execute_result"
    }
   ],
   "source": [
    "data_temp_fl = data_temp.groupby('key')[['temp']].agg(['first', 'last'])\n",
    "data_temp_fl.columns = ['first_temp','last_temp']\n",
    "data_temp_fl.head()"
   ]
  },
  {
   "cell_type": "code",
   "execution_count": 32,
   "id": "6a166eaa",
   "metadata": {},
   "outputs": [
    {
     "data": {
      "text/html": [
       "<div>\n",
       "<style scoped>\n",
       "    .dataframe tbody tr th:only-of-type {\n",
       "        vertical-align: middle;\n",
       "    }\n",
       "\n",
       "    .dataframe tbody tr th {\n",
       "        vertical-align: top;\n",
       "    }\n",
       "\n",
       "    .dataframe thead th {\n",
       "        text-align: right;\n",
       "    }\n",
       "</style>\n",
       "<table border=\"1\" class=\"dataframe\">\n",
       "  <thead>\n",
       "    <tr style=\"text-align: right;\">\n",
       "      <th></th>\n",
       "      <th>first_temp</th>\n",
       "      <th>last_temp</th>\n",
       "    </tr>\n",
       "    <tr>\n",
       "      <th>key</th>\n",
       "      <th></th>\n",
       "      <th></th>\n",
       "    </tr>\n",
       "  </thead>\n",
       "  <tbody>\n",
       "    <tr>\n",
       "      <th>1</th>\n",
       "      <td>1571.0</td>\n",
       "      <td>1613.0</td>\n",
       "    </tr>\n",
       "    <tr>\n",
       "      <th>2</th>\n",
       "      <td>1581.0</td>\n",
       "      <td>1602.0</td>\n",
       "    </tr>\n",
       "    <tr>\n",
       "      <th>3</th>\n",
       "      <td>1596.0</td>\n",
       "      <td>1599.0</td>\n",
       "    </tr>\n",
       "    <tr>\n",
       "      <th>4</th>\n",
       "      <td>1601.0</td>\n",
       "      <td>1625.0</td>\n",
       "    </tr>\n",
       "    <tr>\n",
       "      <th>5</th>\n",
       "      <td>1576.0</td>\n",
       "      <td>1602.0</td>\n",
       "    </tr>\n",
       "    <tr>\n",
       "      <th>...</th>\n",
       "      <td>...</td>\n",
       "      <td>...</td>\n",
       "    </tr>\n",
       "    <tr>\n",
       "      <th>3237</th>\n",
       "      <td>1569.0</td>\n",
       "      <td>10000.0</td>\n",
       "    </tr>\n",
       "    <tr>\n",
       "      <th>3238</th>\n",
       "      <td>1584.0</td>\n",
       "      <td>10000.0</td>\n",
       "    </tr>\n",
       "    <tr>\n",
       "      <th>3239</th>\n",
       "      <td>1598.0</td>\n",
       "      <td>10000.0</td>\n",
       "    </tr>\n",
       "    <tr>\n",
       "      <th>3240</th>\n",
       "      <td>1617.0</td>\n",
       "      <td>10000.0</td>\n",
       "    </tr>\n",
       "    <tr>\n",
       "      <th>3241</th>\n",
       "      <td>1586.0</td>\n",
       "      <td>10000.0</td>\n",
       "    </tr>\n",
       "  </tbody>\n",
       "</table>\n",
       "<p>3216 rows × 2 columns</p>\n",
       "</div>"
      ],
      "text/plain": [
       "      first_temp  last_temp\n",
       "key                        \n",
       "1         1571.0     1613.0\n",
       "2         1581.0     1602.0\n",
       "3         1596.0     1599.0\n",
       "4         1601.0     1625.0\n",
       "5         1576.0     1602.0\n",
       "...          ...        ...\n",
       "3237      1569.0    10000.0\n",
       "3238      1584.0    10000.0\n",
       "3239      1598.0    10000.0\n",
       "3240      1617.0    10000.0\n",
       "3241      1586.0    10000.0\n",
       "\n",
       "[3216 rows x 2 columns]"
      ]
     },
     "execution_count": 32,
     "metadata": {},
     "output_type": "execute_result"
    }
   ],
   "source": [
    "data_temp_fl"
   ]
  },
  {
   "cell_type": "code",
   "execution_count": 33,
   "id": "3dab71e8",
   "metadata": {
    "scrolled": true
   },
   "outputs": [
    {
     "name": "stdout",
     "output_type": "stream",
     "text": [
      "<class 'pandas.core.frame.DataFrame'>\n",
      "Int64Index: 3022 entries, 0 to 3021\n",
      "Data columns (total 16 columns):\n",
      " #   Column         Non-Null Count  Dtype  \n",
      "---  ------         --------------  -----  \n",
      " 0   key            3022 non-null   int64  \n",
      " 1   interval_idle  3022 non-null   float64\n",
      " 2   active_power   3022 non-null   float64\n",
      " 3   bulk_3         1293 non-null   float64\n",
      " 4   bulk_4         1012 non-null   float64\n",
      " 5   bulk_6         570 non-null    float64\n",
      " 6   bulk_12        2356 non-null   float64\n",
      " 7   bulk_14        2709 non-null   float64\n",
      " 8   bulk_15        2234 non-null   float64\n",
      " 9   other_bulk     3022 non-null   float64\n",
      " 10  wire_1         2997 non-null   float64\n",
      " 11  wire_2         1051 non-null   float64\n",
      " 12  other_wire     3022 non-null   float64\n",
      " 13  gas_1          3022 non-null   float64\n",
      " 14  first_temp     3022 non-null   float64\n",
      " 15  last_temp      3022 non-null   float64\n",
      "dtypes: float64(15), int64(1)\n",
      "memory usage: 401.4 KB\n"
     ]
    }
   ],
   "source": [
    "data_model = data_model.merge(data_temp_fl, on='key', how='left')\n",
    "data_model.info()"
   ]
  },
  {
   "cell_type": "markdown",
   "id": "0598f423",
   "metadata": {},
   "source": [
    "#### Проверим объединенный dataframe модели (data_model) \n",
    "При первичном анализе выявлены аномальные значения температуры (1200), проверим попали ли они в результирующий датасет."
   ]
  },
  {
   "cell_type": "code",
   "execution_count": 34,
   "id": "9f574223",
   "metadata": {},
   "outputs": [
    {
     "data": {
      "text/html": [
       "<div>\n",
       "<style scoped>\n",
       "    .dataframe tbody tr th:only-of-type {\n",
       "        vertical-align: middle;\n",
       "    }\n",
       "\n",
       "    .dataframe tbody tr th {\n",
       "        vertical-align: top;\n",
       "    }\n",
       "\n",
       "    .dataframe thead th {\n",
       "        text-align: right;\n",
       "    }\n",
       "</style>\n",
       "<table border=\"1\" class=\"dataframe\">\n",
       "  <thead>\n",
       "    <tr style=\"text-align: right;\">\n",
       "      <th></th>\n",
       "      <th>key</th>\n",
       "      <th>interval_idle</th>\n",
       "      <th>active_power</th>\n",
       "      <th>bulk_3</th>\n",
       "      <th>bulk_4</th>\n",
       "      <th>bulk_6</th>\n",
       "      <th>bulk_12</th>\n",
       "      <th>bulk_14</th>\n",
       "      <th>bulk_15</th>\n",
       "      <th>other_bulk</th>\n",
       "      <th>wire_1</th>\n",
       "      <th>wire_2</th>\n",
       "      <th>other_wire</th>\n",
       "      <th>gas_1</th>\n",
       "      <th>first_temp</th>\n",
       "      <th>last_temp</th>\n",
       "    </tr>\n",
       "  </thead>\n",
       "  <tbody>\n",
       "    <tr>\n",
       "      <th>799</th>\n",
       "      <td>867</td>\n",
       "      <td>1461.0</td>\n",
       "      <td>630.106995</td>\n",
       "      <td>264.0</td>\n",
       "      <td>NaN</td>\n",
       "      <td>NaN</td>\n",
       "      <td>206.0</td>\n",
       "      <td>117.0</td>\n",
       "      <td>104.0</td>\n",
       "      <td>0.0</td>\n",
       "      <td>158.511604</td>\n",
       "      <td>35.07608</td>\n",
       "      <td>0.0</td>\n",
       "      <td>11.616807</td>\n",
       "      <td>1191.0</td>\n",
       "      <td>1599.0</td>\n",
       "    </tr>\n",
       "    <tr>\n",
       "      <th>1124</th>\n",
       "      <td>1214</td>\n",
       "      <td>1388.0</td>\n",
       "      <td>449.831200</td>\n",
       "      <td>NaN</td>\n",
       "      <td>NaN</td>\n",
       "      <td>NaN</td>\n",
       "      <td>206.0</td>\n",
       "      <td>124.0</td>\n",
       "      <td>101.0</td>\n",
       "      <td>0.0</td>\n",
       "      <td>53.118000</td>\n",
       "      <td>NaN</td>\n",
       "      <td>0.0</td>\n",
       "      <td>12.933558</td>\n",
       "      <td>1208.0</td>\n",
       "      <td>1591.0</td>\n",
       "    </tr>\n",
       "    <tr>\n",
       "      <th>1511</th>\n",
       "      <td>1619</td>\n",
       "      <td>151.0</td>\n",
       "      <td>117.210974</td>\n",
       "      <td>45.0</td>\n",
       "      <td>NaN</td>\n",
       "      <td>NaN</td>\n",
       "      <td>NaN</td>\n",
       "      <td>NaN</td>\n",
       "      <td>NaN</td>\n",
       "      <td>0.0</td>\n",
       "      <td>155.141998</td>\n",
       "      <td>45.17968</td>\n",
       "      <td>0.0</td>\n",
       "      <td>4.542025</td>\n",
       "      <td>1218.0</td>\n",
       "      <td>1590.0</td>\n",
       "    </tr>\n",
       "    <tr>\n",
       "      <th>1919</th>\n",
       "      <td>2052</td>\n",
       "      <td>1300.0</td>\n",
       "      <td>323.934857</td>\n",
       "      <td>NaN</td>\n",
       "      <td>84.0</td>\n",
       "      <td>NaN</td>\n",
       "      <td>207.0</td>\n",
       "      <td>100.0</td>\n",
       "      <td>103.0</td>\n",
       "      <td>0.0</td>\n",
       "      <td>116.014076</td>\n",
       "      <td>NaN</td>\n",
       "      <td>0.0</td>\n",
       "      <td>8.639928</td>\n",
       "      <td>1227.0</td>\n",
       "      <td>1592.0</td>\n",
       "    </tr>\n",
       "    <tr>\n",
       "      <th>2390</th>\n",
       "      <td>2561</td>\n",
       "      <td>827.0</td>\n",
       "      <td>749.240102</td>\n",
       "      <td>NaN</td>\n",
       "      <td>150.0</td>\n",
       "      <td>NaN</td>\n",
       "      <td>204.0</td>\n",
       "      <td>148.0</td>\n",
       "      <td>104.0</td>\n",
       "      <td>0.0</td>\n",
       "      <td>164.193115</td>\n",
       "      <td>NaN</td>\n",
       "      <td>0.0</td>\n",
       "      <td>22.679999</td>\n",
       "      <td>1204.0</td>\n",
       "      <td>10000.0</td>\n",
       "    </tr>\n",
       "  </tbody>\n",
       "</table>\n",
       "</div>"
      ],
      "text/plain": [
       "       key  interval_idle  active_power  bulk_3  bulk_4  bulk_6  bulk_12  \\\n",
       "799    867         1461.0    630.106995   264.0     NaN     NaN    206.0   \n",
       "1124  1214         1388.0    449.831200     NaN     NaN     NaN    206.0   \n",
       "1511  1619          151.0    117.210974    45.0     NaN     NaN      NaN   \n",
       "1919  2052         1300.0    323.934857     NaN    84.0     NaN    207.0   \n",
       "2390  2561          827.0    749.240102     NaN   150.0     NaN    204.0   \n",
       "\n",
       "      bulk_14  bulk_15  other_bulk      wire_1    wire_2  other_wire  \\\n",
       "799     117.0    104.0         0.0  158.511604  35.07608         0.0   \n",
       "1124    124.0    101.0         0.0   53.118000       NaN         0.0   \n",
       "1511      NaN      NaN         0.0  155.141998  45.17968         0.0   \n",
       "1919    100.0    103.0         0.0  116.014076       NaN         0.0   \n",
       "2390    148.0    104.0         0.0  164.193115       NaN         0.0   \n",
       "\n",
       "          gas_1  first_temp  last_temp  \n",
       "799   11.616807      1191.0     1599.0  \n",
       "1124  12.933558      1208.0     1591.0  \n",
       "1511   4.542025      1218.0     1590.0  \n",
       "1919   8.639928      1227.0     1592.0  \n",
       "2390  22.679999      1204.0    10000.0  "
      ]
     },
     "execution_count": 34,
     "metadata": {},
     "output_type": "execute_result"
    }
   ],
   "source": [
    "data_model[(data_model['first_temp']<1300) | (data_model['last_temp']<1300)]"
   ]
  },
  {
   "cell_type": "markdown",
   "id": "884f7721",
   "metadata": {},
   "source": [
    "Удалим данные строки."
   ]
  },
  {
   "cell_type": "code",
   "execution_count": 35,
   "id": "4dfaa015",
   "metadata": {},
   "outputs": [],
   "source": [
    "data_model = data_model[(data_model['first_temp']>=1300) & (data_model['last_temp']>=1300)]"
   ]
  },
  {
   "cell_type": "markdown",
   "id": "0a1f07a2",
   "metadata": {},
   "source": [
    "Заменим Nan на 0."
   ]
  },
  {
   "cell_type": "code",
   "execution_count": 36,
   "id": "69f78d8e",
   "metadata": {},
   "outputs": [],
   "source": [
    "data_model = data_model.fillna(0)"
   ]
  },
  {
   "cell_type": "markdown",
   "id": "a631672c",
   "metadata": {},
   "source": [
    "##### Посмотрим на разброс параметров получившегося датасета"
   ]
  },
  {
   "cell_type": "code",
   "execution_count": 37,
   "id": "edd59937",
   "metadata": {},
   "outputs": [
    {
     "data": {
      "image/png": "[encoded data removed]",
      "text/plain": [
       "<Figure size 1440x720 with 16 Axes>"
      ]
     },
     "metadata": {
      "needs_background": "light"
     },
     "output_type": "display_data"
    }
   ],
   "source": [
    "data_model.plot(kind='box',figsize=(20,10),subplots=True,rot = 0\n",
    "                                                      ,title=f'{i[1]} в файле {i[0]}');"
   ]
  },
  {
   "cell_type": "markdown",
   "id": "7b5c686f",
   "metadata": {},
   "source": [
    "##### Столбец 'first_temp' и 'last_temp'\n",
    "Удалим аномальные значения в 10000, которые использовали для заполнения пропусков."
   ]
  },
  {
   "cell_type": "code",
   "execution_count": 38,
   "id": "501c45c2",
   "metadata": {},
   "outputs": [],
   "source": [
    "data_model = data_model[(data_model['first_temp']<5000) & (data_model['last_temp']<5000)]"
   ]
  },
  {
   "cell_type": "code",
   "execution_count": 39,
   "id": "3208aa2c",
   "metadata": {},
   "outputs": [
    {
     "data": {
      "text/html": [
       "<div>\n",
       "<style scoped>\n",
       "    .dataframe tbody tr th:only-of-type {\n",
       "        vertical-align: middle;\n",
       "    }\n",
       "\n",
       "    .dataframe tbody tr th {\n",
       "        vertical-align: top;\n",
       "    }\n",
       "\n",
       "    .dataframe thead th {\n",
       "        text-align: right;\n",
       "    }\n",
       "</style>\n",
       "<table border=\"1\" class=\"dataframe\">\n",
       "  <thead>\n",
       "    <tr style=\"text-align: right;\">\n",
       "      <th></th>\n",
       "      <th>key</th>\n",
       "      <th>interval_idle</th>\n",
       "      <th>active_power</th>\n",
       "      <th>bulk_3</th>\n",
       "      <th>bulk_4</th>\n",
       "      <th>bulk_6</th>\n",
       "      <th>bulk_12</th>\n",
       "      <th>bulk_14</th>\n",
       "      <th>bulk_15</th>\n",
       "      <th>other_bulk</th>\n",
       "      <th>wire_1</th>\n",
       "      <th>wire_2</th>\n",
       "      <th>other_wire</th>\n",
       "      <th>gas_1</th>\n",
       "      <th>first_temp</th>\n",
       "      <th>last_temp</th>\n",
       "    </tr>\n",
       "  </thead>\n",
       "  <tbody>\n",
       "    <tr>\n",
       "      <th>0</th>\n",
       "      <td>1</td>\n",
       "      <td>485.0</td>\n",
       "      <td>628.616930</td>\n",
       "      <td>0.0</td>\n",
       "      <td>43.0</td>\n",
       "      <td>0.0</td>\n",
       "      <td>206.0</td>\n",
       "      <td>150.0</td>\n",
       "      <td>154.0</td>\n",
       "      <td>0.0</td>\n",
       "      <td>60.059998</td>\n",
       "      <td>0.00000</td>\n",
       "      <td>0.0</td>\n",
       "      <td>29.749986</td>\n",
       "      <td>1571.0</td>\n",
       "      <td>1613.0</td>\n",
       "    </tr>\n",
       "    <tr>\n",
       "      <th>1</th>\n",
       "      <td>2</td>\n",
       "      <td>333.0</td>\n",
       "      <td>395.281800</td>\n",
       "      <td>0.0</td>\n",
       "      <td>73.0</td>\n",
       "      <td>0.0</td>\n",
       "      <td>206.0</td>\n",
       "      <td>149.0</td>\n",
       "      <td>154.0</td>\n",
       "      <td>0.0</td>\n",
       "      <td>96.052315</td>\n",
       "      <td>0.00000</td>\n",
       "      <td>0.0</td>\n",
       "      <td>12.555561</td>\n",
       "      <td>1581.0</td>\n",
       "      <td>1602.0</td>\n",
       "    </tr>\n",
       "    <tr>\n",
       "      <th>2</th>\n",
       "      <td>3</td>\n",
       "      <td>870.0</td>\n",
       "      <td>581.774624</td>\n",
       "      <td>0.0</td>\n",
       "      <td>34.0</td>\n",
       "      <td>0.0</td>\n",
       "      <td>205.0</td>\n",
       "      <td>152.0</td>\n",
       "      <td>153.0</td>\n",
       "      <td>0.0</td>\n",
       "      <td>91.160157</td>\n",
       "      <td>0.00000</td>\n",
       "      <td>0.0</td>\n",
       "      <td>28.554793</td>\n",
       "      <td>1596.0</td>\n",
       "      <td>1599.0</td>\n",
       "    </tr>\n",
       "    <tr>\n",
       "      <th>3</th>\n",
       "      <td>4</td>\n",
       "      <td>352.0</td>\n",
       "      <td>543.710274</td>\n",
       "      <td>0.0</td>\n",
       "      <td>81.0</td>\n",
       "      <td>0.0</td>\n",
       "      <td>207.0</td>\n",
       "      <td>153.0</td>\n",
       "      <td>154.0</td>\n",
       "      <td>0.0</td>\n",
       "      <td>89.063515</td>\n",
       "      <td>0.00000</td>\n",
       "      <td>0.0</td>\n",
       "      <td>18.841219</td>\n",
       "      <td>1601.0</td>\n",
       "      <td>1625.0</td>\n",
       "    </tr>\n",
       "    <tr>\n",
       "      <th>4</th>\n",
       "      <td>5</td>\n",
       "      <td>493.0</td>\n",
       "      <td>412.180480</td>\n",
       "      <td>0.0</td>\n",
       "      <td>78.0</td>\n",
       "      <td>0.0</td>\n",
       "      <td>203.0</td>\n",
       "      <td>151.0</td>\n",
       "      <td>152.0</td>\n",
       "      <td>0.0</td>\n",
       "      <td>89.238236</td>\n",
       "      <td>9.11456</td>\n",
       "      <td>0.0</td>\n",
       "      <td>5.413692</td>\n",
       "      <td>1576.0</td>\n",
       "      <td>1602.0</td>\n",
       "    </tr>\n",
       "    <tr>\n",
       "      <th>...</th>\n",
       "      <td>...</td>\n",
       "      <td>...</td>\n",
       "      <td>...</td>\n",
       "      <td>...</td>\n",
       "      <td>...</td>\n",
       "      <td>...</td>\n",
       "      <td>...</td>\n",
       "      <td>...</td>\n",
       "      <td>...</td>\n",
       "      <td>...</td>\n",
       "      <td>...</td>\n",
       "      <td>...</td>\n",
       "      <td>...</td>\n",
       "      <td>...</td>\n",
       "      <td>...</td>\n",
       "      <td>...</td>\n",
       "    </tr>\n",
       "    <tr>\n",
       "      <th>2324</th>\n",
       "      <td>2495</td>\n",
       "      <td>485.0</td>\n",
       "      <td>571.539318</td>\n",
       "      <td>21.0</td>\n",
       "      <td>0.0</td>\n",
       "      <td>0.0</td>\n",
       "      <td>256.0</td>\n",
       "      <td>129.0</td>\n",
       "      <td>223.0</td>\n",
       "      <td>90.0</td>\n",
       "      <td>89.150879</td>\n",
       "      <td>0.00000</td>\n",
       "      <td>0.0</td>\n",
       "      <td>7.125735</td>\n",
       "      <td>1570.0</td>\n",
       "      <td>1591.0</td>\n",
       "    </tr>\n",
       "    <tr>\n",
       "      <th>2325</th>\n",
       "      <td>2496</td>\n",
       "      <td>629.0</td>\n",
       "      <td>675.222467</td>\n",
       "      <td>0.0</td>\n",
       "      <td>63.0</td>\n",
       "      <td>0.0</td>\n",
       "      <td>256.0</td>\n",
       "      <td>129.0</td>\n",
       "      <td>226.0</td>\n",
       "      <td>122.0</td>\n",
       "      <td>114.179527</td>\n",
       "      <td>0.00000</td>\n",
       "      <td>0.0</td>\n",
       "      <td>9.412616</td>\n",
       "      <td>1554.0</td>\n",
       "      <td>1591.0</td>\n",
       "    </tr>\n",
       "    <tr>\n",
       "      <th>2326</th>\n",
       "      <td>2497</td>\n",
       "      <td>255.0</td>\n",
       "      <td>680.326674</td>\n",
       "      <td>0.0</td>\n",
       "      <td>85.0</td>\n",
       "      <td>0.0</td>\n",
       "      <td>230.0</td>\n",
       "      <td>124.0</td>\n",
       "      <td>226.0</td>\n",
       "      <td>0.0</td>\n",
       "      <td>94.086723</td>\n",
       "      <td>9.04800</td>\n",
       "      <td>0.0</td>\n",
       "      <td>6.271699</td>\n",
       "      <td>1571.0</td>\n",
       "      <td>1589.0</td>\n",
       "    </tr>\n",
       "    <tr>\n",
       "      <th>2327</th>\n",
       "      <td>2498</td>\n",
       "      <td>608.0</td>\n",
       "      <td>474.918795</td>\n",
       "      <td>90.0</td>\n",
       "      <td>0.0</td>\n",
       "      <td>0.0</td>\n",
       "      <td>206.0</td>\n",
       "      <td>129.0</td>\n",
       "      <td>207.0</td>\n",
       "      <td>101.0</td>\n",
       "      <td>118.110717</td>\n",
       "      <td>0.00000</td>\n",
       "      <td>0.0</td>\n",
       "      <td>14.953657</td>\n",
       "      <td>1591.0</td>\n",
       "      <td>1594.0</td>\n",
       "    </tr>\n",
       "    <tr>\n",
       "      <th>2328</th>\n",
       "      <td>2499</td>\n",
       "      <td>483.0</td>\n",
       "      <td>427.922553</td>\n",
       "      <td>47.0</td>\n",
       "      <td>0.0</td>\n",
       "      <td>0.0</td>\n",
       "      <td>233.0</td>\n",
       "      <td>126.0</td>\n",
       "      <td>227.0</td>\n",
       "      <td>0.0</td>\n",
       "      <td>110.160958</td>\n",
       "      <td>50.00528</td>\n",
       "      <td>0.0</td>\n",
       "      <td>11.336151</td>\n",
       "      <td>1569.0</td>\n",
       "      <td>1603.0</td>\n",
       "    </tr>\n",
       "  </tbody>\n",
       "</table>\n",
       "<p>2325 rows × 16 columns</p>\n",
       "</div>"
      ],
      "text/plain": [
       "       key  interval_idle  active_power  bulk_3  bulk_4  bulk_6  bulk_12  \\\n",
       "0        1          485.0    628.616930     0.0    43.0     0.0    206.0   \n",
       "1        2          333.0    395.281800     0.0    73.0     0.0    206.0   \n",
       "2        3          870.0    581.774624     0.0    34.0     0.0    205.0   \n",
       "3        4          352.0    543.710274     0.0    81.0     0.0    207.0   \n",
       "4        5          493.0    412.180480     0.0    78.0     0.0    203.0   \n",
       "...    ...            ...           ...     ...     ...     ...      ...   \n",
       "2324  2495          485.0    571.539318    21.0     0.0     0.0    256.0   \n",
       "2325  2496          629.0    675.222467     0.0    63.0     0.0    256.0   \n",
       "2326  2497          255.0    680.326674     0.0    85.0     0.0    230.0   \n",
       "2327  2498          608.0    474.918795    90.0     0.0     0.0    206.0   \n",
       "2328  2499          483.0    427.922553    47.0     0.0     0.0    233.0   \n",
       "\n",
       "      bulk_14  bulk_15  other_bulk      wire_1    wire_2  other_wire  \\\n",
       "0       150.0    154.0         0.0   60.059998   0.00000         0.0   \n",
       "1       149.0    154.0         0.0   96.052315   0.00000         0.0   \n",
       "2       152.0    153.0         0.0   91.160157   0.00000         0.0   \n",
       "3       153.0    154.0         0.0   89.063515   0.00000         0.0   \n",
       "4       151.0    152.0         0.0   89.238236   9.11456         0.0   \n",
       "...       ...      ...         ...         ...       ...         ...   \n",
       "2324    129.0    223.0        90.0   89.150879   0.00000         0.0   \n",
       "2325    129.0    226.0       122.0  114.179527   0.00000         0.0   \n",
       "2326    124.0    226.0         0.0   94.086723   9.04800         0.0   \n",
       "2327    129.0    207.0       101.0  118.110717   0.00000         0.0   \n",
       "2328    126.0    227.0         0.0  110.160958  50.00528         0.0   \n",
       "\n",
       "          gas_1  first_temp  last_temp  \n",
       "0     29.749986      1571.0     1613.0  \n",
       "1     12.555561      1581.0     1602.0  \n",
       "2     28.554793      1596.0     1599.0  \n",
       "3     18.841219      1601.0     1625.0  \n",
       "4      5.413692      1576.0     1602.0  \n",
       "...         ...         ...        ...  \n",
       "2324   7.125735      1570.0     1591.0  \n",
       "2325   9.412616      1554.0     1591.0  \n",
       "2326   6.271699      1571.0     1589.0  \n",
       "2327  14.953657      1591.0     1594.0  \n",
       "2328  11.336151      1569.0     1603.0  \n",
       "\n",
       "[2325 rows x 16 columns]"
      ]
     },
     "execution_count": 39,
     "metadata": {},
     "output_type": "execute_result"
    }
   ],
   "source": [
    "data_model"
   ]
  },
  {
   "cell_type": "markdown",
   "id": "f82b2dfe",
   "metadata": {},
   "source": [
    "##### Столбец 'interval_idle'\n",
    "Имеется большое количество аномальных значений простоя между нагреваниями котла ('interval_idle')."
   ]
  },
  {
   "cell_type": "code",
   "execution_count": 41,
   "id": "876aceac",
   "metadata": {},
   "outputs": [
    {
     "data": {
      "text/plain": [
       "123"
      ]
     },
     "execution_count": 41,
     "metadata": {},
     "output_type": "execute_result"
    }
   ],
   "source": [
    "len(data_model[data_model['interval_idle']>2500])"
   ]
  },
  {
   "cell_type": "markdown",
   "id": "c1aadd93",
   "metadata": {},
   "source": [
    "Удалим значения больше 2500."
   ]
  },
  {
   "cell_type": "code",
   "execution_count": 42,
   "id": "0be669fc",
   "metadata": {},
   "outputs": [],
   "source": [
    "#data_model = data_model[data_model['interval_idle']<=2500]"
   ]
  },
  {
   "cell_type": "markdown",
   "id": "010e2f0f",
   "metadata": {},
   "source": [
    "##### Столбец 'active_power'\n",
    "Удалим аномальные значения нагрева ('active_power')."
   ]
  },
  {
   "cell_type": "code",
   "execution_count": 43,
   "id": "b7dd2d7f",
   "metadata": {},
   "outputs": [
    {
     "data": {
      "text/plain": [
       "12"
      ]
     },
     "execution_count": 43,
     "metadata": {},
     "output_type": "execute_result"
    }
   ],
   "source": [
    "len(data_model[data_model['active_power']>1500])"
   ]
  },
  {
   "cell_type": "code",
   "execution_count": 44,
   "id": "f157e477",
   "metadata": {},
   "outputs": [],
   "source": [
    "#data_model = data_model[data_model['interval_idle']<=1500]"
   ]
  },
  {
   "cell_type": "markdown",
   "id": "6bd4cfea",
   "metadata": {},
   "source": [
    "##### Столбец 'gas_1'\n",
    "Удалим аномальные значения воздействия газа ('gas_1')."
   ]
  },
  {
   "cell_type": "code",
   "execution_count": 45,
   "id": "f14daaf7",
   "metadata": {},
   "outputs": [
    {
     "data": {
      "text/plain": [
       "87"
      ]
     },
     "execution_count": 45,
     "metadata": {},
     "output_type": "execute_result"
    }
   ],
   "source": [
    "len(data_model[data_model['gas_1']>25])"
   ]
  },
  {
   "cell_type": "code",
   "execution_count": 46,
   "id": "1427d100",
   "metadata": {},
   "outputs": [],
   "source": [
    "#data_model = data_model[data_model['gas_1']<=25]"
   ]
  },
  {
   "cell_type": "markdown",
   "id": "836f6c28",
   "metadata": {},
   "source": [
    "##### Столбец 'key'\n",
    "Удалим столбец с обозначение партии ('key') для модели он не нужен."
   ]
  },
  {
   "cell_type": "code",
   "execution_count": 47,
   "id": "9bad6779",
   "metadata": {},
   "outputs": [
    {
     "data": {
      "text/html": [
       "<div>\n",
       "<style scoped>\n",
       "    .dataframe tbody tr th:only-of-type {\n",
       "        vertical-align: middle;\n",
       "    }\n",
       "\n",
       "    .dataframe tbody tr th {\n",
       "        vertical-align: top;\n",
       "    }\n",
       "\n",
       "    .dataframe thead th {\n",
       "        text-align: right;\n",
       "    }\n",
       "</style>\n",
       "<table border=\"1\" class=\"dataframe\">\n",
       "  <thead>\n",
       "    <tr style=\"text-align: right;\">\n",
       "      <th></th>\n",
       "      <th>interval_idle</th>\n",
       "      <th>active_power</th>\n",
       "      <th>bulk_3</th>\n",
       "      <th>bulk_4</th>\n",
       "      <th>bulk_6</th>\n",
       "      <th>bulk_12</th>\n",
       "      <th>bulk_14</th>\n",
       "      <th>bulk_15</th>\n",
       "      <th>other_bulk</th>\n",
       "      <th>wire_1</th>\n",
       "      <th>wire_2</th>\n",
       "      <th>other_wire</th>\n",
       "      <th>gas_1</th>\n",
       "      <th>first_temp</th>\n",
       "      <th>last_temp</th>\n",
       "    </tr>\n",
       "  </thead>\n",
       "  <tbody>\n",
       "    <tr>\n",
       "      <th>0</th>\n",
       "      <td>485.0</td>\n",
       "      <td>628.616930</td>\n",
       "      <td>0.0</td>\n",
       "      <td>43.0</td>\n",
       "      <td>0.0</td>\n",
       "      <td>206.0</td>\n",
       "      <td>150.0</td>\n",
       "      <td>154.0</td>\n",
       "      <td>0.0</td>\n",
       "      <td>60.059998</td>\n",
       "      <td>0.00000</td>\n",
       "      <td>0.0</td>\n",
       "      <td>29.749986</td>\n",
       "      <td>1571.0</td>\n",
       "      <td>1613.0</td>\n",
       "    </tr>\n",
       "    <tr>\n",
       "      <th>1</th>\n",
       "      <td>333.0</td>\n",
       "      <td>395.281800</td>\n",
       "      <td>0.0</td>\n",
       "      <td>73.0</td>\n",
       "      <td>0.0</td>\n",
       "      <td>206.0</td>\n",
       "      <td>149.0</td>\n",
       "      <td>154.0</td>\n",
       "      <td>0.0</td>\n",
       "      <td>96.052315</td>\n",
       "      <td>0.00000</td>\n",
       "      <td>0.0</td>\n",
       "      <td>12.555561</td>\n",
       "      <td>1581.0</td>\n",
       "      <td>1602.0</td>\n",
       "    </tr>\n",
       "    <tr>\n",
       "      <th>2</th>\n",
       "      <td>870.0</td>\n",
       "      <td>581.774624</td>\n",
       "      <td>0.0</td>\n",
       "      <td>34.0</td>\n",
       "      <td>0.0</td>\n",
       "      <td>205.0</td>\n",
       "      <td>152.0</td>\n",
       "      <td>153.0</td>\n",
       "      <td>0.0</td>\n",
       "      <td>91.160157</td>\n",
       "      <td>0.00000</td>\n",
       "      <td>0.0</td>\n",
       "      <td>28.554793</td>\n",
       "      <td>1596.0</td>\n",
       "      <td>1599.0</td>\n",
       "    </tr>\n",
       "    <tr>\n",
       "      <th>3</th>\n",
       "      <td>352.0</td>\n",
       "      <td>543.710274</td>\n",
       "      <td>0.0</td>\n",
       "      <td>81.0</td>\n",
       "      <td>0.0</td>\n",
       "      <td>207.0</td>\n",
       "      <td>153.0</td>\n",
       "      <td>154.0</td>\n",
       "      <td>0.0</td>\n",
       "      <td>89.063515</td>\n",
       "      <td>0.00000</td>\n",
       "      <td>0.0</td>\n",
       "      <td>18.841219</td>\n",
       "      <td>1601.0</td>\n",
       "      <td>1625.0</td>\n",
       "    </tr>\n",
       "    <tr>\n",
       "      <th>4</th>\n",
       "      <td>493.0</td>\n",
       "      <td>412.180480</td>\n",
       "      <td>0.0</td>\n",
       "      <td>78.0</td>\n",
       "      <td>0.0</td>\n",
       "      <td>203.0</td>\n",
       "      <td>151.0</td>\n",
       "      <td>152.0</td>\n",
       "      <td>0.0</td>\n",
       "      <td>89.238236</td>\n",
       "      <td>9.11456</td>\n",
       "      <td>0.0</td>\n",
       "      <td>5.413692</td>\n",
       "      <td>1576.0</td>\n",
       "      <td>1602.0</td>\n",
       "    </tr>\n",
       "  </tbody>\n",
       "</table>\n",
       "</div>"
      ],
      "text/plain": [
       "   interval_idle  active_power  bulk_3  bulk_4  bulk_6  bulk_12  bulk_14  \\\n",
       "0          485.0    628.616930     0.0    43.0     0.0    206.0    150.0   \n",
       "1          333.0    395.281800     0.0    73.0     0.0    206.0    149.0   \n",
       "2          870.0    581.774624     0.0    34.0     0.0    205.0    152.0   \n",
       "3          352.0    543.710274     0.0    81.0     0.0    207.0    153.0   \n",
       "4          493.0    412.180480     0.0    78.0     0.0    203.0    151.0   \n",
       "\n",
       "   bulk_15  other_bulk     wire_1   wire_2  other_wire      gas_1  first_temp  \\\n",
       "0    154.0         0.0  60.059998  0.00000         0.0  29.749986      1571.0   \n",
       "1    154.0         0.0  96.052315  0.00000         0.0  12.555561      1581.0   \n",
       "2    153.0         0.0  91.160157  0.00000         0.0  28.554793      1596.0   \n",
       "3    154.0         0.0  89.063515  0.00000         0.0  18.841219      1601.0   \n",
       "4    152.0         0.0  89.238236  9.11456         0.0   5.413692      1576.0   \n",
       "\n",
       "   last_temp  \n",
       "0     1613.0  \n",
       "1     1602.0  \n",
       "2     1599.0  \n",
       "3     1625.0  \n",
       "4     1602.0  "
      ]
     },
     "execution_count": 47,
     "metadata": {},
     "output_type": "execute_result"
    }
   ],
   "source": [
    "data_model = data_model.drop(columns=['key'],axis=1)\n",
    "data_model.head()"
   ]
  },
  {
   "cell_type": "code",
   "execution_count": 48,
   "id": "17357de4",
   "metadata": {},
   "outputs": [
    {
     "data": {
      "text/html": [
       "<div>\n",
       "<style scoped>\n",
       "    .dataframe tbody tr th:only-of-type {\n",
       "        vertical-align: middle;\n",
       "    }\n",
       "\n",
       "    .dataframe tbody tr th {\n",
       "        vertical-align: top;\n",
       "    }\n",
       "\n",
       "    .dataframe thead th {\n",
       "        text-align: right;\n",
       "    }\n",
       "</style>\n",
       "<table border=\"1\" class=\"dataframe\">\n",
       "  <thead>\n",
       "    <tr style=\"text-align: right;\">\n",
       "      <th></th>\n",
       "      <th>interval_idle</th>\n",
       "      <th>active_power</th>\n",
       "      <th>bulk_3</th>\n",
       "      <th>bulk_4</th>\n",
       "      <th>bulk_6</th>\n",
       "      <th>bulk_12</th>\n",
       "      <th>bulk_14</th>\n",
       "      <th>bulk_15</th>\n",
       "      <th>other_bulk</th>\n",
       "      <th>wire_1</th>\n",
       "      <th>wire_2</th>\n",
       "      <th>other_wire</th>\n",
       "      <th>gas_1</th>\n",
       "      <th>first_temp</th>\n",
       "      <th>last_temp</th>\n",
       "    </tr>\n",
       "  </thead>\n",
       "  <tbody>\n",
       "    <tr>\n",
       "      <th>0</th>\n",
       "      <td>485.0</td>\n",
       "      <td>628.616930</td>\n",
       "      <td>0.0</td>\n",
       "      <td>43.0</td>\n",
       "      <td>0.0</td>\n",
       "      <td>206.0</td>\n",
       "      <td>150.0</td>\n",
       "      <td>154.0</td>\n",
       "      <td>0.0</td>\n",
       "      <td>60.059998</td>\n",
       "      <td>0.00000</td>\n",
       "      <td>0.0</td>\n",
       "      <td>29.749986</td>\n",
       "      <td>1571.0</td>\n",
       "      <td>1613.0</td>\n",
       "    </tr>\n",
       "    <tr>\n",
       "      <th>1</th>\n",
       "      <td>333.0</td>\n",
       "      <td>395.281800</td>\n",
       "      <td>0.0</td>\n",
       "      <td>73.0</td>\n",
       "      <td>0.0</td>\n",
       "      <td>206.0</td>\n",
       "      <td>149.0</td>\n",
       "      <td>154.0</td>\n",
       "      <td>0.0</td>\n",
       "      <td>96.052315</td>\n",
       "      <td>0.00000</td>\n",
       "      <td>0.0</td>\n",
       "      <td>12.555561</td>\n",
       "      <td>1581.0</td>\n",
       "      <td>1602.0</td>\n",
       "    </tr>\n",
       "    <tr>\n",
       "      <th>2</th>\n",
       "      <td>870.0</td>\n",
       "      <td>581.774624</td>\n",
       "      <td>0.0</td>\n",
       "      <td>34.0</td>\n",
       "      <td>0.0</td>\n",
       "      <td>205.0</td>\n",
       "      <td>152.0</td>\n",
       "      <td>153.0</td>\n",
       "      <td>0.0</td>\n",
       "      <td>91.160157</td>\n",
       "      <td>0.00000</td>\n",
       "      <td>0.0</td>\n",
       "      <td>28.554793</td>\n",
       "      <td>1596.0</td>\n",
       "      <td>1599.0</td>\n",
       "    </tr>\n",
       "    <tr>\n",
       "      <th>3</th>\n",
       "      <td>352.0</td>\n",
       "      <td>543.710274</td>\n",
       "      <td>0.0</td>\n",
       "      <td>81.0</td>\n",
       "      <td>0.0</td>\n",
       "      <td>207.0</td>\n",
       "      <td>153.0</td>\n",
       "      <td>154.0</td>\n",
       "      <td>0.0</td>\n",
       "      <td>89.063515</td>\n",
       "      <td>0.00000</td>\n",
       "      <td>0.0</td>\n",
       "      <td>18.841219</td>\n",
       "      <td>1601.0</td>\n",
       "      <td>1625.0</td>\n",
       "    </tr>\n",
       "    <tr>\n",
       "      <th>4</th>\n",
       "      <td>493.0</td>\n",
       "      <td>412.180480</td>\n",
       "      <td>0.0</td>\n",
       "      <td>78.0</td>\n",
       "      <td>0.0</td>\n",
       "      <td>203.0</td>\n",
       "      <td>151.0</td>\n",
       "      <td>152.0</td>\n",
       "      <td>0.0</td>\n",
       "      <td>89.238236</td>\n",
       "      <td>9.11456</td>\n",
       "      <td>0.0</td>\n",
       "      <td>5.413692</td>\n",
       "      <td>1576.0</td>\n",
       "      <td>1602.0</td>\n",
       "    </tr>\n",
       "    <tr>\n",
       "      <th>...</th>\n",
       "      <td>...</td>\n",
       "      <td>...</td>\n",
       "      <td>...</td>\n",
       "      <td>...</td>\n",
       "      <td>...</td>\n",
       "      <td>...</td>\n",
       "      <td>...</td>\n",
       "      <td>...</td>\n",
       "      <td>...</td>\n",
       "      <td>...</td>\n",
       "      <td>...</td>\n",
       "      <td>...</td>\n",
       "      <td>...</td>\n",
       "      <td>...</td>\n",
       "      <td>...</td>\n",
       "    </tr>\n",
       "    <tr>\n",
       "      <th>2324</th>\n",
       "      <td>485.0</td>\n",
       "      <td>571.539318</td>\n",
       "      <td>21.0</td>\n",
       "      <td>0.0</td>\n",
       "      <td>0.0</td>\n",
       "      <td>256.0</td>\n",
       "      <td>129.0</td>\n",
       "      <td>223.0</td>\n",
       "      <td>90.0</td>\n",
       "      <td>89.150879</td>\n",
       "      <td>0.00000</td>\n",
       "      <td>0.0</td>\n",
       "      <td>7.125735</td>\n",
       "      <td>1570.0</td>\n",
       "      <td>1591.0</td>\n",
       "    </tr>\n",
       "    <tr>\n",
       "      <th>2325</th>\n",
       "      <td>629.0</td>\n",
       "      <td>675.222467</td>\n",
       "      <td>0.0</td>\n",
       "      <td>63.0</td>\n",
       "      <td>0.0</td>\n",
       "      <td>256.0</td>\n",
       "      <td>129.0</td>\n",
       "      <td>226.0</td>\n",
       "      <td>122.0</td>\n",
       "      <td>114.179527</td>\n",
       "      <td>0.00000</td>\n",
       "      <td>0.0</td>\n",
       "      <td>9.412616</td>\n",
       "      <td>1554.0</td>\n",
       "      <td>1591.0</td>\n",
       "    </tr>\n",
       "    <tr>\n",
       "      <th>2326</th>\n",
       "      <td>255.0</td>\n",
       "      <td>680.326674</td>\n",
       "      <td>0.0</td>\n",
       "      <td>85.0</td>\n",
       "      <td>0.0</td>\n",
       "      <td>230.0</td>\n",
       "      <td>124.0</td>\n",
       "      <td>226.0</td>\n",
       "      <td>0.0</td>\n",
       "      <td>94.086723</td>\n",
       "      <td>9.04800</td>\n",
       "      <td>0.0</td>\n",
       "      <td>6.271699</td>\n",
       "      <td>1571.0</td>\n",
       "      <td>1589.0</td>\n",
       "    </tr>\n",
       "    <tr>\n",
       "      <th>2327</th>\n",
       "      <td>608.0</td>\n",
       "      <td>474.918795</td>\n",
       "      <td>90.0</td>\n",
       "      <td>0.0</td>\n",
       "      <td>0.0</td>\n",
       "      <td>206.0</td>\n",
       "      <td>129.0</td>\n",
       "      <td>207.0</td>\n",
       "      <td>101.0</td>\n",
       "      <td>118.110717</td>\n",
       "      <td>0.00000</td>\n",
       "      <td>0.0</td>\n",
       "      <td>14.953657</td>\n",
       "      <td>1591.0</td>\n",
       "      <td>1594.0</td>\n",
       "    </tr>\n",
       "    <tr>\n",
       "      <th>2328</th>\n",
       "      <td>483.0</td>\n",
       "      <td>427.922553</td>\n",
       "      <td>47.0</td>\n",
       "      <td>0.0</td>\n",
       "      <td>0.0</td>\n",
       "      <td>233.0</td>\n",
       "      <td>126.0</td>\n",
       "      <td>227.0</td>\n",
       "      <td>0.0</td>\n",
       "      <td>110.160958</td>\n",
       "      <td>50.00528</td>\n",
       "      <td>0.0</td>\n",
       "      <td>11.336151</td>\n",
       "      <td>1569.0</td>\n",
       "      <td>1603.0</td>\n",
       "    </tr>\n",
       "  </tbody>\n",
       "</table>\n",
       "<p>2325 rows × 15 columns</p>\n",
       "</div>"
      ],
      "text/plain": [
       "      interval_idle  active_power  bulk_3  bulk_4  bulk_6  bulk_12  bulk_14  \\\n",
       "0             485.0    628.616930     0.0    43.0     0.0    206.0    150.0   \n",
       "1             333.0    395.281800     0.0    73.0     0.0    206.0    149.0   \n",
       "2             870.0    581.774624     0.0    34.0     0.0    205.0    152.0   \n",
       "3             352.0    543.710274     0.0    81.0     0.0    207.0    153.0   \n",
       "4             493.0    412.180480     0.0    78.0     0.0    203.0    151.0   \n",
       "...             ...           ...     ...     ...     ...      ...      ...   \n",
       "2324          485.0    571.539318    21.0     0.0     0.0    256.0    129.0   \n",
       "2325          629.0    675.222467     0.0    63.0     0.0    256.0    129.0   \n",
       "2326          255.0    680.326674     0.0    85.0     0.0    230.0    124.0   \n",
       "2327          608.0    474.918795    90.0     0.0     0.0    206.0    129.0   \n",
       "2328          483.0    427.922553    47.0     0.0     0.0    233.0    126.0   \n",
       "\n",
       "      bulk_15  other_bulk      wire_1    wire_2  other_wire      gas_1  \\\n",
       "0       154.0         0.0   60.059998   0.00000         0.0  29.749986   \n",
       "1       154.0         0.0   96.052315   0.00000         0.0  12.555561   \n",
       "2       153.0         0.0   91.160157   0.00000         0.0  28.554793   \n",
       "3       154.0         0.0   89.063515   0.00000         0.0  18.841219   \n",
       "4       152.0         0.0   89.238236   9.11456         0.0   5.413692   \n",
       "...       ...         ...         ...       ...         ...        ...   \n",
       "2324    223.0        90.0   89.150879   0.00000         0.0   7.125735   \n",
       "2325    226.0       122.0  114.179527   0.00000         0.0   9.412616   \n",
       "2326    226.0         0.0   94.086723   9.04800         0.0   6.271699   \n",
       "2327    207.0       101.0  118.110717   0.00000         0.0  14.953657   \n",
       "2328    227.0         0.0  110.160958  50.00528         0.0  11.336151   \n",
       "\n",
       "      first_temp  last_temp  \n",
       "0         1571.0     1613.0  \n",
       "1         1581.0     1602.0  \n",
       "2         1596.0     1599.0  \n",
       "3         1601.0     1625.0  \n",
       "4         1576.0     1602.0  \n",
       "...          ...        ...  \n",
       "2324      1570.0     1591.0  \n",
       "2325      1554.0     1591.0  \n",
       "2326      1571.0     1589.0  \n",
       "2327      1591.0     1594.0  \n",
       "2328      1569.0     1603.0  \n",
       "\n",
       "[2325 rows x 15 columns]"
      ]
     },
     "execution_count": 48,
     "metadata": {},
     "output_type": "execute_result"
    }
   ],
   "source": [
    "data_model"
   ]
  },
  {
   "cell_type": "markdown",
   "id": "98af6d29",
   "metadata": {},
   "source": [
    "Посмотрим корреляцию между отдельными столбцами."
   ]
  },
  {
   "cell_type": "code",
   "execution_count": 49,
   "id": "98897a67",
   "metadata": {
    "scrolled": true
   },
   "outputs": [
    {
     "data": {
      "text/html": [
       "<div>\n",
       "<style scoped>\n",
       "    .dataframe tbody tr th:only-of-type {\n",
       "        vertical-align: middle;\n",
       "    }\n",
       "\n",
       "    .dataframe tbody tr th {\n",
       "        vertical-align: top;\n",
       "    }\n",
       "\n",
       "    .dataframe thead th {\n",
       "        text-align: right;\n",
       "    }\n",
       "</style>\n",
       "<table border=\"1\" class=\"dataframe\">\n",
       "  <thead>\n",
       "    <tr style=\"text-align: right;\">\n",
       "      <th></th>\n",
       "      <th>interval_idle</th>\n",
       "      <th>active_power</th>\n",
       "      <th>bulk_3</th>\n",
       "      <th>bulk_4</th>\n",
       "      <th>bulk_6</th>\n",
       "      <th>bulk_12</th>\n",
       "      <th>bulk_14</th>\n",
       "      <th>bulk_15</th>\n",
       "      <th>other_bulk</th>\n",
       "      <th>wire_1</th>\n",
       "      <th>wire_2</th>\n",
       "      <th>other_wire</th>\n",
       "      <th>gas_1</th>\n",
       "      <th>first_temp</th>\n",
       "      <th>last_temp</th>\n",
       "    </tr>\n",
       "  </thead>\n",
       "  <tbody>\n",
       "    <tr>\n",
       "      <th>interval_idle</th>\n",
       "      <td>1.000000</td>\n",
       "      <td>0.424010</td>\n",
       "      <td>0.017151</td>\n",
       "      <td>0.005081</td>\n",
       "      <td>0.139767</td>\n",
       "      <td>0.156843</td>\n",
       "      <td>0.123417</td>\n",
       "      <td>0.081118</td>\n",
       "      <td>0.310516</td>\n",
       "      <td>0.155229</td>\n",
       "      <td>0.051675</td>\n",
       "      <td>0.140666</td>\n",
       "      <td>0.408742</td>\n",
       "      <td>0.259436</td>\n",
       "      <td>0.051391</td>\n",
       "    </tr>\n",
       "    <tr>\n",
       "      <th>active_power</th>\n",
       "      <td>0.424010</td>\n",
       "      <td>1.000000</td>\n",
       "      <td>0.089043</td>\n",
       "      <td>-0.020626</td>\n",
       "      <td>0.147136</td>\n",
       "      <td>0.421343</td>\n",
       "      <td>0.406568</td>\n",
       "      <td>0.273315</td>\n",
       "      <td>0.118268</td>\n",
       "      <td>0.061022</td>\n",
       "      <td>0.046811</td>\n",
       "      <td>0.051042</td>\n",
       "      <td>0.354388</td>\n",
       "      <td>-0.344994</td>\n",
       "      <td>0.258279</td>\n",
       "    </tr>\n",
       "    <tr>\n",
       "      <th>bulk_3</th>\n",
       "      <td>0.017151</td>\n",
       "      <td>0.089043</td>\n",
       "      <td>1.000000</td>\n",
       "      <td>-0.295303</td>\n",
       "      <td>0.065696</td>\n",
       "      <td>0.018409</td>\n",
       "      <td>0.011061</td>\n",
       "      <td>-0.012791</td>\n",
       "      <td>-0.061750</td>\n",
       "      <td>0.037950</td>\n",
       "      <td>0.095025</td>\n",
       "      <td>0.002054</td>\n",
       "      <td>0.059651</td>\n",
       "      <td>-0.113271</td>\n",
       "      <td>-0.036767</td>\n",
       "    </tr>\n",
       "    <tr>\n",
       "      <th>bulk_4</th>\n",
       "      <td>0.005081</td>\n",
       "      <td>-0.020626</td>\n",
       "      <td>-0.295303</td>\n",
       "      <td>1.000000</td>\n",
       "      <td>-0.251889</td>\n",
       "      <td>0.105505</td>\n",
       "      <td>-0.091238</td>\n",
       "      <td>0.101169</td>\n",
       "      <td>-0.016222</td>\n",
       "      <td>0.298265</td>\n",
       "      <td>-0.267932</td>\n",
       "      <td>-0.036344</td>\n",
       "      <td>0.017521</td>\n",
       "      <td>0.165562</td>\n",
       "      <td>0.188100</td>\n",
       "    </tr>\n",
       "    <tr>\n",
       "      <th>bulk_6</th>\n",
       "      <td>0.139767</td>\n",
       "      <td>0.147136</td>\n",
       "      <td>0.065696</td>\n",
       "      <td>-0.251889</td>\n",
       "      <td>1.000000</td>\n",
       "      <td>-0.113197</td>\n",
       "      <td>0.177098</td>\n",
       "      <td>-0.109732</td>\n",
       "      <td>0.013420</td>\n",
       "      <td>-0.235764</td>\n",
       "      <td>0.204771</td>\n",
       "      <td>-0.054085</td>\n",
       "      <td>0.139475</td>\n",
       "      <td>-0.127241</td>\n",
       "      <td>-0.181880</td>\n",
       "    </tr>\n",
       "    <tr>\n",
       "      <th>bulk_12</th>\n",
       "      <td>0.156843</td>\n",
       "      <td>0.421343</td>\n",
       "      <td>0.018409</td>\n",
       "      <td>0.105505</td>\n",
       "      <td>-0.113197</td>\n",
       "      <td>1.000000</td>\n",
       "      <td>0.481087</td>\n",
       "      <td>0.614182</td>\n",
       "      <td>0.000479</td>\n",
       "      <td>0.171090</td>\n",
       "      <td>-0.097866</td>\n",
       "      <td>-0.138494</td>\n",
       "      <td>0.216869</td>\n",
       "      <td>-0.079339</td>\n",
       "      <td>0.267379</td>\n",
       "    </tr>\n",
       "    <tr>\n",
       "      <th>bulk_14</th>\n",
       "      <td>0.123417</td>\n",
       "      <td>0.406568</td>\n",
       "      <td>0.011061</td>\n",
       "      <td>-0.091238</td>\n",
       "      <td>0.177098</td>\n",
       "      <td>0.481087</td>\n",
       "      <td>1.000000</td>\n",
       "      <td>0.264442</td>\n",
       "      <td>-0.058424</td>\n",
       "      <td>-0.052792</td>\n",
       "      <td>0.036891</td>\n",
       "      <td>-0.031863</td>\n",
       "      <td>0.268275</td>\n",
       "      <td>-0.180058</td>\n",
       "      <td>0.114520</td>\n",
       "    </tr>\n",
       "    <tr>\n",
       "      <th>bulk_15</th>\n",
       "      <td>0.081118</td>\n",
       "      <td>0.273315</td>\n",
       "      <td>-0.012791</td>\n",
       "      <td>0.101169</td>\n",
       "      <td>-0.109732</td>\n",
       "      <td>0.614182</td>\n",
       "      <td>0.264442</td>\n",
       "      <td>1.000000</td>\n",
       "      <td>-0.096466</td>\n",
       "      <td>0.119366</td>\n",
       "      <td>-0.096044</td>\n",
       "      <td>-0.138673</td>\n",
       "      <td>0.042995</td>\n",
       "      <td>-0.062137</td>\n",
       "      <td>0.266386</td>\n",
       "    </tr>\n",
       "    <tr>\n",
       "      <th>other_bulk</th>\n",
       "      <td>0.310516</td>\n",
       "      <td>0.118268</td>\n",
       "      <td>-0.061750</td>\n",
       "      <td>-0.016222</td>\n",
       "      <td>0.013420</td>\n",
       "      <td>0.000479</td>\n",
       "      <td>-0.058424</td>\n",
       "      <td>-0.096466</td>\n",
       "      <td>1.000000</td>\n",
       "      <td>-0.121100</td>\n",
       "      <td>-0.022382</td>\n",
       "      <td>0.336868</td>\n",
       "      <td>0.250337</td>\n",
       "      <td>0.093792</td>\n",
       "      <td>-0.116180</td>\n",
       "    </tr>\n",
       "    <tr>\n",
       "      <th>wire_1</th>\n",
       "      <td>0.155229</td>\n",
       "      <td>0.061022</td>\n",
       "      <td>0.037950</td>\n",
       "      <td>0.298265</td>\n",
       "      <td>-0.235764</td>\n",
       "      <td>0.171090</td>\n",
       "      <td>-0.052792</td>\n",
       "      <td>0.119366</td>\n",
       "      <td>-0.121100</td>\n",
       "      <td>1.000000</td>\n",
       "      <td>-0.069288</td>\n",
       "      <td>-0.017863</td>\n",
       "      <td>0.118173</td>\n",
       "      <td>0.262946</td>\n",
       "      <td>0.317702</td>\n",
       "    </tr>\n",
       "    <tr>\n",
       "      <th>wire_2</th>\n",
       "      <td>0.051675</td>\n",
       "      <td>0.046811</td>\n",
       "      <td>0.095025</td>\n",
       "      <td>-0.267932</td>\n",
       "      <td>0.204771</td>\n",
       "      <td>-0.097866</td>\n",
       "      <td>0.036891</td>\n",
       "      <td>-0.096044</td>\n",
       "      <td>-0.022382</td>\n",
       "      <td>-0.069288</td>\n",
       "      <td>1.000000</td>\n",
       "      <td>0.091260</td>\n",
       "      <td>0.104639</td>\n",
       "      <td>-0.101012</td>\n",
       "      <td>-0.206837</td>\n",
       "    </tr>\n",
       "    <tr>\n",
       "      <th>other_wire</th>\n",
       "      <td>0.140666</td>\n",
       "      <td>0.051042</td>\n",
       "      <td>0.002054</td>\n",
       "      <td>-0.036344</td>\n",
       "      <td>-0.054085</td>\n",
       "      <td>-0.138494</td>\n",
       "      <td>-0.031863</td>\n",
       "      <td>-0.138673</td>\n",
       "      <td>0.336868</td>\n",
       "      <td>-0.017863</td>\n",
       "      <td>0.091260</td>\n",
       "      <td>1.000000</td>\n",
       "      <td>0.155373</td>\n",
       "      <td>0.010252</td>\n",
       "      <td>-0.091021</td>\n",
       "    </tr>\n",
       "    <tr>\n",
       "      <th>gas_1</th>\n",
       "      <td>0.408742</td>\n",
       "      <td>0.354388</td>\n",
       "      <td>0.059651</td>\n",
       "      <td>0.017521</td>\n",
       "      <td>0.139475</td>\n",
       "      <td>0.216869</td>\n",
       "      <td>0.268275</td>\n",
       "      <td>0.042995</td>\n",
       "      <td>0.250337</td>\n",
       "      <td>0.118173</td>\n",
       "      <td>0.104639</td>\n",
       "      <td>0.155373</td>\n",
       "      <td>1.000000</td>\n",
       "      <td>0.036730</td>\n",
       "      <td>0.059036</td>\n",
       "    </tr>\n",
       "    <tr>\n",
       "      <th>first_temp</th>\n",
       "      <td>0.259436</td>\n",
       "      <td>-0.344994</td>\n",
       "      <td>-0.113271</td>\n",
       "      <td>0.165562</td>\n",
       "      <td>-0.127241</td>\n",
       "      <td>-0.079339</td>\n",
       "      <td>-0.180058</td>\n",
       "      <td>-0.062137</td>\n",
       "      <td>0.093792</td>\n",
       "      <td>0.262946</td>\n",
       "      <td>-0.101012</td>\n",
       "      <td>0.010252</td>\n",
       "      <td>0.036730</td>\n",
       "      <td>1.000000</td>\n",
       "      <td>0.301961</td>\n",
       "    </tr>\n",
       "    <tr>\n",
       "      <th>last_temp</th>\n",
       "      <td>0.051391</td>\n",
       "      <td>0.258279</td>\n",
       "      <td>-0.036767</td>\n",
       "      <td>0.188100</td>\n",
       "      <td>-0.181880</td>\n",
       "      <td>0.267379</td>\n",
       "      <td>0.114520</td>\n",
       "      <td>0.266386</td>\n",
       "      <td>-0.116180</td>\n",
       "      <td>0.317702</td>\n",
       "      <td>-0.206837</td>\n",
       "      <td>-0.091021</td>\n",
       "      <td>0.059036</td>\n",
       "      <td>0.301961</td>\n",
       "      <td>1.000000</td>\n",
       "    </tr>\n",
       "  </tbody>\n",
       "</table>\n",
       "</div>"
      ],
      "text/plain": [
       "               interval_idle  active_power    bulk_3    bulk_4    bulk_6  \\\n",
       "interval_idle       1.000000      0.424010  0.017151  0.005081  0.139767   \n",
       "active_power        0.424010      1.000000  0.089043 -0.020626  0.147136   \n",
       "bulk_3              0.017151      0.089043  1.000000 -0.295303  0.065696   \n",
       "bulk_4              0.005081     -0.020626 -0.295303  1.000000 -0.251889   \n",
       "bulk_6              0.139767      0.147136  0.065696 -0.251889  1.000000   \n",
       "bulk_12             0.156843      0.421343  0.018409  0.105505 -0.113197   \n",
       "bulk_14             0.123417      0.406568  0.011061 -0.091238  0.177098   \n",
       "bulk_15             0.081118      0.273315 -0.012791  0.101169 -0.109732   \n",
       "other_bulk          0.310516      0.118268 -0.061750 -0.016222  0.013420   \n",
       "wire_1              0.155229      0.061022  0.037950  0.298265 -0.235764   \n",
       "wire_2              0.051675      0.046811  0.095025 -0.267932  0.204771   \n",
       "other_wire          0.140666      0.051042  0.002054 -0.036344 -0.054085   \n",
       "gas_1               0.408742      0.354388  0.059651  0.017521  0.139475   \n",
       "first_temp          0.259436     -0.344994 -0.113271  0.165562 -0.127241   \n",
       "last_temp           0.051391      0.258279 -0.036767  0.188100 -0.181880   \n",
       "\n",
       "                bulk_12   bulk_14   bulk_15  other_bulk    wire_1    wire_2  \\\n",
       "interval_idle  0.156843  0.123417  0.081118    0.310516  0.155229  0.051675   \n",
       "active_power   0.421343  0.406568  0.273315    0.118268  0.061022  0.046811   \n",
       "bulk_3         0.018409  0.011061 -0.012791   -0.061750  0.037950  0.095025   \n",
       "bulk_4         0.105505 -0.091238  0.101169   -0.016222  0.298265 -0.267932   \n",
       "bulk_6        -0.113197  0.177098 -0.109732    0.013420 -0.235764  0.204771   \n",
       "bulk_12        1.000000  0.481087  0.614182    0.000479  0.171090 -0.097866   \n",
       "bulk_14        0.481087  1.000000  0.264442   -0.058424 -0.052792  0.036891   \n",
       "bulk_15        0.614182  0.264442  1.000000   -0.096466  0.119366 -0.096044   \n",
       "other_bulk     0.000479 -0.058424 -0.096466    1.000000 -0.121100 -0.022382   \n",
       "wire_1         0.171090 -0.052792  0.119366   -0.121100  1.000000 -0.069288   \n",
       "wire_2        -0.097866  0.036891 -0.096044   -0.022382 -0.069288  1.000000   \n",
       "other_wire    -0.138494 -0.031863 -0.138673    0.336868 -0.017863  0.091260   \n",
       "gas_1          0.216869  0.268275  0.042995    0.250337  0.118173  0.104639   \n",
       "first_temp    -0.079339 -0.180058 -0.062137    0.093792  0.262946 -0.101012   \n",
       "last_temp      0.267379  0.114520  0.266386   -0.116180  0.317702 -0.206837   \n",
       "\n",
       "               other_wire     gas_1  first_temp  last_temp  \n",
       "interval_idle    0.140666  0.408742    0.259436   0.051391  \n",
       "active_power     0.051042  0.354388   -0.344994   0.258279  \n",
       "bulk_3           0.002054  0.059651   -0.113271  -0.036767  \n",
       "bulk_4          -0.036344  0.017521    0.165562   0.188100  \n",
       "bulk_6          -0.054085  0.139475   -0.127241  -0.181880  \n",
       "bulk_12         -0.138494  0.216869   -0.079339   0.267379  \n",
       "bulk_14         -0.031863  0.268275   -0.180058   0.114520  \n",
       "bulk_15         -0.138673  0.042995   -0.062137   0.266386  \n",
       "other_bulk       0.336868  0.250337    0.093792  -0.116180  \n",
       "wire_1          -0.017863  0.118173    0.262946   0.317702  \n",
       "wire_2           0.091260  0.104639   -0.101012  -0.206837  \n",
       "other_wire       1.000000  0.155373    0.010252  -0.091021  \n",
       "gas_1            0.155373  1.000000    0.036730   0.059036  \n",
       "first_temp       0.010252  0.036730    1.000000   0.301961  \n",
       "last_temp       -0.091021  0.059036    0.301961   1.000000  "
      ]
     },
     "execution_count": 49,
     "metadata": {},
     "output_type": "execute_result"
    }
   ],
   "source": [
    "data_model.corr()"
   ]
  },
  {
   "cell_type": "code",
   "execution_count": 50,
   "id": "684aa646",
   "metadata": {
    "scrolled": true
   },
   "outputs": [
    {
     "data": {
      "text/plain": [
       "<AxesSubplot:>"
      ]
     },
     "execution_count": 50,
     "metadata": {},
     "output_type": "execute_result"
    },
    {
     "data": {
      "image/png": "[encoded data removed]",
      "text/plain": [
       "<Figure size 432x288 with 2 Axes>"
      ]
     },
     "metadata": {
      "needs_background": "light"
     },
     "output_type": "display_data"
    }
   ],
   "source": [
    "sns.heatmap(data_model.corr())"
   ]
  },
  {
   "cell_type": "code",
   "execution_count": 52,
   "id": "04c6fbcb",
   "metadata": {},
   "outputs": [
    {
     "data": {
      "text/html": [
       "<div>\n",
       "<style scoped>\n",
       "    .dataframe tbody tr th:only-of-type {\n",
       "        vertical-align: middle;\n",
       "    }\n",
       "\n",
       "    .dataframe tbody tr th {\n",
       "        vertical-align: top;\n",
       "    }\n",
       "\n",
       "    .dataframe thead th {\n",
       "        text-align: right;\n",
       "    }\n",
       "</style>\n",
       "<table border=\"1\" class=\"dataframe\">\n",
       "  <thead>\n",
       "    <tr style=\"text-align: right;\">\n",
       "      <th></th>\n",
       "      <th>interval_idle</th>\n",
       "      <th>active_power</th>\n",
       "      <th>bulk_3</th>\n",
       "      <th>bulk_4</th>\n",
       "      <th>bulk_6</th>\n",
       "      <th>bulk_12</th>\n",
       "      <th>bulk_14</th>\n",
       "      <th>bulk_15</th>\n",
       "      <th>other_bulk</th>\n",
       "      <th>wire_1</th>\n",
       "      <th>wire_2</th>\n",
       "      <th>other_wire</th>\n",
       "      <th>gas_1</th>\n",
       "      <th>first_temp</th>\n",
       "      <th>last_temp</th>\n",
       "    </tr>\n",
       "  </thead>\n",
       "  <tbody>\n",
       "    <tr>\n",
       "      <th>0</th>\n",
       "      <td>485.0</td>\n",
       "      <td>628.616930</td>\n",
       "      <td>0.0</td>\n",
       "      <td>43.0</td>\n",
       "      <td>0.0</td>\n",
       "      <td>206.0</td>\n",
       "      <td>150.0</td>\n",
       "      <td>154.0</td>\n",
       "      <td>0.0</td>\n",
       "      <td>60.059998</td>\n",
       "      <td>0.00000</td>\n",
       "      <td>0.0</td>\n",
       "      <td>29.749986</td>\n",
       "      <td>1571.0</td>\n",
       "      <td>1613.0</td>\n",
       "    </tr>\n",
       "    <tr>\n",
       "      <th>1</th>\n",
       "      <td>333.0</td>\n",
       "      <td>395.281800</td>\n",
       "      <td>0.0</td>\n",
       "      <td>73.0</td>\n",
       "      <td>0.0</td>\n",
       "      <td>206.0</td>\n",
       "      <td>149.0</td>\n",
       "      <td>154.0</td>\n",
       "      <td>0.0</td>\n",
       "      <td>96.052315</td>\n",
       "      <td>0.00000</td>\n",
       "      <td>0.0</td>\n",
       "      <td>12.555561</td>\n",
       "      <td>1581.0</td>\n",
       "      <td>1602.0</td>\n",
       "    </tr>\n",
       "    <tr>\n",
       "      <th>2</th>\n",
       "      <td>870.0</td>\n",
       "      <td>581.774624</td>\n",
       "      <td>0.0</td>\n",
       "      <td>34.0</td>\n",
       "      <td>0.0</td>\n",
       "      <td>205.0</td>\n",
       "      <td>152.0</td>\n",
       "      <td>153.0</td>\n",
       "      <td>0.0</td>\n",
       "      <td>91.160157</td>\n",
       "      <td>0.00000</td>\n",
       "      <td>0.0</td>\n",
       "      <td>28.554793</td>\n",
       "      <td>1596.0</td>\n",
       "      <td>1599.0</td>\n",
       "    </tr>\n",
       "    <tr>\n",
       "      <th>3</th>\n",
       "      <td>352.0</td>\n",
       "      <td>543.710274</td>\n",
       "      <td>0.0</td>\n",
       "      <td>81.0</td>\n",
       "      <td>0.0</td>\n",
       "      <td>207.0</td>\n",
       "      <td>153.0</td>\n",
       "      <td>154.0</td>\n",
       "      <td>0.0</td>\n",
       "      <td>89.063515</td>\n",
       "      <td>0.00000</td>\n",
       "      <td>0.0</td>\n",
       "      <td>18.841219</td>\n",
       "      <td>1601.0</td>\n",
       "      <td>1625.0</td>\n",
       "    </tr>\n",
       "    <tr>\n",
       "      <th>4</th>\n",
       "      <td>493.0</td>\n",
       "      <td>412.180480</td>\n",
       "      <td>0.0</td>\n",
       "      <td>78.0</td>\n",
       "      <td>0.0</td>\n",
       "      <td>203.0</td>\n",
       "      <td>151.0</td>\n",
       "      <td>152.0</td>\n",
       "      <td>0.0</td>\n",
       "      <td>89.238236</td>\n",
       "      <td>9.11456</td>\n",
       "      <td>0.0</td>\n",
       "      <td>5.413692</td>\n",
       "      <td>1576.0</td>\n",
       "      <td>1602.0</td>\n",
       "    </tr>\n",
       "    <tr>\n",
       "      <th>...</th>\n",
       "      <td>...</td>\n",
       "      <td>...</td>\n",
       "      <td>...</td>\n",
       "      <td>...</td>\n",
       "      <td>...</td>\n",
       "      <td>...</td>\n",
       "      <td>...</td>\n",
       "      <td>...</td>\n",
       "      <td>...</td>\n",
       "      <td>...</td>\n",
       "      <td>...</td>\n",
       "      <td>...</td>\n",
       "      <td>...</td>\n",
       "      <td>...</td>\n",
       "      <td>...</td>\n",
       "    </tr>\n",
       "    <tr>\n",
       "      <th>2324</th>\n",
       "      <td>485.0</td>\n",
       "      <td>571.539318</td>\n",
       "      <td>21.0</td>\n",
       "      <td>0.0</td>\n",
       "      <td>0.0</td>\n",
       "      <td>256.0</td>\n",
       "      <td>129.0</td>\n",
       "      <td>223.0</td>\n",
       "      <td>90.0</td>\n",
       "      <td>89.150879</td>\n",
       "      <td>0.00000</td>\n",
       "      <td>0.0</td>\n",
       "      <td>7.125735</td>\n",
       "      <td>1570.0</td>\n",
       "      <td>1591.0</td>\n",
       "    </tr>\n",
       "    <tr>\n",
       "      <th>2325</th>\n",
       "      <td>629.0</td>\n",
       "      <td>675.222467</td>\n",
       "      <td>0.0</td>\n",
       "      <td>63.0</td>\n",
       "      <td>0.0</td>\n",
       "      <td>256.0</td>\n",
       "      <td>129.0</td>\n",
       "      <td>226.0</td>\n",
       "      <td>122.0</td>\n",
       "      <td>114.179527</td>\n",
       "      <td>0.00000</td>\n",
       "      <td>0.0</td>\n",
       "      <td>9.412616</td>\n",
       "      <td>1554.0</td>\n",
       "      <td>1591.0</td>\n",
       "    </tr>\n",
       "    <tr>\n",
       "      <th>2326</th>\n",
       "      <td>255.0</td>\n",
       "      <td>680.326674</td>\n",
       "      <td>0.0</td>\n",
       "      <td>85.0</td>\n",
       "      <td>0.0</td>\n",
       "      <td>230.0</td>\n",
       "      <td>124.0</td>\n",
       "      <td>226.0</td>\n",
       "      <td>0.0</td>\n",
       "      <td>94.086723</td>\n",
       "      <td>9.04800</td>\n",
       "      <td>0.0</td>\n",
       "      <td>6.271699</td>\n",
       "      <td>1571.0</td>\n",
       "      <td>1589.0</td>\n",
       "    </tr>\n",
       "    <tr>\n",
       "      <th>2327</th>\n",
       "      <td>608.0</td>\n",
       "      <td>474.918795</td>\n",
       "      <td>90.0</td>\n",
       "      <td>0.0</td>\n",
       "      <td>0.0</td>\n",
       "      <td>206.0</td>\n",
       "      <td>129.0</td>\n",
       "      <td>207.0</td>\n",
       "      <td>101.0</td>\n",
       "      <td>118.110717</td>\n",
       "      <td>0.00000</td>\n",
       "      <td>0.0</td>\n",
       "      <td>14.953657</td>\n",
       "      <td>1591.0</td>\n",
       "      <td>1594.0</td>\n",
       "    </tr>\n",
       "    <tr>\n",
       "      <th>2328</th>\n",
       "      <td>483.0</td>\n",
       "      <td>427.922553</td>\n",
       "      <td>47.0</td>\n",
       "      <td>0.0</td>\n",
       "      <td>0.0</td>\n",
       "      <td>233.0</td>\n",
       "      <td>126.0</td>\n",
       "      <td>227.0</td>\n",
       "      <td>0.0</td>\n",
       "      <td>110.160958</td>\n",
       "      <td>50.00528</td>\n",
       "      <td>0.0</td>\n",
       "      <td>11.336151</td>\n",
       "      <td>1569.0</td>\n",
       "      <td>1603.0</td>\n",
       "    </tr>\n",
       "  </tbody>\n",
       "</table>\n",
       "<p>2325 rows × 15 columns</p>\n",
       "</div>"
      ],
      "text/plain": [
       "      interval_idle  active_power  bulk_3  bulk_4  bulk_6  bulk_12  bulk_14  \\\n",
       "0             485.0    628.616930     0.0    43.0     0.0    206.0    150.0   \n",
       "1             333.0    395.281800     0.0    73.0     0.0    206.0    149.0   \n",
       "2             870.0    581.774624     0.0    34.0     0.0    205.0    152.0   \n",
       "3             352.0    543.710274     0.0    81.0     0.0    207.0    153.0   \n",
       "4             493.0    412.180480     0.0    78.0     0.0    203.0    151.0   \n",
       "...             ...           ...     ...     ...     ...      ...      ...   \n",
       "2324          485.0    571.539318    21.0     0.0     0.0    256.0    129.0   \n",
       "2325          629.0    675.222467     0.0    63.0     0.0    256.0    129.0   \n",
       "2326          255.0    680.326674     0.0    85.0     0.0    230.0    124.0   \n",
       "2327          608.0    474.918795    90.0     0.0     0.0    206.0    129.0   \n",
       "2328          483.0    427.922553    47.0     0.0     0.0    233.0    126.0   \n",
       "\n",
       "      bulk_15  other_bulk      wire_1    wire_2  other_wire      gas_1  \\\n",
       "0       154.0         0.0   60.059998   0.00000         0.0  29.749986   \n",
       "1       154.0         0.0   96.052315   0.00000         0.0  12.555561   \n",
       "2       153.0         0.0   91.160157   0.00000         0.0  28.554793   \n",
       "3       154.0         0.0   89.063515   0.00000         0.0  18.841219   \n",
       "4       152.0         0.0   89.238236   9.11456         0.0   5.413692   \n",
       "...       ...         ...         ...       ...         ...        ...   \n",
       "2324    223.0        90.0   89.150879   0.00000         0.0   7.125735   \n",
       "2325    226.0       122.0  114.179527   0.00000         0.0   9.412616   \n",
       "2326    226.0         0.0   94.086723   9.04800         0.0   6.271699   \n",
       "2327    207.0       101.0  118.110717   0.00000         0.0  14.953657   \n",
       "2328    227.0         0.0  110.160958  50.00528         0.0  11.336151   \n",
       "\n",
       "      first_temp  last_temp  \n",
       "0         1571.0     1613.0  \n",
       "1         1581.0     1602.0  \n",
       "2         1596.0     1599.0  \n",
       "3         1601.0     1625.0  \n",
       "4         1576.0     1602.0  \n",
       "...          ...        ...  \n",
       "2324      1570.0     1591.0  \n",
       "2325      1554.0     1591.0  \n",
       "2326      1571.0     1589.0  \n",
       "2327      1591.0     1594.0  \n",
       "2328      1569.0     1603.0  \n",
       "\n",
       "[2325 rows x 15 columns]"
      ]
     },
     "execution_count": 52,
     "metadata": {},
     "output_type": "execute_result"
    }
   ],
   "source": [
    "data_model"
   ]
  },
  {
   "cell_type": "markdown",
   "id": "6edccc42",
   "metadata": {},
   "source": [
    "### Вывод\n",
    "Из начальных данных получили датафрейм data_model, который будем использовать при обучении и тестировании моделей."
   ]
  },
  {
   "cell_type": "code",
   "execution_count": null,
   "id": "8668c99f",
   "metadata": {},
   "outputs": [],
   "source": []
  },
  {
   "cell_type": "markdown",
   "id": "88b960de",
   "metadata": {},
   "source": [
    "## Построение модели.\n",
    "Требуемое значение точности модели MAE < 6.8 (среднее абсолютное отклонение).  \n",
    "В качестве моделей исследуем:  \n",
    "- линейную регрессию;\n",
    "- модель LightGBM;\n",
    "- модель случайный лес.\n",
    "Проверим результат на константной модели.\n",
    "### Разделение на тестовую и тренировочную выборку."
   ]
  },
  {
   "cell_type": "markdown",
   "id": "8d7fad05",
   "metadata": {},
   "source": [
    "Выделим целевой признак."
   ]
  },
  {
   "cell_type": "code",
   "execution_count": 51,
   "id": "2b0a4893",
   "metadata": {},
   "outputs": [],
   "source": [
    "data_model_features = data_model.drop(columns=['last_temp'],axis=1)\n",
    "data_model_target = data_model['last_temp']"
   ]
  },
  {
   "cell_type": "markdown",
   "id": "a9aea136",
   "metadata": {},
   "source": [
    "Разделим на тестовую и тренировочную выборку."
   ]
  },
  {
   "cell_type": "code",
   "execution_count": 52,
   "id": "d78978ea",
   "metadata": {},
   "outputs": [],
   "source": [
    "features_train_valid, features_test, target_train_valid, target_test = train_test_split(data_model_features\n",
    "                                                                                        ,data_model_target\n",
    "                                                                                        ,random_state=RANDOM_STATE\n",
    "                                                                                        ,test_size=TEST_SIZE)"
   ]
  },
  {
   "cell_type": "markdown",
   "id": "5c713eb8",
   "metadata": {},
   "source": [
    "### Модель линейной регрессии"
   ]
  },
  {
   "cell_type": "code",
   "execution_count": 53,
   "id": "3f9931d8",
   "metadata": {},
   "outputs": [
    {
     "name": "stdout",
     "output_type": "stream",
     "text": [
      "Среднее абсолютное отклонение для модели линейной регрессии равно:  6.526185799756831\n"
     ]
    }
   ],
   "source": [
    "model_linear = LinearRegression()\n",
    "\n",
    "scores = cross_val_score(model_linear,features_train_valid,target_train_valid,cv=5,scoring='neg_mean_absolute_error')\n",
    "final_score = abs(sum(scores)/len(scores))\n",
    "print('Среднее абсолютное отклонение для модели линейной регрессии равно: ',final_score)"
   ]
  },
  {
   "cell_type": "code",
   "execution_count": null,
   "id": "45f1f8b2",
   "metadata": {},
   "outputs": [],
   "source": []
  },
  {
   "cell_type": "markdown",
   "id": "39e83404",
   "metadata": {},
   "source": [
    "### Модель LightGBM"
   ]
  },
  {
   "cell_type": "code",
   "execution_count": 54,
   "id": "a368c2e6",
   "metadata": {},
   "outputs": [
    {
     "name": "stderr",
     "output_type": "stream",
     "text": [
      "\u001b[32m[I 2023-05-18 11:43:20,438]\u001b[0m A new study created in memory with name: no-name-2175d7ad-bc8d-4425-99cb-20e050130083\u001b[0m\n",
      "\u001b[32m[I 2023-05-18 11:43:21,378]\u001b[0m Trial 0 finished with value: 6.705716919111509 and parameters: {'n_estimators': 130, 'max_depth': 25, 'num_leaves': 55, 'learning_rate': 0.101}. Best is trial 0 with value: 6.705716919111509.\u001b[0m\n"
     ]
    },
    {
     "name": "stdout",
     "output_type": "stream",
     "text": [
      "6.705716919111509\n"
     ]
    },
    {
     "name": "stderr",
     "output_type": "stream",
     "text": [
      "\u001b[32m[I 2023-05-18 11:43:23,092]\u001b[0m Trial 1 finished with value: 6.64545139415517 and parameters: {'n_estimators': 280, 'max_depth': 60, 'num_leaves': 90, 'learning_rate': 0.041}. Best is trial 1 with value: 6.64545139415517.\u001b[0m\n"
     ]
    },
    {
     "name": "stdout",
     "output_type": "stream",
     "text": [
      "6.64545139415517\n"
     ]
    },
    {
     "name": "stderr",
     "output_type": "stream",
     "text": [
      "\u001b[32m[I 2023-05-18 11:43:23,372]\u001b[0m Trial 2 finished with value: 6.516473150134054 and parameters: {'n_estimators': 210, 'max_depth': 50, 'num_leaves': 5, 'learning_rate': 0.151}. Best is trial 2 with value: 6.516473150134054.\u001b[0m\n"
     ]
    },
    {
     "name": "stdout",
     "output_type": "stream",
     "text": [
      "6.516473150134054\n"
     ]
    },
    {
     "name": "stderr",
     "output_type": "stream",
     "text": [
      "\u001b[32m[I 2023-05-18 11:43:24,441]\u001b[0m Trial 3 finished with value: 7.687649592609262 and parameters: {'n_estimators': 190, 'max_depth': 50, 'num_leaves': 70, 'learning_rate': 0.001}. Best is trial 2 with value: 6.516473150134054.\u001b[0m\n"
     ]
    },
    {
     "name": "stdout",
     "output_type": "stream",
     "text": [
      "7.687649592609262\n"
     ]
    },
    {
     "name": "stderr",
     "output_type": "stream",
     "text": [
      "\u001b[32m[I 2023-05-18 11:43:25,341]\u001b[0m Trial 4 finished with value: 6.981901339006551 and parameters: {'n_estimators': 140, 'max_depth': 100, 'num_leaves': 75, 'learning_rate': 0.181}. Best is trial 2 with value: 6.516473150134054.\u001b[0m\n"
     ]
    },
    {
     "name": "stdout",
     "output_type": "stream",
     "text": [
      "6.981901339006551\n"
     ]
    },
    {
     "name": "stderr",
     "output_type": "stream",
     "text": [
      "\u001b[32m[I 2023-05-18 11:43:29,354]\u001b[0m Trial 5 finished with value: 6.775043651605271 and parameters: {'n_estimators': 630, 'max_depth': 80, 'num_leaves': 95, 'learning_rate': 0.091}. Best is trial 2 with value: 6.516473150134054.\u001b[0m\n"
     ]
    },
    {
     "name": "stdout",
     "output_type": "stream",
     "text": [
      "6.775043651605271\n"
     ]
    },
    {
     "name": "stderr",
     "output_type": "stream",
     "text": [
      "\u001b[32m[I 2023-05-18 11:43:32,286]\u001b[0m Trial 6 finished with value: 6.741553995057583 and parameters: {'n_estimators': 470, 'max_depth': 25, 'num_leaves': 40, 'learning_rate': 0.051000000000000004}. Best is trial 2 with value: 6.516473150134054.\u001b[0m\n"
     ]
    },
    {
     "name": "stdout",
     "output_type": "stream",
     "text": [
      "6.741553995057583\n"
     ]
    },
    {
     "name": "stderr",
     "output_type": "stream",
     "text": [
      "\u001b[32m[I 2023-05-18 11:43:33,280]\u001b[0m Trial 7 finished with value: 6.94048178558878 and parameters: {'n_estimators': 160, 'max_depth': 20, 'num_leaves': 65, 'learning_rate': 0.201}. Best is trial 2 with value: 6.516473150134054.\u001b[0m\n"
     ]
    },
    {
     "name": "stdout",
     "output_type": "stream",
     "text": [
      "6.94048178558878\n"
     ]
    },
    {
     "name": "stderr",
     "output_type": "stream",
     "text": [
      "\u001b[32m[I 2023-05-18 11:43:34,276]\u001b[0m Trial 8 finished with value: 6.8135266398894725 and parameters: {'n_estimators': 830, 'max_depth': 30, 'num_leaves': 5, 'learning_rate': 0.14100000000000001}. Best is trial 2 with value: 6.516473150134054.\u001b[0m\n"
     ]
    },
    {
     "name": "stdout",
     "output_type": "stream",
     "text": [
      "6.8135266398894725\n"
     ]
    },
    {
     "name": "stderr",
     "output_type": "stream",
     "text": [
      "\u001b[32m[I 2023-05-18 11:43:38,369]\u001b[0m Trial 9 finished with value: 7.1383153275742455 and parameters: {'n_estimators': 650, 'max_depth': 45, 'num_leaves': 70, 'learning_rate': 0.241}. Best is trial 2 with value: 6.516473150134054.\u001b[0m\n"
     ]
    },
    {
     "name": "stdout",
     "output_type": "stream",
     "text": [
      "7.1383153275742455\n"
     ]
    },
    {
     "name": "stderr",
     "output_type": "stream",
     "text": [
      "\u001b[32m[I 2023-05-18 11:43:38,855]\u001b[0m Trial 10 finished with value: 6.622482917720826 and parameters: {'n_estimators': 390, 'max_depth': 70, 'num_leaves': 5, 'learning_rate': 0.151}. Best is trial 2 with value: 6.516473150134054.\u001b[0m\n"
     ]
    },
    {
     "name": "stdout",
     "output_type": "stream",
     "text": [
      "6.622482917720826\n"
     ]
    },
    {
     "name": "stderr",
     "output_type": "stream",
     "text": [
      "\u001b[32m[I 2023-05-18 11:43:39,331]\u001b[0m Trial 11 finished with value: 6.622482917720826 and parameters: {'n_estimators': 390, 'max_depth': 70, 'num_leaves': 5, 'learning_rate': 0.151}. Best is trial 2 with value: 6.516473150134054.\u001b[0m\n"
     ]
    },
    {
     "name": "stdout",
     "output_type": "stream",
     "text": [
      "6.622482917720826\n"
     ]
    },
    {
     "name": "stderr",
     "output_type": "stream",
     "text": [
      "\u001b[32m[I 2023-05-18 11:43:40,688]\u001b[0m Trial 12 finished with value: 6.961086828819479 and parameters: {'n_estimators': 330, 'max_depth': 85, 'num_leaves': 30, 'learning_rate': 0.191}. Best is trial 2 with value: 6.516473150134054.\u001b[0m\n"
     ]
    },
    {
     "name": "stdout",
     "output_type": "stream",
     "text": [
      "6.961086828819479\n"
     ]
    },
    {
     "name": "stderr",
     "output_type": "stream",
     "text": [
      "\u001b[32m[I 2023-05-18 11:43:41,685]\u001b[0m Trial 13 finished with value: 6.8233918992058475 and parameters: {'n_estimators': 550, 'max_depth': 5, 'num_leaves': 25, 'learning_rate': 0.111}. Best is trial 2 with value: 6.516473150134054.\u001b[0m\n",
      "\u001b[32m[I 2023-05-18 11:43:41,894]\u001b[0m Trial 14 finished with value: 6.766133858842793 and parameters: {'n_estimators': 50, 'max_depth': 60, 'num_leaves': 20, 'learning_rate': 0.251}. Best is trial 2 with value: 6.516473150134054.\u001b[0m\n"
     ]
    },
    {
     "name": "stdout",
     "output_type": "stream",
     "text": [
      "6.8233918992058475\n",
      "6.766133858842793\n"
     ]
    },
    {
     "name": "stderr",
     "output_type": "stream",
     "text": [
      "\u001b[32m[I 2023-05-18 11:43:44,060]\u001b[0m Trial 15 finished with value: 7.051450865971865 and parameters: {'n_estimators': 950, 'max_depth': 45, 'num_leaves': 15, 'learning_rate': 0.161}. Best is trial 2 with value: 6.516473150134054.\u001b[0m\n"
     ]
    },
    {
     "name": "stdout",
     "output_type": "stream",
     "text": [
      "7.051450865971865\n"
     ]
    },
    {
     "name": "stderr",
     "output_type": "stream",
     "text": [
      "\u001b[32m[I 2023-05-18 11:43:46,346]\u001b[0m Trial 16 finished with value: 6.8010774958514295 and parameters: {'n_estimators': 430, 'max_depth': 75, 'num_leaves': 40, 'learning_rate': 0.07100000000000001}. Best is trial 2 with value: 6.516473150134054.\u001b[0m\n"
     ]
    },
    {
     "name": "stdout",
     "output_type": "stream",
     "text": [
      "6.8010774958514295\n"
     ]
    },
    {
     "name": "stderr",
     "output_type": "stream",
     "text": [
      "\u001b[32m[I 2023-05-18 11:43:48,014]\u001b[0m Trial 17 finished with value: 6.968256858373552 and parameters: {'n_estimators': 280, 'max_depth': 90, 'num_leaves': 40, 'learning_rate': 0.221}. Best is trial 2 with value: 6.516473150134054.\u001b[0m\n"
     ]
    },
    {
     "name": "stdout",
     "output_type": "stream",
     "text": [
      "6.968256858373552\n"
     ]
    },
    {
     "name": "stderr",
     "output_type": "stream",
     "text": [
      "\u001b[32m[I 2023-05-18 11:43:49,048]\u001b[0m Trial 18 finished with value: 6.836824236163109 and parameters: {'n_estimators': 560, 'max_depth': 65, 'num_leaves': 10, 'learning_rate': 0.131}. Best is trial 2 with value: 6.516473150134054.\u001b[0m\n"
     ]
    },
    {
     "name": "stdout",
     "output_type": "stream",
     "text": [
      "6.836824236163109\n"
     ]
    },
    {
     "name": "stderr",
     "output_type": "stream",
     "text": [
      "\u001b[32m[I 2023-05-18 11:43:52,144]\u001b[0m Trial 19 finished with value: 6.95632936480911 and parameters: {'n_estimators': 730, 'max_depth': 35, 'num_leaves': 30, 'learning_rate': 0.171}. Best is trial 2 with value: 6.516473150134054.\u001b[0m\n"
     ]
    },
    {
     "name": "stdout",
     "output_type": "stream",
     "text": [
      "6.95632936480911\n"
     ]
    },
    {
     "name": "stderr",
     "output_type": "stream",
     "text": [
      "\u001b[32m[I 2023-05-18 11:43:54,316]\u001b[0m Trial 20 finished with value: 6.967335966871103 and parameters: {'n_estimators': 330, 'max_depth': 55, 'num_leaves': 105, 'learning_rate': 0.211}. Best is trial 2 with value: 6.516473150134054.\u001b[0m\n"
     ]
    },
    {
     "name": "stdout",
     "output_type": "stream",
     "text": [
      "6.967335966871103\n"
     ]
    },
    {
     "name": "stderr",
     "output_type": "stream",
     "text": [
      "\u001b[32m[I 2023-05-18 11:43:54,846]\u001b[0m Trial 21 finished with value: 6.621610055936559 and parameters: {'n_estimators': 430, 'max_depth': 70, 'num_leaves': 5, 'learning_rate': 0.14100000000000001}. Best is trial 2 with value: 6.516473150134054.\u001b[0m\n"
     ]
    },
    {
     "name": "stdout",
     "output_type": "stream",
     "text": [
      "6.621610055936559\n"
     ]
    },
    {
     "name": "stderr",
     "output_type": "stream",
     "text": [
      "\u001b[32m[I 2023-05-18 11:43:55,950]\u001b[0m Trial 22 finished with value: 6.864795096413186 and parameters: {'n_estimators': 490, 'max_depth': 70, 'num_leaves': 15, 'learning_rate': 0.121}. Best is trial 2 with value: 6.516473150134054.\u001b[0m\n"
     ]
    },
    {
     "name": "stdout",
     "output_type": "stream",
     "text": [
      "6.864795096413186\n"
     ]
    },
    {
     "name": "stderr",
     "output_type": "stream",
     "text": [
      "\u001b[32m[I 2023-05-18 11:43:56,329]\u001b[0m Trial 23 finished with value: 6.526954834392853 and parameters: {'n_estimators': 240, 'max_depth': 95, 'num_leaves': 5, 'learning_rate': 0.151}. Best is trial 2 with value: 6.516473150134054.\u001b[0m\n"
     ]
    },
    {
     "name": "stdout",
     "output_type": "stream",
     "text": [
      "6.526954834392853\n"
     ]
    },
    {
     "name": "stderr",
     "output_type": "stream",
     "text": [
      "\u001b[32m[I 2023-05-18 11:43:57,122]\u001b[0m Trial 24 finished with value: 6.846028600165265 and parameters: {'n_estimators': 260, 'max_depth': 95, 'num_leaves': 20, 'learning_rate': 0.131}. Best is trial 2 with value: 6.516473150134054.\u001b[0m\n",
      "\u001b[32m[I 2023-05-18 11:43:57,324]\u001b[0m Trial 25 finished with value: 6.559968244137564 and parameters: {'n_estimators': 60, 'max_depth': 85, 'num_leaves': 15, 'learning_rate': 0.171}. Best is trial 2 with value: 6.516473150134054.\u001b[0m\n"
     ]
    },
    {
     "name": "stdout",
     "output_type": "stream",
     "text": [
      "6.846028600165265\n",
      "6.559968244137564\n"
     ]
    },
    {
     "name": "stderr",
     "output_type": "stream",
     "text": [
      "\u001b[32m[I 2023-05-18 11:43:57,681]\u001b[0m Trial 26 finished with value: 6.6979013107339185 and parameters: {'n_estimators': 50, 'max_depth': 100, 'num_leaves': 50, 'learning_rate': 0.181}. Best is trial 2 with value: 6.516473150134054.\u001b[0m\n"
     ]
    },
    {
     "name": "stdout",
     "output_type": "stream",
     "text": [
      "6.6979013107339185\n"
     ]
    },
    {
     "name": "stderr",
     "output_type": "stream",
     "text": [
      "\u001b[32m[I 2023-05-18 11:43:58,196]\u001b[0m Trial 27 finished with value: 6.843844692217256 and parameters: {'n_estimators': 210, 'max_depth': 90, 'num_leaves': 15, 'learning_rate': 0.221}. Best is trial 2 with value: 6.516473150134054.\u001b[0m\n"
     ]
    },
    {
     "name": "stdout",
     "output_type": "stream",
     "text": [
      "6.843844692217256\n"
     ]
    },
    {
     "name": "stderr",
     "output_type": "stream",
     "text": [
      "\u001b[32m[I 2023-05-18 11:43:58,714]\u001b[0m Trial 28 finished with value: 6.745658941893456 and parameters: {'n_estimators': 110, 'max_depth': 80, 'num_leaves': 30, 'learning_rate': 0.161}. Best is trial 2 with value: 6.516473150134054.\u001b[0m\n"
     ]
    },
    {
     "name": "stdout",
     "output_type": "stream",
     "text": [
      "6.745658941893456\n"
     ]
    },
    {
     "name": "stderr",
     "output_type": "stream",
     "text": [
      "\u001b[32m[I 2023-05-18 11:43:59,451]\u001b[0m Trial 29 finished with value: 6.745727307372862 and parameters: {'n_estimators': 110, 'max_depth': 40, 'num_leaves': 50, 'learning_rate': 0.101}. Best is trial 2 with value: 6.516473150134054.\u001b[0m\n"
     ]
    },
    {
     "name": "stdout",
     "output_type": "stream",
     "text": [
      "6.745727307372862\n"
     ]
    },
    {
     "name": "stderr",
     "output_type": "stream",
     "text": [
      "\u001b[32m[I 2023-05-18 11:44:00,124]\u001b[0m Trial 30 finished with value: 6.5817782766068245 and parameters: {'n_estimators': 210, 'max_depth': 90, 'num_leaves': 20, 'learning_rate': 0.091}. Best is trial 2 with value: 6.516473150134054.\u001b[0m\n"
     ]
    },
    {
     "name": "stdout",
     "output_type": "stream",
     "text": [
      "6.5817782766068245\n"
     ]
    },
    {
     "name": "stderr",
     "output_type": "stream",
     "text": [
      "\u001b[32m[I 2023-05-18 11:44:00,850]\u001b[0m Trial 31 finished with value: 6.608012475817325 and parameters: {'n_estimators': 210, 'max_depth': 90, 'num_leaves': 20, 'learning_rate': 0.081}. Best is trial 2 with value: 6.516473150134054.\u001b[0m\n"
     ]
    },
    {
     "name": "stdout",
     "output_type": "stream",
     "text": [
      "6.608012475817325\n"
     ]
    },
    {
     "name": "stderr",
     "output_type": "stream",
     "text": [
      "\u001b[32m[I 2023-05-18 11:44:01,376]\u001b[0m Trial 32 finished with value: 6.540285181776233 and parameters: {'n_estimators': 240, 'max_depth': 80, 'num_leaves': 10, 'learning_rate': 0.111}. Best is trial 2 with value: 6.516473150134054.\u001b[0m\n"
     ]
    },
    {
     "name": "stdout",
     "output_type": "stream",
     "text": [
      "6.540285181776233\n"
     ]
    },
    {
     "name": "stderr",
     "output_type": "stream",
     "text": [
      "\u001b[32m[I 2023-05-18 11:44:02,022]\u001b[0m Trial 33 finished with value: 6.640065069008065 and parameters: {'n_estimators': 320, 'max_depth': 80, 'num_leaves': 10, 'learning_rate': 0.111}. Best is trial 2 with value: 6.516473150134054.\u001b[0m\n"
     ]
    },
    {
     "name": "stdout",
     "output_type": "stream",
     "text": [
      "6.640065069008065\n"
     ]
    },
    {
     "name": "stderr",
     "output_type": "stream",
     "text": [
      "\u001b[32m[I 2023-05-18 11:44:02,326]\u001b[0m Trial 34 finished with value: 6.5533177190780245 and parameters: {'n_estimators': 90, 'max_depth': 55, 'num_leaves': 10, 'learning_rate': 0.171}. Best is trial 2 with value: 6.516473150134054.\u001b[0m\n"
     ]
    },
    {
     "name": "stdout",
     "output_type": "stream",
     "text": [
      "6.5533177190780245\n"
     ]
    },
    {
     "name": "stderr",
     "output_type": "stream",
     "text": [
      "\u001b[32m[I 2023-05-18 11:44:03,008]\u001b[0m Trial 35 finished with value: 6.665528760563205 and parameters: {'n_estimators': 260, 'max_depth': 55, 'num_leaves': 10, 'learning_rate': 0.011}. Best is trial 2 with value: 6.516473150134054.\u001b[0m\n"
     ]
    },
    {
     "name": "stdout",
     "output_type": "stream",
     "text": [
      "6.665528760563205\n"
     ]
    },
    {
     "name": "stderr",
     "output_type": "stream",
     "text": [
      "\u001b[32m[I 2023-05-18 11:44:03,589]\u001b[0m Trial 36 finished with value: 6.723984292676677 and parameters: {'n_estimators': 140, 'max_depth': 50, 'num_leaves': 25, 'learning_rate': 0.121}. Best is trial 2 with value: 6.516473150134054.\u001b[0m\n"
     ]
    },
    {
     "name": "stdout",
     "output_type": "stream",
     "text": [
      "6.723984292676677\n"
     ]
    },
    {
     "name": "stderr",
     "output_type": "stream",
     "text": [
      "\u001b[32m[I 2023-05-18 11:44:04,569]\u001b[0m Trial 37 finished with value: 6.586332576808945 and parameters: {'n_estimators': 170, 'max_depth': 60, 'num_leaves': 35, 'learning_rate': 0.061}. Best is trial 2 with value: 6.516473150134054.\u001b[0m\n"
     ]
    },
    {
     "name": "stdout",
     "output_type": "stream",
     "text": [
      "6.586332576808945\n"
     ]
    },
    {
     "name": "stderr",
     "output_type": "stream",
     "text": [
      "\u001b[32m[I 2023-05-18 11:44:04,843]\u001b[0m Trial 38 finished with value: 6.537140766878342 and parameters: {'n_estimators': 100, 'max_depth': 100, 'num_leaves': 10, 'learning_rate': 0.181}. Best is trial 2 with value: 6.516473150134054.\u001b[0m\n"
     ]
    },
    {
     "name": "stdout",
     "output_type": "stream",
     "text": [
      "6.537140766878342\n"
     ]
    },
    {
     "name": "stderr",
     "output_type": "stream",
     "text": [
      "\u001b[32m[I 2023-05-18 11:44:06,875]\u001b[0m Trial 39 finished with value: 6.975522840492072 and parameters: {'n_estimators': 240, 'max_depth': 100, 'num_leaves': 80, 'learning_rate': 0.201}. Best is trial 2 with value: 6.516473150134054.\u001b[0m\n"
     ]
    },
    {
     "name": "stdout",
     "output_type": "stream",
     "text": [
      "6.975522840492072\n"
     ]
    },
    {
     "name": "stderr",
     "output_type": "stream",
     "text": [
      "\u001b[32m[I 2023-05-18 11:44:07,344]\u001b[0m Trial 40 finished with value: 6.567924106778023 and parameters: {'n_estimators': 320, 'max_depth': 95, 'num_leaves': 5, 'learning_rate': 0.021}. Best is trial 2 with value: 6.516473150134054.\u001b[0m\n"
     ]
    },
    {
     "name": "stdout",
     "output_type": "stream",
     "text": [
      "6.567924106778023\n"
     ]
    },
    {
     "name": "stderr",
     "output_type": "stream",
     "text": [
      "\u001b[32m[I 2023-05-18 11:44:07,618]\u001b[0m Trial 41 finished with value: 6.537140766878342 and parameters: {'n_estimators': 100, 'max_depth': 100, 'num_leaves': 10, 'learning_rate': 0.181}. Best is trial 2 with value: 6.516473150134054.\u001b[0m\n"
     ]
    },
    {
     "name": "stdout",
     "output_type": "stream",
     "text": [
      "6.537140766878342\n"
     ]
    },
    {
     "name": "stderr",
     "output_type": "stream",
     "text": [
      "\u001b[32m[I 2023-05-18 11:44:07,984]\u001b[0m Trial 42 finished with value: 6.661867996179084 and parameters: {'n_estimators': 170, 'max_depth': 100, 'num_leaves': 10, 'learning_rate': 0.191}. Best is trial 2 with value: 6.516473150134054.\u001b[0m\n",
      "\u001b[32m[I 2023-05-18 11:44:08,191]\u001b[0m Trial 43 finished with value: 6.522789331768217 and parameters: {'n_estimators': 130, 'max_depth': 95, 'num_leaves': 5, 'learning_rate': 0.151}. Best is trial 2 with value: 6.516473150134054.\u001b[0m\n"
     ]
    },
    {
     "name": "stdout",
     "output_type": "stream",
     "text": [
      "6.661867996179084\n",
      "6.522789331768217\n"
     ]
    },
    {
     "name": "stderr",
     "output_type": "stream",
     "text": [
      "\u001b[32m[I 2023-05-18 11:44:09,079]\u001b[0m Trial 44 finished with value: 6.826581327149118 and parameters: {'n_estimators': 140, 'max_depth': 95, 'num_leaves': 60, 'learning_rate': 0.151}. Best is trial 2 with value: 6.516473150134054.\u001b[0m\n",
      "\u001b[32m[I 2023-05-18 11:44:09,243]\u001b[0m Trial 45 finished with value: 6.507997526226051 and parameters: {'n_estimators': 90, 'max_depth': 100, 'num_leaves': 5, 'learning_rate': 0.191}. Best is trial 45 with value: 6.507997526226051.\u001b[0m\n"
     ]
    },
    {
     "name": "stdout",
     "output_type": "stream",
     "text": [
      "6.826581327149118\n",
      "6.507997526226051\n"
     ]
    },
    {
     "name": "stderr",
     "output_type": "stream",
     "text": [
      "\u001b[32m[I 2023-05-18 11:44:09,506]\u001b[0m Trial 46 finished with value: 6.506486026920678 and parameters: {'n_estimators': 170, 'max_depth': 85, 'num_leaves': 5, 'learning_rate': 0.14100000000000001}. Best is trial 46 with value: 6.506486026920678.\u001b[0m\n"
     ]
    },
    {
     "name": "stdout",
     "output_type": "stream",
     "text": [
      "6.506486026920678\n"
     ]
    },
    {
     "name": "stderr",
     "output_type": "stream",
     "text": [
      "\u001b[32m[I 2023-05-18 11:44:09,786]\u001b[0m Trial 47 finished with value: 6.515485831114486 and parameters: {'n_estimators': 190, 'max_depth': 85, 'num_leaves': 5, 'learning_rate': 0.14100000000000001}. Best is trial 46 with value: 6.506486026920678.\u001b[0m\n"
     ]
    },
    {
     "name": "stdout",
     "output_type": "stream",
     "text": [
      "6.515485831114486\n"
     ]
    },
    {
     "name": "stderr",
     "output_type": "stream",
     "text": [
      "\u001b[32m[I 2023-05-18 11:44:10,403]\u001b[0m Trial 48 finished with value: 6.762420424460325 and parameters: {'n_estimators': 170, 'max_depth': 85, 'num_leaves': 25, 'learning_rate': 0.14100000000000001}. Best is trial 46 with value: 6.506486026920678.\u001b[0m\n"
     ]
    },
    {
     "name": "stdout",
     "output_type": "stream",
     "text": [
      "6.762420424460325\n"
     ]
    },
    {
     "name": "stderr",
     "output_type": "stream",
     "text": [
      "\u001b[32m[I 2023-05-18 11:44:10,861]\u001b[0m Trial 49 finished with value: 6.642087901390927 and parameters: {'n_estimators': 370, 'max_depth': 20, 'num_leaves': 5, 'learning_rate': 0.161}. Best is trial 46 with value: 6.506486026920678.\u001b[0m\n"
     ]
    },
    {
     "name": "stdout",
     "output_type": "stream",
     "text": [
      "6.642087901390927\n"
     ]
    },
    {
     "name": "stderr",
     "output_type": "stream",
     "text": [
      "\u001b[32m[I 2023-05-18 11:44:11,617]\u001b[0m Trial 50 finished with value: 6.864641091766536 and parameters: {'n_estimators': 290, 'max_depth': 75, 'num_leaves': 15, 'learning_rate': 0.14100000000000001}. Best is trial 46 with value: 6.506486026920678.\u001b[0m\n"
     ]
    },
    {
     "name": "stdout",
     "output_type": "stream",
     "text": [
      "6.864641091766536\n"
     ]
    },
    {
     "name": "stderr",
     "output_type": "stream",
     "text": [
      "\u001b[32m[I 2023-05-18 11:44:11,885]\u001b[0m Trial 51 finished with value: 6.511207718036563 and parameters: {'n_estimators': 190, 'max_depth': 95, 'num_leaves': 5, 'learning_rate': 0.161}. Best is trial 46 with value: 6.506486026920678.\u001b[0m\n"
     ]
    },
    {
     "name": "stdout",
     "output_type": "stream",
     "text": [
      "6.511207718036563\n"
     ]
    },
    {
     "name": "stderr",
     "output_type": "stream",
     "text": [
      "\u001b[32m[I 2023-05-18 11:44:12,198]\u001b[0m Trial 52 finished with value: 6.511207718036563 and parameters: {'n_estimators': 190, 'max_depth': 85, 'num_leaves': 5, 'learning_rate': 0.161}. Best is trial 46 with value: 6.506486026920678.\u001b[0m\n"
     ]
    },
    {
     "name": "stdout",
     "output_type": "stream",
     "text": [
      "6.511207718036563\n"
     ]
    },
    {
     "name": "stderr",
     "output_type": "stream",
     "text": [
      "\u001b[32m[I 2023-05-18 11:44:12,718]\u001b[0m Trial 53 finished with value: 6.770196987141062 and parameters: {'n_estimators': 190, 'max_depth': 75, 'num_leaves': 15, 'learning_rate': 0.191}. Best is trial 46 with value: 6.506486026920678.\u001b[0m\n"
     ]
    },
    {
     "name": "stdout",
     "output_type": "stream",
     "text": [
      "6.770196987141062\n"
     ]
    },
    {
     "name": "stderr",
     "output_type": "stream",
     "text": [
      "\u001b[32m[I 2023-05-18 11:44:13,228]\u001b[0m Trial 54 finished with value: 6.548831223716249 and parameters: {'n_estimators': 370, 'max_depth': 85, 'num_leaves': 5, 'learning_rate': 0.131}. Best is trial 46 with value: 6.506486026920678.\u001b[0m\n"
     ]
    },
    {
     "name": "stdout",
     "output_type": "stream",
     "text": [
      "6.548831223716249\n"
     ]
    },
    {
     "name": "stderr",
     "output_type": "stream",
     "text": [
      "\u001b[32m[I 2023-05-18 11:44:19,417]\u001b[0m Trial 55 finished with value: 6.926879223756064 and parameters: {'n_estimators': 940, 'max_depth': 65, 'num_leaves': 85, 'learning_rate': 0.161}. Best is trial 46 with value: 6.506486026920678.\u001b[0m\n"
     ]
    },
    {
     "name": "stdout",
     "output_type": "stream",
     "text": [
      "6.926879223756064\n"
     ]
    },
    {
     "name": "stderr",
     "output_type": "stream",
     "text": [
      "\u001b[32m[I 2023-05-18 11:44:19,737]\u001b[0m Trial 56 finished with value: 6.648823919893521 and parameters: {'n_estimators': 70, 'max_depth': 80, 'num_leaves': 20, 'learning_rate': 0.201}. Best is trial 46 with value: 6.506486026920678.\u001b[0m\n"
     ]
    },
    {
     "name": "stdout",
     "output_type": "stream",
     "text": [
      "6.648823919893521\n"
     ]
    },
    {
     "name": "stderr",
     "output_type": "stream",
     "text": [
      "\u001b[32m[I 2023-05-18 11:44:22,629]\u001b[0m Trial 57 finished with value: 6.92745295090698 and parameters: {'n_estimators': 690, 'max_depth': 45, 'num_leaves': 25, 'learning_rate': 0.14100000000000001}. Best is trial 46 with value: 6.506486026920678.\u001b[0m\n"
     ]
    },
    {
     "name": "stdout",
     "output_type": "stream",
     "text": [
      "6.92745295090698\n"
     ]
    },
    {
     "name": "stderr",
     "output_type": "stream",
     "text": [
      "\u001b[32m[I 2023-05-18 11:44:22,917]\u001b[0m Trial 58 finished with value: 6.508348410620251 and parameters: {'n_estimators': 210, 'max_depth': 90, 'num_leaves': 5, 'learning_rate': 0.171}. Best is trial 46 with value: 6.506486026920678.\u001b[0m\n"
     ]
    },
    {
     "name": "stdout",
     "output_type": "stream",
     "text": [
      "6.508348410620251\n"
     ]
    },
    {
     "name": "stderr",
     "output_type": "stream",
     "text": [
      "\u001b[32m[I 2023-05-18 11:44:23,298]\u001b[0m Trial 59 finished with value: 6.762392403402368 and parameters: {'n_estimators': 140, 'max_depth': 85, 'num_leaves': 15, 'learning_rate': 0.221}. Best is trial 46 with value: 6.506486026920678.\u001b[0m\n"
     ]
    },
    {
     "name": "stdout",
     "output_type": "stream",
     "text": [
      "6.762392403402368\n"
     ]
    },
    {
     "name": "stderr",
     "output_type": "stream",
     "text": [
      "\u001b[32m[I 2023-05-18 11:44:23,671]\u001b[0m Trial 60 finished with value: 6.5373622930472 and parameters: {'n_estimators': 290, 'max_depth': 90, 'num_leaves': 5, 'learning_rate': 0.171}. Best is trial 46 with value: 6.506486026920678.\u001b[0m\n"
     ]
    },
    {
     "name": "stdout",
     "output_type": "stream",
     "text": [
      "6.5373622930472\n"
     ]
    },
    {
     "name": "stderr",
     "output_type": "stream",
     "text": [
      "\u001b[32m[I 2023-05-18 11:44:23,952]\u001b[0m Trial 61 finished with value: 6.5248341933905305 and parameters: {'n_estimators': 200, 'max_depth': 95, 'num_leaves': 5, 'learning_rate': 0.161}. Best is trial 46 with value: 6.506486026920678.\u001b[0m\n"
     ]
    },
    {
     "name": "stdout",
     "output_type": "stream",
     "text": [
      "6.5248341933905305\n"
     ]
    },
    {
     "name": "stderr",
     "output_type": "stream",
     "text": [
      "\u001b[32m[I 2023-05-18 11:44:24,302]\u001b[0m Trial 62 finished with value: 6.661867996179084 and parameters: {'n_estimators': 170, 'max_depth': 90, 'num_leaves': 10, 'learning_rate': 0.191}. Best is trial 46 with value: 6.506486026920678.\u001b[0m\n"
     ]
    },
    {
     "name": "stdout",
     "output_type": "stream",
     "text": [
      "6.661867996179084\n"
     ]
    },
    {
     "name": "stderr",
     "output_type": "stream",
     "text": [
      "\u001b[32m[I 2023-05-18 11:44:24,898]\u001b[0m Trial 63 finished with value: 6.70492254448507 and parameters: {'n_estimators': 230, 'max_depth': 85, 'num_leaves': 15, 'learning_rate': 0.121}. Best is trial 46 with value: 6.506486026920678.\u001b[0m\n"
     ]
    },
    {
     "name": "stdout",
     "output_type": "stream",
     "text": [
      "6.70492254448507\n"
     ]
    },
    {
     "name": "stderr",
     "output_type": "stream",
     "text": [
      "\u001b[32m[I 2023-05-18 11:44:25,262]\u001b[0m Trial 64 finished with value: 6.537829693275771 and parameters: {'n_estimators': 270, 'max_depth': 65, 'num_leaves': 5, 'learning_rate': 0.171}. Best is trial 46 with value: 6.506486026920678.\u001b[0m\n"
     ]
    },
    {
     "name": "stdout",
     "output_type": "stream",
     "text": [
      "6.537829693275771\n"
     ]
    },
    {
     "name": "stderr",
     "output_type": "stream",
     "text": [
      "\u001b[32m[I 2023-05-18 11:44:25,828]\u001b[0m Trial 65 finished with value: 6.755894885318452 and parameters: {'n_estimators': 80, 'max_depth': 75, 'num_leaves': 95, 'learning_rate': 0.151}. Best is trial 46 with value: 6.506486026920678.\u001b[0m\n"
     ]
    },
    {
     "name": "stdout",
     "output_type": "stream",
     "text": [
      "6.755894885318452\n"
     ]
    },
    {
     "name": "stderr",
     "output_type": "stream",
     "text": [
      "\u001b[32m[I 2023-05-18 11:44:26,239]\u001b[0m Trial 66 finished with value: 6.6279106230587965 and parameters: {'n_estimators': 120, 'max_depth': 90, 'num_leaves': 20, 'learning_rate': 0.131}. Best is trial 46 with value: 6.506486026920678.\u001b[0m\n"
     ]
    },
    {
     "name": "stdout",
     "output_type": "stream",
     "text": [
      "6.6279106230587965\n"
     ]
    },
    {
     "name": "stderr",
     "output_type": "stream",
     "text": [
      "\u001b[32m[I 2023-05-18 11:44:26,650]\u001b[0m Trial 67 finished with value: 6.863106828435456 and parameters: {'n_estimators': 220, 'max_depth': 95, 'num_leaves': 10, 'learning_rate': 0.231}. Best is trial 46 with value: 6.506486026920678.\u001b[0m\n"
     ]
    },
    {
     "name": "stdout",
     "output_type": "stream",
     "text": [
      "6.863106828435456\n"
     ]
    },
    {
     "name": "stderr",
     "output_type": "stream",
     "text": [
      "\u001b[32m[I 2023-05-18 11:44:26,924]\u001b[0m Trial 68 finished with value: 6.550969657211563 and parameters: {'n_estimators': 180, 'max_depth': 35, 'num_leaves': 5, 'learning_rate': 0.211}. Best is trial 46 with value: 6.506486026920678.\u001b[0m\n"
     ]
    },
    {
     "name": "stdout",
     "output_type": "stream",
     "text": [
      "6.550969657211563\n"
     ]
    },
    {
     "name": "stderr",
     "output_type": "stream",
     "text": [
      "\u001b[32m[I 2023-05-18 11:44:31,805]\u001b[0m Trial 69 finished with value: 6.926228599768755 and parameters: {'n_estimators': 790, 'max_depth': 80, 'num_leaves': 70, 'learning_rate': 0.161}. Best is trial 46 with value: 6.506486026920678.\u001b[0m\n"
     ]
    },
    {
     "name": "stdout",
     "output_type": "stream",
     "text": [
      "6.926228599768755\n"
     ]
    },
    {
     "name": "stderr",
     "output_type": "stream",
     "text": [
      "\u001b[32m[I 2023-05-18 11:44:32,549]\u001b[0m Trial 70 finished with value: 6.890112643378127 and parameters: {'n_estimators': 420, 'max_depth': 5, 'num_leaves': 15, 'learning_rate': 0.151}. Best is trial 46 with value: 6.506486026920678.\u001b[0m\n"
     ]
    },
    {
     "name": "stdout",
     "output_type": "stream",
     "text": [
      "6.890112643378127\n"
     ]
    },
    {
     "name": "stderr",
     "output_type": "stream",
     "text": [
      "\u001b[32m[I 2023-05-18 11:44:32,766]\u001b[0m Trial 71 finished with value: 6.524839979978334 and parameters: {'n_estimators': 140, 'max_depth': 95, 'num_leaves': 5, 'learning_rate': 0.151}. Best is trial 46 with value: 6.506486026920678.\u001b[0m\n"
     ]
    },
    {
     "name": "stdout",
     "output_type": "stream",
     "text": [
      "6.524839979978334\n"
     ]
    },
    {
     "name": "stderr",
     "output_type": "stream",
     "text": [
      "\u001b[32m[I 2023-05-18 11:44:33,084]\u001b[0m Trial 72 finished with value: 6.636024956153065 and parameters: {'n_estimators': 150, 'max_depth': 100, 'num_leaves': 10, 'learning_rate': 0.171}. Best is trial 46 with value: 6.506486026920678.\u001b[0m\n",
      "\u001b[32m[I 2023-05-18 11:44:33,285]\u001b[0m Trial 73 finished with value: 6.514200051693753 and parameters: {'n_estimators': 120, 'max_depth': 95, 'num_leaves': 5, 'learning_rate': 0.14100000000000001}. Best is trial 46 with value: 6.506486026920678.\u001b[0m\n"
     ]
    },
    {
     "name": "stdout",
     "output_type": "stream",
     "text": [
      "6.636024956153065\n",
      "6.514200051693753\n"
     ]
    },
    {
     "name": "stderr",
     "output_type": "stream",
     "text": [
      "\u001b[32m[I 2023-05-18 11:44:34,342]\u001b[0m Trial 74 finished with value: 6.965422343443235 and parameters: {'n_estimators': 600, 'max_depth': 90, 'num_leaves': 10, 'learning_rate': 0.181}. Best is trial 46 with value: 6.506486026920678.\u001b[0m\n"
     ]
    },
    {
     "name": "stdout",
     "output_type": "stream",
     "text": [
      "6.965422343443235\n"
     ]
    },
    {
     "name": "stderr",
     "output_type": "stream",
     "text": [
      "\u001b[32m[I 2023-05-18 11:44:34,593]\u001b[0m Trial 75 finished with value: 6.505667763772813 and parameters: {'n_estimators': 70, 'max_depth': 85, 'num_leaves': 15, 'learning_rate': 0.131}. Best is trial 75 with value: 6.505667763772813.\u001b[0m\n",
      "\u001b[32m[I 2023-05-18 11:44:34,744]\u001b[0m Trial 76 finished with value: 6.495048581189495 and parameters: {'n_estimators': 70, 'max_depth': 85, 'num_leaves': 5, 'learning_rate': 0.131}. Best is trial 76 with value: 6.495048581189495.\u001b[0m\n"
     ]
    },
    {
     "name": "stdout",
     "output_type": "stream",
     "text": [
      "6.505667763772813\n",
      "6.495048581189495\n"
     ]
    },
    {
     "name": "stderr",
     "output_type": "stream",
     "text": [
      "\u001b[32m[I 2023-05-18 11:44:35,010]\u001b[0m Trial 77 finished with value: 6.484384030499963 and parameters: {'n_estimators': 60, 'max_depth': 85, 'num_leaves': 20, 'learning_rate': 0.101}. Best is trial 77 with value: 6.484384030499963.\u001b[0m\n"
     ]
    },
    {
     "name": "stdout",
     "output_type": "stream",
     "text": [
      "6.484384030499963\n"
     ]
    },
    {
     "name": "stderr",
     "output_type": "stream",
     "text": [
      "\u001b[32m[I 2023-05-18 11:44:35,221]\u001b[0m Trial 78 finished with value: 6.45638290840411 and parameters: {'n_estimators': 50, 'max_depth': 80, 'num_leaves': 15, 'learning_rate': 0.101}. Best is trial 78 with value: 6.45638290840411.\u001b[0m\n"
     ]
    },
    {
     "name": "stdout",
     "output_type": "stream",
     "text": [
      "6.45638290840411\n"
     ]
    },
    {
     "name": "stderr",
     "output_type": "stream",
     "text": [
      "\u001b[32m[I 2023-05-18 11:44:35,546]\u001b[0m Trial 79 finished with value: 6.484384030499963 and parameters: {'n_estimators': 60, 'max_depth': 80, 'num_leaves': 20, 'learning_rate': 0.101}. Best is trial 78 with value: 6.45638290840411.\u001b[0m\n"
     ]
    },
    {
     "name": "stdout",
     "output_type": "stream",
     "text": [
      "6.484384030499963\n"
     ]
    },
    {
     "name": "stderr",
     "output_type": "stream",
     "text": [
      "\u001b[32m[I 2023-05-18 11:44:35,898]\u001b[0m Trial 80 finished with value: 6.475800178396986 and parameters: {'n_estimators': 50, 'max_depth': 80, 'num_leaves': 25, 'learning_rate': 0.101}. Best is trial 78 with value: 6.45638290840411.\u001b[0m\n"
     ]
    },
    {
     "name": "stdout",
     "output_type": "stream",
     "text": [
      "6.475800178396986\n"
     ]
    },
    {
     "name": "stderr",
     "output_type": "stream",
     "text": [
      "\u001b[32m[I 2023-05-18 11:44:36,175]\u001b[0m Trial 81 finished with value: 6.475800178396986 and parameters: {'n_estimators': 50, 'max_depth': 80, 'num_leaves': 25, 'learning_rate': 0.101}. Best is trial 78 with value: 6.45638290840411.\u001b[0m\n"
     ]
    },
    {
     "name": "stdout",
     "output_type": "stream",
     "text": [
      "6.475800178396986\n"
     ]
    },
    {
     "name": "stderr",
     "output_type": "stream",
     "text": [
      "\u001b[32m[I 2023-05-18 11:44:36,502]\u001b[0m Trial 82 finished with value: 6.488471979963762 and parameters: {'n_estimators': 50, 'max_depth': 75, 'num_leaves': 35, 'learning_rate': 0.091}. Best is trial 78 with value: 6.45638290840411.\u001b[0m\n"
     ]
    },
    {
     "name": "stdout",
     "output_type": "stream",
     "text": [
      "6.488471979963762\n"
     ]
    },
    {
     "name": "stderr",
     "output_type": "stream",
     "text": [
      "\u001b[32m[I 2023-05-18 11:44:36,838]\u001b[0m Trial 83 finished with value: 6.488471979963762 and parameters: {'n_estimators': 50, 'max_depth': 70, 'num_leaves': 35, 'learning_rate': 0.091}. Best is trial 78 with value: 6.45638290840411.\u001b[0m\n"
     ]
    },
    {
     "name": "stdout",
     "output_type": "stream",
     "text": [
      "6.488471979963762\n"
     ]
    },
    {
     "name": "stderr",
     "output_type": "stream",
     "text": [
      "\u001b[32m[I 2023-05-18 11:44:37,156]\u001b[0m Trial 84 finished with value: 6.488471979963762 and parameters: {'n_estimators': 50, 'max_depth': 75, 'num_leaves': 35, 'learning_rate': 0.091}. Best is trial 78 with value: 6.45638290840411.\u001b[0m\n"
     ]
    },
    {
     "name": "stdout",
     "output_type": "stream",
     "text": [
      "6.488471979963762\n"
     ]
    },
    {
     "name": "stderr",
     "output_type": "stream",
     "text": [
      "\u001b[32m[I 2023-05-18 11:44:37,478]\u001b[0m Trial 85 finished with value: 6.488471979963762 and parameters: {'n_estimators': 50, 'max_depth': 70, 'num_leaves': 35, 'learning_rate': 0.091}. Best is trial 78 with value: 6.45638290840411.\u001b[0m\n"
     ]
    },
    {
     "name": "stdout",
     "output_type": "stream",
     "text": [
      "6.488471979963762\n"
     ]
    },
    {
     "name": "stderr",
     "output_type": "stream",
     "text": [
      "\u001b[32m[I 2023-05-18 11:44:37,790]\u001b[0m Trial 86 finished with value: 6.488471979963762 and parameters: {'n_estimators': 50, 'max_depth': 70, 'num_leaves': 35, 'learning_rate': 0.091}. Best is trial 78 with value: 6.45638290840411.\u001b[0m\n"
     ]
    },
    {
     "name": "stdout",
     "output_type": "stream",
     "text": [
      "6.488471979963762\n"
     ]
    },
    {
     "name": "stderr",
     "output_type": "stream",
     "text": [
      "\u001b[32m[I 2023-05-18 11:44:38,088]\u001b[0m Trial 87 finished with value: 6.514530331106691 and parameters: {'n_estimators': 50, 'max_depth': 70, 'num_leaves': 35, 'learning_rate': 0.081}. Best is trial 78 with value: 6.45638290840411.\u001b[0m\n"
     ]
    },
    {
     "name": "stdout",
     "output_type": "stream",
     "text": [
      "6.514530331106691\n"
     ]
    },
    {
     "name": "stderr",
     "output_type": "stream",
     "text": [
      "\u001b[32m[I 2023-05-18 11:44:38,647]\u001b[0m Trial 88 finished with value: 6.6650331695028004 and parameters: {'n_estimators': 90, 'max_depth': 75, 'num_leaves': 45, 'learning_rate': 0.101}. Best is trial 78 with value: 6.45638290840411.\u001b[0m\n"
     ]
    },
    {
     "name": "stdout",
     "output_type": "stream",
     "text": [
      "6.6650331695028004\n"
     ]
    },
    {
     "name": "stderr",
     "output_type": "stream",
     "text": [
      "\u001b[32m[I 2023-05-18 11:44:38,925]\u001b[0m Trial 89 finished with value: 6.454535958821538 and parameters: {'n_estimators': 50, 'max_depth': 75, 'num_leaves': 30, 'learning_rate': 0.07100000000000001}. Best is trial 89 with value: 6.454535958821538.\u001b[0m\n"
     ]
    },
    {
     "name": "stdout",
     "output_type": "stream",
     "text": [
      "6.454535958821538\n"
     ]
    },
    {
     "name": "stderr",
     "output_type": "stream",
     "text": [
      "\u001b[32m[I 2023-05-18 11:44:39,444]\u001b[0m Trial 90 finished with value: 6.507925669244371 and parameters: {'n_estimators': 110, 'max_depth': 75, 'num_leaves': 30, 'learning_rate': 0.061}. Best is trial 89 with value: 6.454535958821538.\u001b[0m\n"
     ]
    },
    {
     "name": "stdout",
     "output_type": "stream",
     "text": [
      "6.507925669244371\n"
     ]
    },
    {
     "name": "stderr",
     "output_type": "stream",
     "text": [
      "\u001b[32m[I 2023-05-18 11:44:39,761]\u001b[0m Trial 91 finished with value: 6.527408833496338 and parameters: {'n_estimators': 50, 'max_depth': 80, 'num_leaves': 40, 'learning_rate': 0.081}. Best is trial 89 with value: 6.454535958821538.\u001b[0m\n"
     ]
    },
    {
     "name": "stdout",
     "output_type": "stream",
     "text": [
      "6.527408833496338\n"
     ]
    },
    {
     "name": "stderr",
     "output_type": "stream",
     "text": [
      "\u001b[32m[I 2023-05-18 11:44:40,157]\u001b[0m Trial 92 finished with value: 6.524548813397376 and parameters: {'n_estimators': 80, 'max_depth': 70, 'num_leaves': 30, 'learning_rate': 0.091}. Best is trial 89 with value: 6.454535958821538.\u001b[0m\n"
     ]
    },
    {
     "name": "stdout",
     "output_type": "stream",
     "text": [
      "6.524548813397376\n"
     ]
    },
    {
     "name": "stderr",
     "output_type": "stream",
     "text": [
      "\u001b[32m[I 2023-05-18 11:44:40,567]\u001b[0m Trial 93 finished with value: 6.515881962558066 and parameters: {'n_estimators': 100, 'max_depth': 60, 'num_leaves': 25, 'learning_rate': 0.07100000000000001}. Best is trial 89 with value: 6.454535958821538.\u001b[0m\n"
     ]
    },
    {
     "name": "stdout",
     "output_type": "stream",
     "text": [
      "6.515881962558066\n"
     ]
    },
    {
     "name": "stderr",
     "output_type": "stream",
     "text": [
      "\u001b[32m[I 2023-05-18 11:44:40,905]\u001b[0m Trial 94 finished with value: 6.577280512532074 and parameters: {'n_estimators': 50, 'max_depth': 65, 'num_leaves': 40, 'learning_rate': 0.111}. Best is trial 89 with value: 6.454535958821538.\u001b[0m\n"
     ]
    },
    {
     "name": "stdout",
     "output_type": "stream",
     "text": [
      "6.577280512532074\n"
     ]
    },
    {
     "name": "stderr",
     "output_type": "stream",
     "text": [
      "\u001b[32m[I 2023-05-18 11:44:41,371]\u001b[0m Trial 95 finished with value: 6.621247512165926 and parameters: {'n_estimators': 70, 'max_depth': 80, 'num_leaves': 45, 'learning_rate': 0.101}. Best is trial 89 with value: 6.454535958821538.\u001b[0m\n"
     ]
    },
    {
     "name": "stdout",
     "output_type": "stream",
     "text": [
      "6.621247512165926\n"
     ]
    },
    {
     "name": "stderr",
     "output_type": "stream",
     "text": [
      "\u001b[32m[I 2023-05-18 11:44:41,980]\u001b[0m Trial 96 finished with value: 6.580900721060788 and parameters: {'n_estimators': 120, 'max_depth': 75, 'num_leaves': 35, 'learning_rate': 0.07100000000000001}. Best is trial 89 with value: 6.454535958821538.\u001b[0m\n"
     ]
    },
    {
     "name": "stdout",
     "output_type": "stream",
     "text": [
      "6.580900721060788\n"
     ]
    },
    {
     "name": "stderr",
     "output_type": "stream",
     "text": [
      "\u001b[32m[I 2023-05-18 11:44:42,353]\u001b[0m Trial 97 finished with value: 6.502891166632157 and parameters: {'n_estimators': 80, 'max_depth': 80, 'num_leaves': 25, 'learning_rate': 0.091}. Best is trial 89 with value: 6.454535958821538.\u001b[0m\n"
     ]
    },
    {
     "name": "stdout",
     "output_type": "stream",
     "text": [
      "6.502891166632157\n"
     ]
    },
    {
     "name": "stderr",
     "output_type": "stream",
     "text": [
      "\u001b[32m[I 2023-05-18 11:44:42,891]\u001b[0m Trial 98 finished with value: 6.519037740231785 and parameters: {'n_estimators': 100, 'max_depth': 70, 'num_leaves': 30, 'learning_rate': 0.081}. Best is trial 89 with value: 6.454535958821538.\u001b[0m\n"
     ]
    },
    {
     "name": "stdout",
     "output_type": "stream",
     "text": [
      "6.519037740231785\n"
     ]
    },
    {
     "name": "stderr",
     "output_type": "stream",
     "text": [
      "\u001b[32m[I 2023-05-18 11:44:43,198]\u001b[0m Trial 99 finished with value: 6.494609039501522 and parameters: {'n_estimators': 50, 'max_depth': 65, 'num_leaves': 30, 'learning_rate': 0.111}. Best is trial 89 with value: 6.454535958821538.\u001b[0m\n"
     ]
    },
    {
     "name": "stdout",
     "output_type": "stream",
     "text": [
      "6.494609039501522\n"
     ]
    },
    {
     "name": "stderr",
     "output_type": "stream",
     "text": [
      "\u001b[32m[I 2023-05-18 11:44:43,629]\u001b[0m Trial 100 finished with value: 6.512554448311567 and parameters: {'n_estimators': 70, 'max_depth': 75, 'num_leaves': 35, 'learning_rate': 0.041}. Best is trial 89 with value: 6.454535958821538.\u001b[0m\n"
     ]
    },
    {
     "name": "stdout",
     "output_type": "stream",
     "text": [
      "6.512554448311567\n"
     ]
    },
    {
     "name": "stderr",
     "output_type": "stream",
     "text": [
      "\u001b[32m[I 2023-05-18 11:44:43,995]\u001b[0m Trial 101 finished with value: 6.5373302568925915 and parameters: {'n_estimators': 50, 'max_depth': 70, 'num_leaves': 35, 'learning_rate': 0.101}. Best is trial 89 with value: 6.454535958821538.\u001b[0m\n"
     ]
    },
    {
     "name": "stdout",
     "output_type": "stream",
     "text": [
      "6.5373302568925915\n"
     ]
    },
    {
     "name": "stderr",
     "output_type": "stream",
     "text": [
      "\u001b[32m[I 2023-05-18 11:44:44,387]\u001b[0m Trial 102 finished with value: 6.462285932267113 and parameters: {'n_estimators': 100, 'max_depth': 80, 'num_leaves': 20, 'learning_rate': 0.091}. Best is trial 89 with value: 6.454535958821538.\u001b[0m\n"
     ]
    },
    {
     "name": "stdout",
     "output_type": "stream",
     "text": [
      "6.462285932267113\n"
     ]
    },
    {
     "name": "stderr",
     "output_type": "stream",
     "text": [
      "\u001b[32m[I 2023-05-18 11:44:44,742]\u001b[0m Trial 103 finished with value: 6.44403609206149 and parameters: {'n_estimators': 90, 'max_depth': 80, 'num_leaves': 20, 'learning_rate': 0.091}. Best is trial 103 with value: 6.44403609206149.\u001b[0m\n"
     ]
    },
    {
     "name": "stdout",
     "output_type": "stream",
     "text": [
      "6.44403609206149\n"
     ]
    },
    {
     "name": "stderr",
     "output_type": "stream",
     "text": [
      "\u001b[32m[I 2023-05-18 11:44:45,091]\u001b[0m Trial 104 finished with value: 6.430890543215522 and parameters: {'n_estimators': 90, 'max_depth': 80, 'num_leaves': 20, 'learning_rate': 0.061}. Best is trial 104 with value: 6.430890543215522.\u001b[0m\n"
     ]
    },
    {
     "name": "stdout",
     "output_type": "stream",
     "text": [
      "6.430890543215522\n"
     ]
    },
    {
     "name": "stderr",
     "output_type": "stream",
     "text": [
      "\u001b[32m[I 2023-05-18 11:44:45,616]\u001b[0m Trial 105 finished with value: 6.444417050133656 and parameters: {'n_estimators': 150, 'max_depth': 80, 'num_leaves': 20, 'learning_rate': 0.061}. Best is trial 104 with value: 6.430890543215522.\u001b[0m\n"
     ]
    },
    {
     "name": "stdout",
     "output_type": "stream",
     "text": [
      "6.444417050133656\n"
     ]
    },
    {
     "name": "stderr",
     "output_type": "stream",
     "text": [
      "\u001b[32m[I 2023-05-18 11:44:46,116]\u001b[0m Trial 106 finished with value: 6.444417050133656 and parameters: {'n_estimators': 150, 'max_depth': 80, 'num_leaves': 20, 'learning_rate': 0.061}. Best is trial 104 with value: 6.430890543215522.\u001b[0m\n"
     ]
    },
    {
     "name": "stdout",
     "output_type": "stream",
     "text": [
      "6.444417050133656\n"
     ]
    },
    {
     "name": "stderr",
     "output_type": "stream",
     "text": [
      "\u001b[32m[I 2023-05-18 11:44:46,665]\u001b[0m Trial 107 finished with value: 6.443650314868778 and parameters: {'n_estimators': 160, 'max_depth': 80, 'num_leaves': 20, 'learning_rate': 0.061}. Best is trial 104 with value: 6.430890543215522.\u001b[0m\n"
     ]
    },
    {
     "name": "stdout",
     "output_type": "stream",
     "text": [
      "6.443650314868778\n"
     ]
    },
    {
     "name": "stderr",
     "output_type": "stream",
     "text": [
      "\u001b[32m[I 2023-05-18 11:44:47,172]\u001b[0m Trial 108 finished with value: 6.450412137784012 and parameters: {'n_estimators': 150, 'max_depth': 80, 'num_leaves': 20, 'learning_rate': 0.051000000000000004}. Best is trial 104 with value: 6.430890543215522.\u001b[0m\n"
     ]
    },
    {
     "name": "stdout",
     "output_type": "stream",
     "text": [
      "6.450412137784012\n"
     ]
    },
    {
     "name": "stderr",
     "output_type": "stream",
     "text": [
      "\u001b[32m[I 2023-05-18 11:44:47,745]\u001b[0m Trial 109 finished with value: 6.473840192504732 and parameters: {'n_estimators': 150, 'max_depth': 80, 'num_leaves': 25, 'learning_rate': 0.041}. Best is trial 104 with value: 6.430890543215522.\u001b[0m\n"
     ]
    },
    {
     "name": "stdout",
     "output_type": "stream",
     "text": [
      "6.473840192504732\n"
     ]
    },
    {
     "name": "stderr",
     "output_type": "stream",
     "text": [
      "\u001b[32m[I 2023-05-18 11:44:48,192]\u001b[0m Trial 110 finished with value: 6.450295300255706 and parameters: {'n_estimators': 130, 'max_depth': 80, 'num_leaves': 20, 'learning_rate': 0.041}. Best is trial 104 with value: 6.430890543215522.\u001b[0m\n"
     ]
    },
    {
     "name": "stdout",
     "output_type": "stream",
     "text": [
      "6.450295300255706\n"
     ]
    },
    {
     "name": "stderr",
     "output_type": "stream",
     "text": [
      "\u001b[32m[I 2023-05-18 11:44:48,730]\u001b[0m Trial 111 finished with value: 6.456669111671053 and parameters: {'n_estimators': 160, 'max_depth': 80, 'num_leaves': 20, 'learning_rate': 0.051000000000000004}. Best is trial 104 with value: 6.430890543215522.\u001b[0m\n"
     ]
    },
    {
     "name": "stdout",
     "output_type": "stream",
     "text": [
      "6.456669111671053\n"
     ]
    },
    {
     "name": "stderr",
     "output_type": "stream",
     "text": [
      "\u001b[32m[I 2023-05-18 11:44:49,228]\u001b[0m Trial 112 finished with value: 6.452162896355524 and parameters: {'n_estimators': 150, 'max_depth': 80, 'num_leaves': 20, 'learning_rate': 0.041}. Best is trial 104 with value: 6.430890543215522.\u001b[0m\n"
     ]
    },
    {
     "name": "stdout",
     "output_type": "stream",
     "text": [
      "6.452162896355524\n"
     ]
    },
    {
     "name": "stderr",
     "output_type": "stream",
     "text": [
      "\u001b[32m[I 2023-05-18 11:44:49,667]\u001b[0m Trial 113 finished with value: 6.436899707481378 and parameters: {'n_estimators': 130, 'max_depth': 75, 'num_leaves': 20, 'learning_rate': 0.051000000000000004}. Best is trial 104 with value: 6.430890543215522.\u001b[0m\n"
     ]
    },
    {
     "name": "stdout",
     "output_type": "stream",
     "text": [
      "6.436899707481378\n"
     ]
    },
    {
     "name": "stderr",
     "output_type": "stream",
     "text": [
      "\u001b[32m[I 2023-05-18 11:44:50,257]\u001b[0m Trial 114 finished with value: 6.456669111671053 and parameters: {'n_estimators': 160, 'max_depth': 85, 'num_leaves': 20, 'learning_rate': 0.051000000000000004}. Best is trial 104 with value: 6.430890543215522.\u001b[0m\n"
     ]
    },
    {
     "name": "stdout",
     "output_type": "stream",
     "text": [
      "6.456669111671053\n"
     ]
    },
    {
     "name": "stderr",
     "output_type": "stream",
     "text": [
      "\u001b[32m[I 2023-05-18 11:44:50,780]\u001b[0m Trial 115 finished with value: 6.455942127978559 and parameters: {'n_estimators': 130, 'max_depth': 75, 'num_leaves': 20, 'learning_rate': 0.031}. Best is trial 104 with value: 6.430890543215522.\u001b[0m\n"
     ]
    },
    {
     "name": "stdout",
     "output_type": "stream",
     "text": [
      "6.455942127978559\n"
     ]
    },
    {
     "name": "stderr",
     "output_type": "stream",
     "text": [
      "\u001b[32m[I 2023-05-18 11:44:51,308]\u001b[0m Trial 116 finished with value: 6.57633153183364 and parameters: {'n_estimators': 130, 'max_depth': 75, 'num_leaves': 15, 'learning_rate': 0.021}. Best is trial 104 with value: 6.430890543215522.\u001b[0m\n"
     ]
    },
    {
     "name": "stdout",
     "output_type": "stream",
     "text": [
      "6.57633153183364\n"
     ]
    },
    {
     "name": "stderr",
     "output_type": "stream",
     "text": [
      "\u001b[32m[I 2023-05-18 11:44:51,935]\u001b[0m Trial 117 finished with value: 6.455942127978559 and parameters: {'n_estimators': 130, 'max_depth': 75, 'num_leaves': 20, 'learning_rate': 0.031}. Best is trial 104 with value: 6.430890543215522.\u001b[0m\n"
     ]
    },
    {
     "name": "stdout",
     "output_type": "stream",
     "text": [
      "6.455942127978559\n"
     ]
    },
    {
     "name": "stderr",
     "output_type": "stream",
     "text": [
      "\u001b[32m[I 2023-05-18 11:44:52,587]\u001b[0m Trial 118 finished with value: 6.438946220738947 and parameters: {'n_estimators': 130, 'max_depth': 75, 'num_leaves': 25, 'learning_rate': 0.031}. Best is trial 104 with value: 6.430890543215522.\u001b[0m\n"
     ]
    },
    {
     "name": "stdout",
     "output_type": "stream",
     "text": [
      "6.438946220738947\n"
     ]
    },
    {
     "name": "stderr",
     "output_type": "stream",
     "text": [
      "\u001b[32m[I 2023-05-18 11:44:53,425]\u001b[0m Trial 119 finished with value: 6.487764858520478 and parameters: {'n_estimators': 150, 'max_depth': 75, 'num_leaves': 25, 'learning_rate': 0.061}. Best is trial 104 with value: 6.430890543215522.\u001b[0m\n"
     ]
    },
    {
     "name": "stdout",
     "output_type": "stream",
     "text": [
      "6.487764858520478\n"
     ]
    },
    {
     "name": "stderr",
     "output_type": "stream",
     "text": [
      "\u001b[32m[I 2023-05-18 11:44:54,313]\u001b[0m Trial 120 finished with value: 6.473159663431472 and parameters: {'n_estimators': 240, 'max_depth': 75, 'num_leaves': 20, 'learning_rate': 0.041}. Best is trial 104 with value: 6.430890543215522.\u001b[0m\n"
     ]
    },
    {
     "name": "stdout",
     "output_type": "stream",
     "text": [
      "6.473159663431472\n"
     ]
    },
    {
     "name": "stderr",
     "output_type": "stream",
     "text": [
      "\u001b[32m[I 2023-05-18 11:44:54,806]\u001b[0m Trial 121 finished with value: 6.455942127978559 and parameters: {'n_estimators': 130, 'max_depth': 75, 'num_leaves': 20, 'learning_rate': 0.031}. Best is trial 104 with value: 6.430890543215522.\u001b[0m\n"
     ]
    },
    {
     "name": "stdout",
     "output_type": "stream",
     "text": [
      "6.455942127978559\n"
     ]
    },
    {
     "name": "stderr",
     "output_type": "stream",
     "text": [
      "\u001b[32m[I 2023-05-18 11:44:55,646]\u001b[0m Trial 122 finished with value: 6.502818684479408 and parameters: {'n_estimators': 190, 'max_depth': 80, 'num_leaves': 25, 'learning_rate': 0.051000000000000004}. Best is trial 104 with value: 6.430890543215522.\u001b[0m\n"
     ]
    },
    {
     "name": "stdout",
     "output_type": "stream",
     "text": [
      "6.502818684479408\n"
     ]
    },
    {
     "name": "stderr",
     "output_type": "stream",
     "text": [
      "\u001b[32m[I 2023-05-18 11:44:56,109]\u001b[0m Trial 123 finished with value: 6.517569350091398 and parameters: {'n_estimators': 110, 'max_depth': 85, 'num_leaves': 15, 'learning_rate': 0.031}. Best is trial 104 with value: 6.430890543215522.\u001b[0m\n"
     ]
    },
    {
     "name": "stdout",
     "output_type": "stream",
     "text": [
      "6.517569350091398\n"
     ]
    },
    {
     "name": "stderr",
     "output_type": "stream",
     "text": [
      "\u001b[32m[I 2023-05-18 11:44:56,570]\u001b[0m Trial 124 finished with value: 6.455942127978559 and parameters: {'n_estimators': 130, 'max_depth': 75, 'num_leaves': 20, 'learning_rate': 0.031}. Best is trial 104 with value: 6.430890543215522.\u001b[0m\n"
     ]
    },
    {
     "name": "stdout",
     "output_type": "stream",
     "text": [
      "6.455942127978559\n"
     ]
    },
    {
     "name": "stderr",
     "output_type": "stream",
     "text": [
      "\u001b[32m[I 2023-05-18 11:44:57,023]\u001b[0m Trial 125 finished with value: 6.51210931973338 and parameters: {'n_estimators': 160, 'max_depth': 80, 'num_leaves': 15, 'learning_rate': 0.061}. Best is trial 104 with value: 6.430890543215522.\u001b[0m\n"
     ]
    },
    {
     "name": "stdout",
     "output_type": "stream",
     "text": [
      "6.51210931973338\n"
     ]
    },
    {
     "name": "stderr",
     "output_type": "stream",
     "text": [
      "\u001b[32m[I 2023-05-18 11:44:57,893]\u001b[0m Trial 126 finished with value: 7.681156716348443 and parameters: {'n_estimators': 210, 'max_depth': 75, 'num_leaves': 25, 'learning_rate': 0.001}. Best is trial 104 with value: 6.430890543215522.\u001b[0m\n"
     ]
    },
    {
     "name": "stdout",
     "output_type": "stream",
     "text": [
      "7.681156716348443\n"
     ]
    },
    {
     "name": "stderr",
     "output_type": "stream",
     "text": [
      "\u001b[32m[I 2023-05-18 11:44:58,527]\u001b[0m Trial 127 finished with value: 6.448109817650467 and parameters: {'n_estimators': 180, 'max_depth': 80, 'num_leaves': 20, 'learning_rate': 0.021}. Best is trial 104 with value: 6.430890543215522.\u001b[0m\n"
     ]
    },
    {
     "name": "stdout",
     "output_type": "stream",
     "text": [
      "6.448109817650467\n"
     ]
    },
    {
     "name": "stderr",
     "output_type": "stream",
     "text": [
      "\u001b[32m[I 2023-05-18 11:44:59,327]\u001b[0m Trial 128 finished with value: 6.657240362319762 and parameters: {'n_estimators': 150, 'max_depth': 85, 'num_leaves': 30, 'learning_rate': 0.011}. Best is trial 104 with value: 6.430890543215522.\u001b[0m\n"
     ]
    },
    {
     "name": "stdout",
     "output_type": "stream",
     "text": [
      "6.657240362319762\n"
     ]
    },
    {
     "name": "stderr",
     "output_type": "stream",
     "text": [
      "\u001b[32m[I 2023-05-18 11:44:59,808]\u001b[0m Trial 129 finished with value: 6.472767655830768 and parameters: {'n_estimators': 170, 'max_depth': 80, 'num_leaves': 15, 'learning_rate': 0.041}. Best is trial 104 with value: 6.430890543215522.\u001b[0m\n"
     ]
    },
    {
     "name": "stdout",
     "output_type": "stream",
     "text": [
      "6.472767655830768\n"
     ]
    },
    {
     "name": "stderr",
     "output_type": "stream",
     "text": [
      "\u001b[32m[I 2023-05-18 11:45:00,455]\u001b[0m Trial 130 finished with value: 6.448109817650467 and parameters: {'n_estimators': 180, 'max_depth': 85, 'num_leaves': 20, 'learning_rate': 0.021}. Best is trial 104 with value: 6.430890543215522.\u001b[0m\n"
     ]
    },
    {
     "name": "stdout",
     "output_type": "stream",
     "text": [
      "6.448109817650467\n"
     ]
    },
    {
     "name": "stderr",
     "output_type": "stream",
     "text": [
      "\u001b[32m[I 2023-05-18 11:45:01,072]\u001b[0m Trial 131 finished with value: 6.457844814363551 and parameters: {'n_estimators': 180, 'max_depth': 85, 'num_leaves': 20, 'learning_rate': 0.051000000000000004}. Best is trial 104 with value: 6.430890543215522.\u001b[0m\n"
     ]
    },
    {
     "name": "stdout",
     "output_type": "stream",
     "text": [
      "6.457844814363551\n"
     ]
    },
    {
     "name": "stderr",
     "output_type": "stream",
     "text": [
      "\u001b[32m[I 2023-05-18 11:45:01,862]\u001b[0m Trial 132 finished with value: 6.447104302287215 and parameters: {'n_estimators': 220, 'max_depth': 10, 'num_leaves': 25, 'learning_rate': 0.021}. Best is trial 104 with value: 6.430890543215522.\u001b[0m\n"
     ]
    },
    {
     "name": "stdout",
     "output_type": "stream",
     "text": [
      "6.447104302287215\n"
     ]
    },
    {
     "name": "stderr",
     "output_type": "stream",
     "text": [
      "\u001b[32m[I 2023-05-18 11:45:02,697]\u001b[0m Trial 133 finished with value: 6.436218927223429 and parameters: {'n_estimators': 230, 'max_depth': 30, 'num_leaves': 25, 'learning_rate': 0.021}. Best is trial 104 with value: 6.430890543215522.\u001b[0m\n"
     ]
    },
    {
     "name": "stdout",
     "output_type": "stream",
     "text": [
      "6.436218927223429\n"
     ]
    },
    {
     "name": "stderr",
     "output_type": "stream",
     "text": [
      "\u001b[32m[I 2023-05-18 11:45:03,580]\u001b[0m Trial 134 finished with value: 6.431115810701698 and parameters: {'n_estimators': 230, 'max_depth': 15, 'num_leaves': 25, 'learning_rate': 0.021}. Best is trial 104 with value: 6.430890543215522.\u001b[0m\n"
     ]
    },
    {
     "name": "stdout",
     "output_type": "stream",
     "text": [
      "6.431115810701698\n"
     ]
    },
    {
     "name": "stderr",
     "output_type": "stream",
     "text": [
      "\u001b[32m[I 2023-05-18 11:45:04,405]\u001b[0m Trial 135 finished with value: 6.45321897975211 and parameters: {'n_estimators': 240, 'max_depth': 10, 'num_leaves': 25, 'learning_rate': 0.021}. Best is trial 104 with value: 6.430890543215522.\u001b[0m\n"
     ]
    },
    {
     "name": "stdout",
     "output_type": "stream",
     "text": [
      "6.45321897975211\n"
     ]
    },
    {
     "name": "stderr",
     "output_type": "stream",
     "text": [
      "\u001b[32m[I 2023-05-18 11:45:05,208]\u001b[0m Trial 136 finished with value: 6.526083057266204 and parameters: {'n_estimators': 220, 'max_depth': 10, 'num_leaves': 25, 'learning_rate': 0.011}. Best is trial 104 with value: 6.430890543215522.\u001b[0m\n"
     ]
    },
    {
     "name": "stdout",
     "output_type": "stream",
     "text": [
      "6.526083057266204\n"
     ]
    },
    {
     "name": "stderr",
     "output_type": "stream",
     "text": [
      "\u001b[32m[I 2023-05-18 11:45:06,225]\u001b[0m Trial 137 finished with value: 6.439545103197824 and parameters: {'n_estimators': 260, 'max_depth': 15, 'num_leaves': 25, 'learning_rate': 0.021}. Best is trial 104 with value: 6.430890543215522.\u001b[0m\n"
     ]
    },
    {
     "name": "stdout",
     "output_type": "stream",
     "text": [
      "6.439545103197824\n"
     ]
    },
    {
     "name": "stderr",
     "output_type": "stream",
     "text": [
      "\u001b[32m[I 2023-05-18 11:45:07,335]\u001b[0m Trial 138 finished with value: 6.438958988495517 and parameters: {'n_estimators': 260, 'max_depth': 20, 'num_leaves': 25, 'learning_rate': 0.021}. Best is trial 104 with value: 6.430890543215522.\u001b[0m\n"
     ]
    },
    {
     "name": "stdout",
     "output_type": "stream",
     "text": [
      "6.438958988495517\n"
     ]
    },
    {
     "name": "stderr",
     "output_type": "stream",
     "text": [
      "\u001b[32m[I 2023-05-18 11:45:08,826]\u001b[0m Trial 139 finished with value: 7.540966849974154 and parameters: {'n_estimators': 300, 'max_depth': 20, 'num_leaves': 30, 'learning_rate': 0.001}. Best is trial 104 with value: 6.430890543215522.\u001b[0m\n"
     ]
    },
    {
     "name": "stdout",
     "output_type": "stream",
     "text": [
      "7.540966849974154\n"
     ]
    },
    {
     "name": "stderr",
     "output_type": "stream",
     "text": [
      "\u001b[32m[I 2023-05-18 11:45:09,805]\u001b[0m Trial 140 finished with value: 6.431115810701698 and parameters: {'n_estimators': 230, 'max_depth': 15, 'num_leaves': 25, 'learning_rate': 0.021}. Best is trial 104 with value: 6.430890543215522.\u001b[0m\n"
     ]
    },
    {
     "name": "stdout",
     "output_type": "stream",
     "text": [
      "6.431115810701698\n"
     ]
    },
    {
     "name": "stderr",
     "output_type": "stream",
     "text": [
      "\u001b[32m[I 2023-05-18 11:45:10,767]\u001b[0m Trial 141 finished with value: 6.439545103197824 and parameters: {'n_estimators': 260, 'max_depth': 15, 'num_leaves': 25, 'learning_rate': 0.021}. Best is trial 104 with value: 6.430890543215522.\u001b[0m\n"
     ]
    },
    {
     "name": "stdout",
     "output_type": "stream",
     "text": [
      "6.439545103197824\n"
     ]
    },
    {
     "name": "stderr",
     "output_type": "stream",
     "text": [
      "\u001b[32m[I 2023-05-18 11:45:11,761]\u001b[0m Trial 142 finished with value: 6.484348702810008 and parameters: {'n_estimators': 270, 'max_depth': 15, 'num_leaves': 25, 'learning_rate': 0.011}. Best is trial 104 with value: 6.430890543215522.\u001b[0m\n"
     ]
    },
    {
     "name": "stdout",
     "output_type": "stream",
     "text": [
      "6.484348702810008\n"
     ]
    },
    {
     "name": "stderr",
     "output_type": "stream",
     "text": [
      "\u001b[32m[I 2023-05-18 11:45:13,002]\u001b[0m Trial 143 finished with value: 6.467498154137066 and parameters: {'n_estimators': 310, 'max_depth': 15, 'num_leaves': 30, 'learning_rate': 0.021}. Best is trial 104 with value: 6.430890543215522.\u001b[0m\n"
     ]
    },
    {
     "name": "stdout",
     "output_type": "stream",
     "text": [
      "6.467498154137066\n"
     ]
    },
    {
     "name": "stderr",
     "output_type": "stream",
     "text": [
      "\u001b[32m[I 2023-05-18 11:45:14,008]\u001b[0m Trial 144 finished with value: 6.492431749768549 and parameters: {'n_estimators': 260, 'max_depth': 25, 'num_leaves': 25, 'learning_rate': 0.011}. Best is trial 104 with value: 6.430890543215522.\u001b[0m\n"
     ]
    },
    {
     "name": "stdout",
     "output_type": "stream",
     "text": [
      "6.492431749768549\n"
     ]
    },
    {
     "name": "stderr",
     "output_type": "stream",
     "text": [
      "\u001b[32m[I 2023-05-18 11:45:14,962]\u001b[0m Trial 145 finished with value: 6.439545103197824 and parameters: {'n_estimators': 260, 'max_depth': 15, 'num_leaves': 25, 'learning_rate': 0.021}. Best is trial 104 with value: 6.430890543215522.\u001b[0m\n"
     ]
    },
    {
     "name": "stdout",
     "output_type": "stream",
     "text": [
      "6.439545103197824\n"
     ]
    },
    {
     "name": "stderr",
     "output_type": "stream",
     "text": [
      "\u001b[32m[I 2023-05-18 11:45:15,895]\u001b[0m Trial 146 finished with value: 6.503253804947632 and parameters: {'n_estimators': 250, 'max_depth': 15, 'num_leaves': 25, 'learning_rate': 0.011}. Best is trial 104 with value: 6.430890543215522.\u001b[0m\n"
     ]
    },
    {
     "name": "stdout",
     "output_type": "stream",
     "text": [
      "6.503253804947632\n"
     ]
    },
    {
     "name": "stderr",
     "output_type": "stream",
     "text": [
      "\u001b[32m[I 2023-05-18 11:45:17,028]\u001b[0m Trial 147 finished with value: 6.43834402117391 and parameters: {'n_estimators': 290, 'max_depth': 10, 'num_leaves': 30, 'learning_rate': 0.021}. Best is trial 104 with value: 6.430890543215522.\u001b[0m\n"
     ]
    },
    {
     "name": "stdout",
     "output_type": "stream",
     "text": [
      "6.43834402117391\n"
     ]
    },
    {
     "name": "stderr",
     "output_type": "stream",
     "text": [
      "\u001b[32m[I 2023-05-18 11:45:18,424]\u001b[0m Trial 148 finished with value: 6.534074960052471 and parameters: {'n_estimators': 340, 'max_depth': 20, 'num_leaves': 30, 'learning_rate': 0.031}. Best is trial 104 with value: 6.430890543215522.\u001b[0m\n"
     ]
    },
    {
     "name": "stdout",
     "output_type": "stream",
     "text": [
      "6.534074960052471\n"
     ]
    },
    {
     "name": "stderr",
     "output_type": "stream",
     "text": [
      "\u001b[32m[I 2023-05-18 11:45:19,417]\u001b[0m Trial 149 finished with value: 7.5788609625049155 and parameters: {'n_estimators': 280, 'max_depth': 15, 'num_leaves': 25, 'learning_rate': 0.001}. Best is trial 104 with value: 6.430890543215522.\u001b[0m\n"
     ]
    },
    {
     "name": "stdout",
     "output_type": "stream",
     "text": [
      "7.5788609625049155\n"
     ]
    }
   ],
   "source": [
    "def obj(trial):\n",
    "    params = {'verbosity':-1\n",
    "              ,'n_estimators':trial.suggest_int('n_estimators',50,1000,step=10)\n",
    "             ,'max_depth':trial.suggest_int('max_depth',5,100,step=5)\n",
    "              ,'num_leaves':trial.suggest_int('num_leaves',5,105,step=5)\n",
    "              ,'learning_rate':trial.suggest_float('learning_rate',.001,.251,step=.01)\n",
    "              ,'random_state':RANDOM_STATE\n",
    "             }\n",
    "    model_lgm = LGBMRegressor(**params)\n",
    "    scores = cross_val_score(model_lgm,features_train_valid,target_train_valid,cv=4,scoring='neg_mean_absolute_error')\n",
    "    final_score = abs(sum(scores)/len(scores))\n",
    "    print(final_score)\n",
    "    \n",
    "    return final_score\n",
    "\n",
    "study = optuna.create_study()\n",
    "study.optimize(obj,n_trials=150)"
   ]
  },
  {
   "cell_type": "code",
   "execution_count": 55,
   "id": "880597b6",
   "metadata": {},
   "outputs": [
    {
     "data": {
      "text/plain": [
       "{'n_estimators': 90, 'max_depth': 80, 'num_leaves': 20, 'learning_rate': 0.061}"
      ]
     },
     "execution_count": 55,
     "metadata": {},
     "output_type": "execute_result"
    }
   ],
   "source": [
    "study.best_params"
   ]
  },
  {
   "cell_type": "markdown",
   "id": "e1b9948c",
   "metadata": {},
   "source": [
    "### Модель случайный лес"
   ]
  },
  {
   "cell_type": "code",
   "execution_count": 56,
   "id": "06c74922",
   "metadata": {},
   "outputs": [
    {
     "name": "stderr",
     "output_type": "stream",
     "text": [
      "\u001b[32m[I 2023-05-18 11:45:19,470]\u001b[0m A new study created in memory with name: no-name-b52e57f6-a294-4425-a53b-47d425e605a8\u001b[0m\n",
      "\u001b[32m[I 2023-05-18 11:45:26,962]\u001b[0m Trial 0 finished with value: 6.5137195639759495 and parameters: {'n_estimators': 140, 'max_depth': 95, 'min_samples_split': 5, 'min_samples_leaf': 5}. Best is trial 0 with value: 6.5137195639759495.\u001b[0m\n"
     ]
    },
    {
     "name": "stdout",
     "output_type": "stream",
     "text": [
      "6.5137195639759495\n"
     ]
    },
    {
     "name": "stderr",
     "output_type": "stream",
     "text": [
      "\u001b[32m[I 2023-05-18 11:45:30,905]\u001b[0m Trial 1 finished with value: 6.56583124337128 and parameters: {'n_estimators': 90, 'max_depth': 50, 'min_samples_split': 9, 'min_samples_leaf': 9}. Best is trial 0 with value: 6.5137195639759495.\u001b[0m\n"
     ]
    },
    {
     "name": "stdout",
     "output_type": "stream",
     "text": [
      "6.56583124337128\n"
     ]
    },
    {
     "name": "stderr",
     "output_type": "stream",
     "text": [
      "\u001b[32m[I 2023-05-18 11:45:34,710]\u001b[0m Trial 2 finished with value: 6.561348165714123 and parameters: {'n_estimators': 80, 'max_depth': 40, 'min_samples_split': 6, 'min_samples_leaf': 7}. Best is trial 0 with value: 6.5137195639759495.\u001b[0m\n"
     ]
    },
    {
     "name": "stdout",
     "output_type": "stream",
     "text": [
      "6.561348165714123\n"
     ]
    },
    {
     "name": "stderr",
     "output_type": "stream",
     "text": [
      "\u001b[32m[I 2023-05-18 11:45:39,006]\u001b[0m Trial 3 finished with value: 6.565154583524114 and parameters: {'n_estimators': 100, 'max_depth': 10, 'min_samples_split': 7, 'min_samples_leaf': 9}. Best is trial 0 with value: 6.5137195639759495.\u001b[0m\n"
     ]
    },
    {
     "name": "stdout",
     "output_type": "stream",
     "text": [
      "6.565154583524114\n"
     ]
    },
    {
     "name": "stderr",
     "output_type": "stream",
     "text": [
      "\u001b[32m[I 2023-05-18 11:45:44,927]\u001b[0m Trial 4 finished with value: 6.5242071711202305 and parameters: {'n_estimators': 110, 'max_depth': 45, 'min_samples_split': 8, 'min_samples_leaf': 5}. Best is trial 0 with value: 6.5137195639759495.\u001b[0m\n"
     ]
    },
    {
     "name": "stdout",
     "output_type": "stream",
     "text": [
      "6.5242071711202305\n"
     ]
    },
    {
     "name": "stderr",
     "output_type": "stream",
     "text": [
      "\u001b[32m[I 2023-05-18 11:45:53,646]\u001b[0m Trial 5 finished with value: 6.439670810873785 and parameters: {'n_estimators': 140, 'max_depth': 85, 'min_samples_split': 7, 'min_samples_leaf': 3}. Best is trial 5 with value: 6.439670810873785.\u001b[0m\n"
     ]
    },
    {
     "name": "stdout",
     "output_type": "stream",
     "text": [
      "6.439670810873785\n"
     ]
    },
    {
     "name": "stderr",
     "output_type": "stream",
     "text": [
      "\u001b[32m[I 2023-05-18 11:45:59,245]\u001b[0m Trial 6 finished with value: 6.455247328113039 and parameters: {'n_estimators': 90, 'max_depth': 95, 'min_samples_split': 7, 'min_samples_leaf': 3}. Best is trial 5 with value: 6.439670810873785.\u001b[0m\n"
     ]
    },
    {
     "name": "stdout",
     "output_type": "stream",
     "text": [
      "6.455247328113039\n"
     ]
    },
    {
     "name": "stderr",
     "output_type": "stream",
     "text": [
      "\u001b[32m[I 2023-05-18 11:46:02,300]\u001b[0m Trial 7 finished with value: 6.577636568985253 and parameters: {'n_estimators': 60, 'max_depth': 55, 'min_samples_split': 7, 'min_samples_leaf': 6}. Best is trial 5 with value: 6.439670810873785.\u001b[0m\n"
     ]
    },
    {
     "name": "stdout",
     "output_type": "stream",
     "text": [
      "6.577636568985253\n"
     ]
    },
    {
     "name": "stderr",
     "output_type": "stream",
     "text": [
      "\u001b[32m[I 2023-05-18 11:46:05,351]\u001b[0m Trial 8 finished with value: 6.577636568985253 and parameters: {'n_estimators': 60, 'max_depth': 85, 'min_samples_split': 6, 'min_samples_leaf': 6}. Best is trial 5 with value: 6.439670810873785.\u001b[0m\n"
     ]
    },
    {
     "name": "stdout",
     "output_type": "stream",
     "text": [
      "6.577636568985253\n"
     ]
    },
    {
     "name": "stderr",
     "output_type": "stream",
     "text": [
      "\u001b[32m[I 2023-05-18 11:46:10,420]\u001b[0m Trial 9 finished with value: 6.545940725376074 and parameters: {'n_estimators': 110, 'max_depth': 60, 'min_samples_split': 4, 'min_samples_leaf': 8}. Best is trial 5 with value: 6.439670810873785.\u001b[0m\n"
     ]
    },
    {
     "name": "stdout",
     "output_type": "stream",
     "text": [
      "6.545940725376074\n"
     ]
    },
    {
     "name": "stderr",
     "output_type": "stream",
     "text": [
      "\u001b[32m[I 2023-05-18 11:46:19,892]\u001b[0m Trial 10 finished with value: 6.4357541813829755 and parameters: {'n_estimators': 150, 'max_depth': 75, 'min_samples_split': 2, 'min_samples_leaf': 3}. Best is trial 10 with value: 6.4357541813829755.\u001b[0m\n"
     ]
    },
    {
     "name": "stdout",
     "output_type": "stream",
     "text": [
      "6.4357541813829755\n"
     ]
    },
    {
     "name": "stderr",
     "output_type": "stream",
     "text": [
      "\u001b[32m[I 2023-05-18 11:46:32,986]\u001b[0m Trial 11 finished with value: 6.404739507539807 and parameters: {'n_estimators': 150, 'max_depth': 70, 'min_samples_split': 2, 'min_samples_leaf': 1}. Best is trial 11 with value: 6.404739507539807.\u001b[0m\n"
     ]
    },
    {
     "name": "stdout",
     "output_type": "stream",
     "text": [
      "6.404739507539807\n"
     ]
    },
    {
     "name": "stderr",
     "output_type": "stream",
     "text": [
      "\u001b[32m[I 2023-05-18 11:46:46,034]\u001b[0m Trial 12 finished with value: 6.404739507539807 and parameters: {'n_estimators': 150, 'max_depth': 70, 'min_samples_split': 2, 'min_samples_leaf': 1}. Best is trial 11 with value: 6.404739507539807.\u001b[0m\n"
     ]
    },
    {
     "name": "stdout",
     "output_type": "stream",
     "text": [
      "6.404739507539807\n"
     ]
    },
    {
     "name": "stderr",
     "output_type": "stream",
     "text": [
      "\u001b[32m[I 2023-05-18 11:46:57,303]\u001b[0m Trial 13 finished with value: 6.408520094663323 and parameters: {'n_estimators': 130, 'max_depth': 70, 'min_samples_split': 2, 'min_samples_leaf': 1}. Best is trial 11 with value: 6.404739507539807.\u001b[0m\n"
     ]
    },
    {
     "name": "stdout",
     "output_type": "stream",
     "text": [
      "6.408520094663323\n"
     ]
    },
    {
     "name": "stderr",
     "output_type": "stream",
     "text": [
      "\u001b[32m[I 2023-05-18 11:47:08,168]\u001b[0m Trial 14 finished with value: 6.407648873287007 and parameters: {'n_estimators': 130, 'max_depth': 25, 'min_samples_split': 3, 'min_samples_leaf': 1}. Best is trial 11 with value: 6.404739507539807.\u001b[0m\n"
     ]
    },
    {
     "name": "stdout",
     "output_type": "stream",
     "text": [
      "6.407648873287007\n"
     ]
    },
    {
     "name": "stderr",
     "output_type": "stream",
     "text": [
      "\u001b[32m[I 2023-05-18 11:47:18,959]\u001b[0m Trial 15 finished with value: 6.416335823084086 and parameters: {'n_estimators': 150, 'max_depth': 70, 'min_samples_split': 4, 'min_samples_leaf': 2}. Best is trial 11 with value: 6.404739507539807.\u001b[0m\n"
     ]
    },
    {
     "name": "stdout",
     "output_type": "stream",
     "text": [
      "6.416335823084086\n"
     ]
    },
    {
     "name": "stderr",
     "output_type": "stream",
     "text": [
      "\u001b[32m[I 2023-05-18 11:47:25,799]\u001b[0m Trial 16 finished with value: 6.506108758110505 and parameters: {'n_estimators': 120, 'max_depth': 30, 'min_samples_split': 3, 'min_samples_leaf': 4}. Best is trial 11 with value: 6.404739507539807.\u001b[0m\n"
     ]
    },
    {
     "name": "stdout",
     "output_type": "stream",
     "text": [
      "6.506108758110505\n"
     ]
    },
    {
     "name": "stderr",
     "output_type": "stream",
     "text": [
      "\u001b[32m[I 2023-05-18 11:47:38,930]\u001b[0m Trial 17 finished with value: 6.404739507539807 and parameters: {'n_estimators': 150, 'max_depth': 65, 'min_samples_split': 2, 'min_samples_leaf': 1}. Best is trial 11 with value: 6.404739507539807.\u001b[0m\n"
     ]
    },
    {
     "name": "stdout",
     "output_type": "stream",
     "text": [
      "6.404739507539807\n"
     ]
    },
    {
     "name": "stderr",
     "output_type": "stream",
     "text": [
      "\u001b[32m[I 2023-05-18 11:47:48,260]\u001b[0m Trial 18 finished with value: 6.417366889570206 and parameters: {'n_estimators': 130, 'max_depth': 85, 'min_samples_split': 4, 'min_samples_leaf': 2}. Best is trial 11 with value: 6.404739507539807.\u001b[0m\n"
     ]
    },
    {
     "name": "stdout",
     "output_type": "stream",
     "text": [
      "6.417366889570206\n"
     ]
    },
    {
     "name": "stderr",
     "output_type": "stream",
     "text": [
      "\u001b[32m[I 2023-05-18 11:47:56,092]\u001b[0m Trial 19 finished with value: 6.4252169000797625 and parameters: {'n_estimators': 120, 'max_depth': 80, 'min_samples_split': 10, 'min_samples_leaf': 2}. Best is trial 11 with value: 6.404739507539807.\u001b[0m\n"
     ]
    },
    {
     "name": "stdout",
     "output_type": "stream",
     "text": [
      "6.4252169000797625\n"
     ]
    },
    {
     "name": "stderr",
     "output_type": "stream",
     "text": [
      "\u001b[32m[I 2023-05-18 11:47:59,043]\u001b[0m Trial 20 finished with value: 6.55372886817113 and parameters: {'n_estimators': 50, 'max_depth': 100, 'min_samples_split': 3, 'min_samples_leaf': 4}. Best is trial 11 with value: 6.404739507539807.\u001b[0m\n"
     ]
    },
    {
     "name": "stdout",
     "output_type": "stream",
     "text": [
      "6.55372886817113\n"
     ]
    },
    {
     "name": "stderr",
     "output_type": "stream",
     "text": [
      "\u001b[32m[I 2023-05-18 11:48:11,992]\u001b[0m Trial 21 finished with value: 6.404739507539807 and parameters: {'n_estimators': 150, 'max_depth': 60, 'min_samples_split': 2, 'min_samples_leaf': 1}. Best is trial 11 with value: 6.404739507539807.\u001b[0m\n"
     ]
    },
    {
     "name": "stdout",
     "output_type": "stream",
     "text": [
      "6.404739507539807\n"
     ]
    },
    {
     "name": "stderr",
     "output_type": "stream",
     "text": [
      "\u001b[32m[I 2023-05-18 11:48:24,080]\u001b[0m Trial 22 finished with value: 6.409312303219297 and parameters: {'n_estimators': 140, 'max_depth': 65, 'min_samples_split': 2, 'min_samples_leaf': 1}. Best is trial 11 with value: 6.404739507539807.\u001b[0m\n"
     ]
    },
    {
     "name": "stdout",
     "output_type": "stream",
     "text": [
      "6.409312303219297\n"
     ]
    },
    {
     "name": "stderr",
     "output_type": "stream",
     "text": [
      "\u001b[32m[I 2023-05-18 11:48:34,677]\u001b[0m Trial 23 finished with value: 6.416335823084086 and parameters: {'n_estimators': 150, 'max_depth': 70, 'min_samples_split': 3, 'min_samples_leaf': 2}. Best is trial 11 with value: 6.404739507539807.\u001b[0m\n"
     ]
    },
    {
     "name": "stdout",
     "output_type": "stream",
     "text": [
      "6.416335823084086\n"
     ]
    },
    {
     "name": "stderr",
     "output_type": "stream",
     "text": [
      "\u001b[32m[I 2023-05-18 11:48:45,495]\u001b[0m Trial 24 finished with value: 6.4010007661286386 and parameters: {'n_estimators': 140, 'max_depth': 55, 'min_samples_split': 5, 'min_samples_leaf': 1}. Best is trial 24 with value: 6.4010007661286386.\u001b[0m\n"
     ]
    },
    {
     "name": "stdout",
     "output_type": "stream",
     "text": [
      "6.4010007661286386\n"
     ]
    },
    {
     "name": "stderr",
     "output_type": "stream",
     "text": [
      "\u001b[32m[I 2023-05-18 11:48:53,457]\u001b[0m Trial 25 finished with value: 6.494308617978961 and parameters: {'n_estimators': 140, 'max_depth': 45, 'min_samples_split': 4, 'min_samples_leaf': 4}. Best is trial 24 with value: 6.4010007661286386.\u001b[0m\n"
     ]
    },
    {
     "name": "stdout",
     "output_type": "stream",
     "text": [
      "6.494308617978961\n"
     ]
    },
    {
     "name": "stderr",
     "output_type": "stream",
     "text": [
      "\u001b[32m[I 2023-05-18 11:48:58,591]\u001b[0m Trial 26 finished with value: 6.575175898365891 and parameters: {'n_estimators': 120, 'max_depth': 35, 'min_samples_split': 3, 'min_samples_leaf': 10}. Best is trial 24 with value: 6.4010007661286386.\u001b[0m\n"
     ]
    },
    {
     "name": "stdout",
     "output_type": "stream",
     "text": [
      "6.575175898365891\n"
     ]
    },
    {
     "name": "stderr",
     "output_type": "stream",
     "text": [
      "\u001b[32m[I 2023-05-18 11:49:06,690]\u001b[0m Trial 27 finished with value: 6.441831117632553 and parameters: {'n_estimators': 130, 'max_depth': 55, 'min_samples_split': 5, 'min_samples_leaf': 3}. Best is trial 24 with value: 6.4010007661286386.\u001b[0m\n"
     ]
    },
    {
     "name": "stdout",
     "output_type": "stream",
     "text": [
      "6.441831117632553\n"
     ]
    },
    {
     "name": "stderr",
     "output_type": "stream",
     "text": [
      "\u001b[32m[I 2023-05-18 11:49:11,484]\u001b[0m Trial 28 finished with value: 6.698672512441373 and parameters: {'n_estimators': 140, 'max_depth': 5, 'min_samples_split': 5, 'min_samples_leaf': 2}. Best is trial 24 with value: 6.4010007661286386.\u001b[0m\n"
     ]
    },
    {
     "name": "stdout",
     "output_type": "stream",
     "text": [
      "6.698672512441373\n"
     ]
    },
    {
     "name": "stderr",
     "output_type": "stream",
     "text": [
      "\u001b[32m[I 2023-05-18 11:49:22,348]\u001b[0m Trial 29 finished with value: 6.4010007661286386 and parameters: {'n_estimators': 140, 'max_depth': 90, 'min_samples_split': 5, 'min_samples_leaf': 1}. Best is trial 24 with value: 6.4010007661286386.\u001b[0m\n"
     ]
    },
    {
     "name": "stdout",
     "output_type": "stream",
     "text": [
      "6.4010007661286386\n"
     ]
    },
    {
     "name": "stderr",
     "output_type": "stream",
     "text": [
      "\u001b[32m[I 2023-05-18 11:49:29,966]\u001b[0m Trial 30 finished with value: 6.4206030660583995 and parameters: {'n_estimators': 110, 'max_depth': 95, 'min_samples_split': 5, 'min_samples_leaf': 2}. Best is trial 24 with value: 6.4010007661286386.\u001b[0m\n"
     ]
    },
    {
     "name": "stdout",
     "output_type": "stream",
     "text": [
      "6.4206030660583995\n"
     ]
    },
    {
     "name": "stderr",
     "output_type": "stream",
     "text": [
      "\u001b[32m[I 2023-05-18 11:49:40,786]\u001b[0m Trial 31 finished with value: 6.4010007661286386 and parameters: {'n_estimators': 140, 'max_depth': 80, 'min_samples_split': 5, 'min_samples_leaf': 1}. Best is trial 24 with value: 6.4010007661286386.\u001b[0m\n"
     ]
    },
    {
     "name": "stdout",
     "output_type": "stream",
     "text": [
      "6.4010007661286386\n"
     ]
    },
    {
     "name": "stderr",
     "output_type": "stream",
     "text": [
      "\u001b[32m[I 2023-05-18 11:49:51,651]\u001b[0m Trial 32 finished with value: 6.4010007661286386 and parameters: {'n_estimators': 140, 'max_depth': 80, 'min_samples_split': 5, 'min_samples_leaf': 1}. Best is trial 24 with value: 6.4010007661286386.\u001b[0m\n"
     ]
    },
    {
     "name": "stdout",
     "output_type": "stream",
     "text": [
      "6.4010007661286386\n"
     ]
    },
    {
     "name": "stderr",
     "output_type": "stream",
     "text": [
      "\u001b[32m[I 2023-05-18 11:50:00,522]\u001b[0m Trial 33 finished with value: 6.418711195694483 and parameters: {'n_estimators': 130, 'max_depth': 90, 'min_samples_split': 6, 'min_samples_leaf': 2}. Best is trial 24 with value: 6.4010007661286386.\u001b[0m\n"
     ]
    },
    {
     "name": "stdout",
     "output_type": "stream",
     "text": [
      "6.418711195694483\n"
     ]
    },
    {
     "name": "stderr",
     "output_type": "stream",
     "text": [
      "\u001b[32m[I 2023-05-18 11:50:09,290]\u001b[0m Trial 34 finished with value: 6.437125937109985 and parameters: {'n_estimators': 140, 'max_depth': 80, 'min_samples_split': 5, 'min_samples_leaf': 3}. Best is trial 24 with value: 6.4010007661286386.\u001b[0m\n"
     ]
    },
    {
     "name": "stdout",
     "output_type": "stream",
     "text": [
      "6.437125937109985\n"
     ]
    },
    {
     "name": "stderr",
     "output_type": "stream",
     "text": [
      "\u001b[32m[I 2023-05-18 11:50:18,403]\u001b[0m Trial 35 finished with value: 6.413161069289001 and parameters: {'n_estimators': 120, 'max_depth': 80, 'min_samples_split': 6, 'min_samples_leaf': 1}. Best is trial 24 with value: 6.4010007661286386.\u001b[0m\n"
     ]
    },
    {
     "name": "stdout",
     "output_type": "stream",
     "text": [
      "6.413161069289001\n"
     ]
    },
    {
     "name": "stderr",
     "output_type": "stream",
     "text": [
      "\u001b[32m[I 2023-05-18 11:50:23,169]\u001b[0m Trial 36 finished with value: 6.549893937897388 and parameters: {'n_estimators': 100, 'max_depth': 100, 'min_samples_split': 8, 'min_samples_leaf': 7}. Best is trial 24 with value: 6.4010007661286386.\u001b[0m\n"
     ]
    },
    {
     "name": "stdout",
     "output_type": "stream",
     "text": [
      "6.549893937897388\n"
     ]
    },
    {
     "name": "stderr",
     "output_type": "stream",
     "text": [
      "\u001b[32m[I 2023-05-18 11:50:32,061]\u001b[0m Trial 37 finished with value: 6.418711195694483 and parameters: {'n_estimators': 130, 'max_depth': 90, 'min_samples_split': 6, 'min_samples_leaf': 2}. Best is trial 24 with value: 6.4010007661286386.\u001b[0m\n"
     ]
    },
    {
     "name": "stdout",
     "output_type": "stream",
     "text": [
      "6.418711195694483\n"
     ]
    },
    {
     "name": "stderr",
     "output_type": "stream",
     "text": [
      "\u001b[32m[I 2023-05-18 11:50:40,770]\u001b[0m Trial 38 finished with value: 6.437125937109985 and parameters: {'n_estimators': 140, 'max_depth': 90, 'min_samples_split': 5, 'min_samples_leaf': 3}. Best is trial 24 with value: 6.4010007661286386.\u001b[0m\n"
     ]
    },
    {
     "name": "stdout",
     "output_type": "stream",
     "text": [
      "6.437125937109985\n"
     ]
    },
    {
     "name": "stderr",
     "output_type": "stream",
     "text": [
      "\u001b[32m[I 2023-05-18 11:50:45,563]\u001b[0m Trial 39 finished with value: 6.534692408865585 and parameters: {'n_estimators': 90, 'max_depth': 50, 'min_samples_split': 5, 'min_samples_leaf': 5}. Best is trial 24 with value: 6.4010007661286386.\u001b[0m\n"
     ]
    },
    {
     "name": "stdout",
     "output_type": "stream",
     "text": [
      "6.534692408865585\n"
     ]
    },
    {
     "name": "stderr",
     "output_type": "stream",
     "text": [
      "\u001b[32m[I 2023-05-18 11:50:50,132]\u001b[0m Trial 40 finished with value: 6.537124556332671 and parameters: {'n_estimators': 80, 'max_depth': 80, 'min_samples_split': 4, 'min_samples_leaf': 4}. Best is trial 24 with value: 6.4010007661286386.\u001b[0m\n"
     ]
    },
    {
     "name": "stdout",
     "output_type": "stream",
     "text": [
      "6.537124556332671\n"
     ]
    },
    {
     "name": "stderr",
     "output_type": "stream",
     "text": [
      "\u001b[32m[I 2023-05-18 11:51:00,669]\u001b[0m Trial 41 finished with value: 6.400522995343014 and parameters: {'n_estimators': 140, 'max_depth': 75, 'min_samples_split': 6, 'min_samples_leaf': 1}. Best is trial 41 with value: 6.400522995343014.\u001b[0m\n"
     ]
    },
    {
     "name": "stdout",
     "output_type": "stream",
     "text": [
      "6.400522995343014\n"
     ]
    },
    {
     "name": "stderr",
     "output_type": "stream",
     "text": [
      "\u001b[32m[I 2023-05-18 11:51:11,097]\u001b[0m Trial 42 finished with value: 6.404239970732808 and parameters: {'n_estimators': 140, 'max_depth': 75, 'min_samples_split': 7, 'min_samples_leaf': 1}. Best is trial 41 with value: 6.400522995343014.\u001b[0m\n"
     ]
    },
    {
     "name": "stdout",
     "output_type": "stream",
     "text": [
      "6.404239970732808\n"
     ]
    },
    {
     "name": "stderr",
     "output_type": "stream",
     "text": [
      "\u001b[32m[I 2023-05-18 11:51:21,635]\u001b[0m Trial 43 finished with value: 6.400522995343014 and parameters: {'n_estimators': 140, 'max_depth': 85, 'min_samples_split': 6, 'min_samples_leaf': 1}. Best is trial 41 with value: 6.400522995343014.\u001b[0m\n"
     ]
    },
    {
     "name": "stdout",
     "output_type": "stream",
     "text": [
      "6.400522995343014\n"
     ]
    },
    {
     "name": "stderr",
     "output_type": "stream",
     "text": [
      "\u001b[32m[I 2023-05-18 11:51:30,300]\u001b[0m Trial 44 finished with value: 6.418666443385082 and parameters: {'n_estimators': 130, 'max_depth': 20, 'min_samples_split': 7, 'min_samples_leaf': 2}. Best is trial 41 with value: 6.400522995343014.\u001b[0m\n"
     ]
    },
    {
     "name": "stdout",
     "output_type": "stream",
     "text": [
      "6.418666443385082\n"
     ]
    },
    {
     "name": "stderr",
     "output_type": "stream",
     "text": [
      "\u001b[32m[I 2023-05-18 11:51:40,992]\u001b[0m Trial 45 finished with value: 6.400522995343014 and parameters: {'n_estimators': 140, 'max_depth': 85, 'min_samples_split': 6, 'min_samples_leaf': 1}. Best is trial 41 with value: 6.400522995343014.\u001b[0m\n"
     ]
    },
    {
     "name": "stdout",
     "output_type": "stream",
     "text": [
      "6.400522995343014\n"
     ]
    },
    {
     "name": "stderr",
     "output_type": "stream",
     "text": [
      "\u001b[32m[I 2023-05-18 11:51:48,439]\u001b[0m Trial 46 finished with value: 6.448645301685186 and parameters: {'n_estimators': 120, 'max_depth': 90, 'min_samples_split': 8, 'min_samples_leaf': 3}. Best is trial 41 with value: 6.400522995343014.\u001b[0m\n"
     ]
    },
    {
     "name": "stdout",
     "output_type": "stream",
     "text": [
      "6.448645301685186\n"
     ]
    },
    {
     "name": "stderr",
     "output_type": "stream",
     "text": [
      "\u001b[32m[I 2023-05-18 11:51:59,876]\u001b[0m Trial 47 finished with value: 6.396083027172498 and parameters: {'n_estimators': 150, 'max_depth': 95, 'min_samples_split': 6, 'min_samples_leaf': 1}. Best is trial 47 with value: 6.396083027172498.\u001b[0m\n"
     ]
    },
    {
     "name": "stdout",
     "output_type": "stream",
     "text": [
      "6.396083027172498\n"
     ]
    },
    {
     "name": "stderr",
     "output_type": "stream",
     "text": [
      "\u001b[32m[I 2023-05-18 11:52:06,772]\u001b[0m Trial 48 finished with value: 6.5436148791291515 and parameters: {'n_estimators': 150, 'max_depth': 95, 'min_samples_split': 6, 'min_samples_leaf': 8}. Best is trial 47 with value: 6.396083027172498.\u001b[0m\n"
     ]
    },
    {
     "name": "stdout",
     "output_type": "stream",
     "text": [
      "6.5436148791291515\n"
     ]
    },
    {
     "name": "stderr",
     "output_type": "stream",
     "text": [
      "\u001b[32m[I 2023-05-18 11:52:16,925]\u001b[0m Trial 49 finished with value: 6.419480621787379 and parameters: {'n_estimators': 150, 'max_depth': 100, 'min_samples_split': 7, 'min_samples_leaf': 2}. Best is trial 47 with value: 6.396083027172498.\u001b[0m\n"
     ]
    },
    {
     "name": "stdout",
     "output_type": "stream",
     "text": [
      "6.419480621787379\n"
     ]
    },
    {
     "name": "stderr",
     "output_type": "stream",
     "text": [
      "\u001b[32m[I 2023-05-18 11:52:25,203]\u001b[0m Trial 50 finished with value: 6.401982472019319 and parameters: {'n_estimators': 110, 'max_depth': 85, 'min_samples_split': 6, 'min_samples_leaf': 1}. Best is trial 47 with value: 6.396083027172498.\u001b[0m\n"
     ]
    },
    {
     "name": "stdout",
     "output_type": "stream",
     "text": [
      "6.401982472019319\n"
     ]
    },
    {
     "name": "stderr",
     "output_type": "stream",
     "text": [
      "\u001b[32m[I 2023-05-18 11:52:35,894]\u001b[0m Trial 51 finished with value: 6.400522995343014 and parameters: {'n_estimators': 140, 'max_depth': 90, 'min_samples_split': 6, 'min_samples_leaf': 1}. Best is trial 47 with value: 6.396083027172498.\u001b[0m\n"
     ]
    },
    {
     "name": "stdout",
     "output_type": "stream",
     "text": [
      "6.400522995343014\n"
     ]
    },
    {
     "name": "stderr",
     "output_type": "stream",
     "text": [
      "\u001b[32m[I 2023-05-18 11:52:45,715]\u001b[0m Trial 52 finished with value: 6.406101361486057 and parameters: {'n_estimators': 130, 'max_depth': 75, 'min_samples_split': 6, 'min_samples_leaf': 1}. Best is trial 47 with value: 6.396083027172498.\u001b[0m\n"
     ]
    },
    {
     "name": "stdout",
     "output_type": "stream",
     "text": [
      "6.406101361486057\n"
     ]
    },
    {
     "name": "stderr",
     "output_type": "stream",
     "text": [
      "\u001b[32m[I 2023-05-18 11:52:55,922]\u001b[0m Trial 53 finished with value: 6.419480621787379 and parameters: {'n_estimators': 150, 'max_depth': 85, 'min_samples_split': 7, 'min_samples_leaf': 2}. Best is trial 47 with value: 6.396083027172498.\u001b[0m\n"
     ]
    },
    {
     "name": "stdout",
     "output_type": "stream",
     "text": [
      "6.419480621787379\n"
     ]
    },
    {
     "name": "stderr",
     "output_type": "stream",
     "text": [
      "\u001b[32m[I 2023-05-18 11:53:06,427]\u001b[0m Trial 54 finished with value: 6.404239970732808 and parameters: {'n_estimators': 140, 'max_depth': 95, 'min_samples_split': 7, 'min_samples_leaf': 1}. Best is trial 47 with value: 6.396083027172498.\u001b[0m\n"
     ]
    },
    {
     "name": "stdout",
     "output_type": "stream",
     "text": [
      "6.404239970732808\n"
     ]
    },
    {
     "name": "stderr",
     "output_type": "stream",
     "text": [
      "\u001b[32m[I 2023-05-18 11:53:17,947]\u001b[0m Trial 55 finished with value: 6.396083027172498 and parameters: {'n_estimators': 150, 'max_depth': 65, 'min_samples_split': 6, 'min_samples_leaf': 1}. Best is trial 47 with value: 6.396083027172498.\u001b[0m\n"
     ]
    },
    {
     "name": "stdout",
     "output_type": "stream",
     "text": [
      "6.396083027172498\n"
     ]
    },
    {
     "name": "stderr",
     "output_type": "stream",
     "text": [
      "\u001b[32m[I 2023-05-18 11:53:28,321]\u001b[0m Trial 56 finished with value: 6.419087074352468 and parameters: {'n_estimators': 150, 'max_depth': 65, 'min_samples_split': 6, 'min_samples_leaf': 2}. Best is trial 47 with value: 6.396083027172498.\u001b[0m\n"
     ]
    },
    {
     "name": "stdout",
     "output_type": "stream",
     "text": [
      "6.419087074352468\n"
     ]
    },
    {
     "name": "stderr",
     "output_type": "stream",
     "text": [
      "\u001b[32m[I 2023-05-18 11:53:37,744]\u001b[0m Trial 57 finished with value: 6.4357541813829755 and parameters: {'n_estimators': 150, 'max_depth': 75, 'min_samples_split': 6, 'min_samples_leaf': 3}. Best is trial 47 with value: 6.396083027172498.\u001b[0m\n"
     ]
    },
    {
     "name": "stdout",
     "output_type": "stream",
     "text": [
      "6.4357541813829755\n"
     ]
    },
    {
     "name": "stderr",
     "output_type": "stream",
     "text": [
      "\u001b[32m[I 2023-05-18 11:53:42,919]\u001b[0m Trial 58 finished with value: 6.429114731769012 and parameters: {'n_estimators': 70, 'max_depth': 60, 'min_samples_split': 8, 'min_samples_leaf': 1}. Best is trial 47 with value: 6.396083027172498.\u001b[0m\n"
     ]
    },
    {
     "name": "stdout",
     "output_type": "stream",
     "text": [
      "6.429114731769012\n"
     ]
    },
    {
     "name": "stderr",
     "output_type": "stream",
     "text": [
      "\u001b[32m[I 2023-05-18 11:53:53,281]\u001b[0m Trial 59 finished with value: 6.419087074352468 and parameters: {'n_estimators': 150, 'max_depth': 100, 'min_samples_split': 6, 'min_samples_leaf': 2}. Best is trial 47 with value: 6.396083027172498.\u001b[0m\n"
     ]
    },
    {
     "name": "stdout",
     "output_type": "stream",
     "text": [
      "6.419087074352468\n"
     ]
    },
    {
     "name": "stderr",
     "output_type": "stream",
     "text": [
      "\u001b[32m[I 2023-05-18 11:53:59,864]\u001b[0m Trial 60 finished with value: 6.537593012493816 and parameters: {'n_estimators': 130, 'max_depth': 85, 'min_samples_split': 7, 'min_samples_leaf': 6}. Best is trial 47 with value: 6.396083027172498.\u001b[0m\n"
     ]
    },
    {
     "name": "stdout",
     "output_type": "stream",
     "text": [
      "6.537593012493816\n"
     ]
    },
    {
     "name": "stderr",
     "output_type": "stream",
     "text": [
      "\u001b[32m[I 2023-05-18 11:54:10,616]\u001b[0m Trial 61 finished with value: 6.400522995343014 and parameters: {'n_estimators': 140, 'max_depth': 60, 'min_samples_split': 6, 'min_samples_leaf': 1}. Best is trial 47 with value: 6.396083027172498.\u001b[0m\n"
     ]
    },
    {
     "name": "stdout",
     "output_type": "stream",
     "text": [
      "6.400522995343014\n"
     ]
    },
    {
     "name": "stderr",
     "output_type": "stream",
     "text": [
      "\u001b[32m[I 2023-05-18 11:54:21,331]\u001b[0m Trial 62 finished with value: 6.400522995343014 and parameters: {'n_estimators': 140, 'max_depth': 65, 'min_samples_split': 6, 'min_samples_leaf': 1}. Best is trial 47 with value: 6.396083027172498.\u001b[0m\n"
     ]
    },
    {
     "name": "stdout",
     "output_type": "stream",
     "text": [
      "6.400522995343014\n"
     ]
    },
    {
     "name": "stderr",
     "output_type": "stream",
     "text": [
      "\u001b[32m[I 2023-05-18 11:54:32,566]\u001b[0m Trial 63 finished with value: 6.402152826009226 and parameters: {'n_estimators': 150, 'max_depth': 75, 'min_samples_split': 7, 'min_samples_leaf': 1}. Best is trial 47 with value: 6.396083027172498.\u001b[0m\n"
     ]
    },
    {
     "name": "stdout",
     "output_type": "stream",
     "text": [
      "6.402152826009226\n"
     ]
    },
    {
     "name": "stderr",
     "output_type": "stream",
     "text": [
      "\u001b[32m[I 2023-05-18 11:54:42,544]\u001b[0m Trial 64 finished with value: 6.406101361486057 and parameters: {'n_estimators': 130, 'max_depth': 70, 'min_samples_split': 6, 'min_samples_leaf': 1}. Best is trial 47 with value: 6.396083027172498.\u001b[0m\n"
     ]
    },
    {
     "name": "stdout",
     "output_type": "stream",
     "text": [
      "6.406101361486057\n"
     ]
    },
    {
     "name": "stderr",
     "output_type": "stream",
     "text": [
      "\u001b[32m[I 2023-05-18 11:54:52,124]\u001b[0m Trial 65 finished with value: 6.4158671383546375 and parameters: {'n_estimators': 140, 'max_depth': 60, 'min_samples_split': 7, 'min_samples_leaf': 2}. Best is trial 47 with value: 6.396083027172498.\u001b[0m\n"
     ]
    },
    {
     "name": "stdout",
     "output_type": "stream",
     "text": [
      "6.4158671383546375\n"
     ]
    },
    {
     "name": "stderr",
     "output_type": "stream",
     "text": [
      "\u001b[32m[I 2023-05-18 11:55:02,460]\u001b[0m Trial 66 finished with value: 6.419087074352468 and parameters: {'n_estimators': 150, 'max_depth': 45, 'min_samples_split': 6, 'min_samples_leaf': 2}. Best is trial 47 with value: 6.396083027172498.\u001b[0m\n"
     ]
    },
    {
     "name": "stdout",
     "output_type": "stream",
     "text": [
      "6.419087074352468\n"
     ]
    },
    {
     "name": "stderr",
     "output_type": "stream",
     "text": [
      "\u001b[32m[I 2023-05-18 11:55:13,247]\u001b[0m Trial 67 finished with value: 6.400522995343014 and parameters: {'n_estimators': 140, 'max_depth': 90, 'min_samples_split': 6, 'min_samples_leaf': 1}. Best is trial 47 with value: 6.396083027172498.\u001b[0m\n"
     ]
    },
    {
     "name": "stdout",
     "output_type": "stream",
     "text": [
      "6.400522995343014\n"
     ]
    },
    {
     "name": "stderr",
     "output_type": "stream",
     "text": [
      "\u001b[32m[I 2023-05-18 11:55:24,793]\u001b[0m Trial 68 finished with value: 6.396083027172498 and parameters: {'n_estimators': 150, 'max_depth': 70, 'min_samples_split': 6, 'min_samples_leaf': 1}. Best is trial 47 with value: 6.396083027172498.\u001b[0m\n"
     ]
    },
    {
     "name": "stdout",
     "output_type": "stream",
     "text": [
      "6.396083027172498\n"
     ]
    },
    {
     "name": "stderr",
     "output_type": "stream",
     "text": [
      "\u001b[32m[I 2023-05-18 11:55:35,585]\u001b[0m Trial 69 finished with value: 6.40409629407274 and parameters: {'n_estimators': 150, 'max_depth': 70, 'min_samples_split': 9, 'min_samples_leaf': 1}. Best is trial 47 with value: 6.396083027172498.\u001b[0m\n"
     ]
    },
    {
     "name": "stdout",
     "output_type": "stream",
     "text": [
      "6.40409629407274\n"
     ]
    },
    {
     "name": "stderr",
     "output_type": "stream",
     "text": [
      "\u001b[32m[I 2023-05-18 11:55:45,729]\u001b[0m Trial 70 finished with value: 6.419480621787379 and parameters: {'n_estimators': 150, 'max_depth': 85, 'min_samples_split': 7, 'min_samples_leaf': 2}. Best is trial 47 with value: 6.396083027172498.\u001b[0m\n"
     ]
    },
    {
     "name": "stdout",
     "output_type": "stream",
     "text": [
      "6.419480621787379\n"
     ]
    },
    {
     "name": "stderr",
     "output_type": "stream",
     "text": [
      "\u001b[32m[I 2023-05-18 11:55:56,280]\u001b[0m Trial 71 finished with value: 6.400522995343014 and parameters: {'n_estimators': 140, 'max_depth': 55, 'min_samples_split': 6, 'min_samples_leaf': 1}. Best is trial 47 with value: 6.396083027172498.\u001b[0m\n"
     ]
    },
    {
     "name": "stdout",
     "output_type": "stream",
     "text": [
      "6.400522995343014\n"
     ]
    },
    {
     "name": "stderr",
     "output_type": "stream",
     "text": [
      "\u001b[32m[I 2023-05-18 11:56:07,262]\u001b[0m Trial 72 finished with value: 6.4010007661286386 and parameters: {'n_estimators': 140, 'max_depth': 65, 'min_samples_split': 5, 'min_samples_leaf': 1}. Best is trial 47 with value: 6.396083027172498.\u001b[0m\n"
     ]
    },
    {
     "name": "stdout",
     "output_type": "stream",
     "text": [
      "6.4010007661286386\n"
     ]
    },
    {
     "name": "stderr",
     "output_type": "stream",
     "text": [
      "\u001b[32m[I 2023-05-18 11:56:18,580]\u001b[0m Trial 73 finished with value: 6.396083027172498 and parameters: {'n_estimators': 150, 'max_depth': 70, 'min_samples_split': 6, 'min_samples_leaf': 1}. Best is trial 47 with value: 6.396083027172498.\u001b[0m\n"
     ]
    },
    {
     "name": "stdout",
     "output_type": "stream",
     "text": [
      "6.396083027172498\n"
     ]
    },
    {
     "name": "stderr",
     "output_type": "stream",
     "text": [
      "\u001b[32m[I 2023-05-18 11:56:30,175]\u001b[0m Trial 74 finished with value: 6.3989890294918315 and parameters: {'n_estimators': 150, 'max_depth': 75, 'min_samples_split': 5, 'min_samples_leaf': 1}. Best is trial 47 with value: 6.396083027172498.\u001b[0m\n"
     ]
    },
    {
     "name": "stdout",
     "output_type": "stream",
     "text": [
      "6.3989890294918315\n"
     ]
    },
    {
     "name": "stderr",
     "output_type": "stream",
     "text": [
      "\u001b[32m[I 2023-05-18 11:56:40,695]\u001b[0m Trial 75 finished with value: 6.420328618105012 and parameters: {'n_estimators': 150, 'max_depth': 75, 'min_samples_split': 5, 'min_samples_leaf': 2}. Best is trial 47 with value: 6.396083027172498.\u001b[0m\n"
     ]
    },
    {
     "name": "stdout",
     "output_type": "stream",
     "text": [
      "6.420328618105012\n"
     ]
    },
    {
     "name": "stderr",
     "output_type": "stream",
     "text": [
      "\u001b[32m[I 2023-05-18 11:56:52,815]\u001b[0m Trial 76 finished with value: 6.39489443073365 and parameters: {'n_estimators': 150, 'max_depth': 70, 'min_samples_split': 4, 'min_samples_leaf': 1}. Best is trial 76 with value: 6.39489443073365.\u001b[0m\n"
     ]
    },
    {
     "name": "stdout",
     "output_type": "stream",
     "text": [
      "6.39489443073365\n"
     ]
    },
    {
     "name": "stderr",
     "output_type": "stream",
     "text": [
      "\u001b[32m[I 2023-05-18 11:57:03,616]\u001b[0m Trial 77 finished with value: 6.416335823084086 and parameters: {'n_estimators': 150, 'max_depth': 70, 'min_samples_split': 4, 'min_samples_leaf': 2}. Best is trial 76 with value: 6.39489443073365.\u001b[0m\n"
     ]
    },
    {
     "name": "stdout",
     "output_type": "stream",
     "text": [
      "6.416335823084086\n"
     ]
    },
    {
     "name": "stderr",
     "output_type": "stream",
     "text": [
      "\u001b[32m[I 2023-05-18 11:57:15,798]\u001b[0m Trial 78 finished with value: 6.39489443073365 and parameters: {'n_estimators': 150, 'max_depth': 65, 'min_samples_split': 4, 'min_samples_leaf': 1}. Best is trial 76 with value: 6.39489443073365.\u001b[0m\n"
     ]
    },
    {
     "name": "stdout",
     "output_type": "stream",
     "text": [
      "6.39489443073365\n"
     ]
    },
    {
     "name": "stderr",
     "output_type": "stream",
     "text": [
      "\u001b[32m[I 2023-05-18 11:57:25,263]\u001b[0m Trial 79 finished with value: 6.4357541813829755 and parameters: {'n_estimators': 150, 'max_depth': 65, 'min_samples_split': 4, 'min_samples_leaf': 3}. Best is trial 76 with value: 6.39489443073365.\u001b[0m\n"
     ]
    },
    {
     "name": "stdout",
     "output_type": "stream",
     "text": [
      "6.4357541813829755\n"
     ]
    },
    {
     "name": "stderr",
     "output_type": "stream",
     "text": [
      "\u001b[32m[I 2023-05-18 11:57:36,037]\u001b[0m Trial 80 finished with value: 6.416335823084086 and parameters: {'n_estimators': 150, 'max_depth': 70, 'min_samples_split': 4, 'min_samples_leaf': 2}. Best is trial 76 with value: 6.39489443073365.\u001b[0m\n"
     ]
    },
    {
     "name": "stdout",
     "output_type": "stream",
     "text": [
      "6.416335823084086\n"
     ]
    },
    {
     "name": "stderr",
     "output_type": "stream",
     "text": [
      "\u001b[32m[I 2023-05-18 11:57:48,212]\u001b[0m Trial 81 finished with value: 6.39489443073365 and parameters: {'n_estimators': 150, 'max_depth': 75, 'min_samples_split': 4, 'min_samples_leaf': 1}. Best is trial 76 with value: 6.39489443073365.\u001b[0m\n"
     ]
    },
    {
     "name": "stdout",
     "output_type": "stream",
     "text": [
      "6.39489443073365\n"
     ]
    },
    {
     "name": "stderr",
     "output_type": "stream",
     "text": [
      "\u001b[32m[I 2023-05-18 11:58:00,330]\u001b[0m Trial 82 finished with value: 6.39489443073365 and parameters: {'n_estimators': 150, 'max_depth': 75, 'min_samples_split': 4, 'min_samples_leaf': 1}. Best is trial 76 with value: 6.39489443073365.\u001b[0m\n"
     ]
    },
    {
     "name": "stdout",
     "output_type": "stream",
     "text": [
      "6.39489443073365\n"
     ]
    },
    {
     "name": "stderr",
     "output_type": "stream",
     "text": [
      "\u001b[32m[I 2023-05-18 11:58:12,872]\u001b[0m Trial 83 finished with value: 6.392499329049205 and parameters: {'n_estimators': 150, 'max_depth': 70, 'min_samples_split': 3, 'min_samples_leaf': 1}. Best is trial 83 with value: 6.392499329049205.\u001b[0m\n"
     ]
    },
    {
     "name": "stdout",
     "output_type": "stream",
     "text": [
      "6.392499329049205\n"
     ]
    },
    {
     "name": "stderr",
     "output_type": "stream",
     "text": [
      "\u001b[32m[I 2023-05-18 11:58:25,494]\u001b[0m Trial 84 finished with value: 6.392499329049205 and parameters: {'n_estimators': 150, 'max_depth': 65, 'min_samples_split': 3, 'min_samples_leaf': 1}. Best is trial 83 with value: 6.392499329049205.\u001b[0m\n"
     ]
    },
    {
     "name": "stdout",
     "output_type": "stream",
     "text": [
      "6.392499329049205\n"
     ]
    },
    {
     "name": "stderr",
     "output_type": "stream",
     "text": [
      "\u001b[32m[I 2023-05-18 11:58:38,039]\u001b[0m Trial 85 finished with value: 6.392499329049205 and parameters: {'n_estimators': 150, 'max_depth': 50, 'min_samples_split': 3, 'min_samples_leaf': 1}. Best is trial 83 with value: 6.392499329049205.\u001b[0m\n"
     ]
    },
    {
     "name": "stdout",
     "output_type": "stream",
     "text": [
      "6.392499329049205\n"
     ]
    },
    {
     "name": "stderr",
     "output_type": "stream",
     "text": [
      "\u001b[32m[I 2023-05-18 11:58:44,499]\u001b[0m Trial 86 finished with value: 6.571122389098765 and parameters: {'n_estimators': 150, 'max_depth': 45, 'min_samples_split': 3, 'min_samples_leaf': 10}. Best is trial 83 with value: 6.392499329049205.\u001b[0m\n"
     ]
    },
    {
     "name": "stdout",
     "output_type": "stream",
     "text": [
      "6.571122389098765\n"
     ]
    },
    {
     "name": "stderr",
     "output_type": "stream",
     "text": [
      "\u001b[32m[I 2023-05-18 11:58:48,801]\u001b[0m Trial 87 finished with value: 6.413377548016746 and parameters: {'n_estimators': 50, 'max_depth': 40, 'min_samples_split': 3, 'min_samples_leaf': 1}. Best is trial 83 with value: 6.392499329049205.\u001b[0m\n"
     ]
    },
    {
     "name": "stdout",
     "output_type": "stream",
     "text": [
      "6.413377548016746\n"
     ]
    },
    {
     "name": "stderr",
     "output_type": "stream",
     "text": [
      "\u001b[32m[I 2023-05-18 11:58:59,545]\u001b[0m Trial 88 finished with value: 6.416335823084086 and parameters: {'n_estimators': 150, 'max_depth': 50, 'min_samples_split': 3, 'min_samples_leaf': 2}. Best is trial 83 with value: 6.392499329049205.\u001b[0m\n"
     ]
    },
    {
     "name": "stdout",
     "output_type": "stream",
     "text": [
      "6.416335823084086\n"
     ]
    },
    {
     "name": "stderr",
     "output_type": "stream",
     "text": [
      "\u001b[32m[I 2023-05-18 11:59:11,671]\u001b[0m Trial 89 finished with value: 6.39489443073365 and parameters: {'n_estimators': 150, 'max_depth': 60, 'min_samples_split': 4, 'min_samples_leaf': 1}. Best is trial 83 with value: 6.392499329049205.\u001b[0m\n"
     ]
    },
    {
     "name": "stdout",
     "output_type": "stream",
     "text": [
      "6.39489443073365\n"
     ]
    },
    {
     "name": "stderr",
     "output_type": "stream",
     "text": [
      "\u001b[32m[I 2023-05-18 11:59:18,264]\u001b[0m Trial 90 finished with value: 6.5532102847460045 and parameters: {'n_estimators': 150, 'max_depth': 60, 'min_samples_split': 4, 'min_samples_leaf': 9}. Best is trial 83 with value: 6.392499329049205.\u001b[0m\n"
     ]
    },
    {
     "name": "stdout",
     "output_type": "stream",
     "text": [
      "6.5532102847460045\n"
     ]
    },
    {
     "name": "stderr",
     "output_type": "stream",
     "text": [
      "\u001b[32m[I 2023-05-18 11:59:30,777]\u001b[0m Trial 91 finished with value: 6.392499329049205 and parameters: {'n_estimators': 150, 'max_depth': 55, 'min_samples_split': 3, 'min_samples_leaf': 1}. Best is trial 83 with value: 6.392499329049205.\u001b[0m\n"
     ]
    },
    {
     "name": "stdout",
     "output_type": "stream",
     "text": [
      "6.392499329049205\n"
     ]
    },
    {
     "name": "stderr",
     "output_type": "stream",
     "text": [
      "\u001b[32m[I 2023-05-18 11:59:43,117]\u001b[0m Trial 92 finished with value: 6.392499329049205 and parameters: {'n_estimators': 150, 'max_depth': 50, 'min_samples_split': 3, 'min_samples_leaf': 1}. Best is trial 83 with value: 6.392499329049205.\u001b[0m\n"
     ]
    },
    {
     "name": "stdout",
     "output_type": "stream",
     "text": [
      "6.392499329049205\n"
     ]
    },
    {
     "name": "stderr",
     "output_type": "stream",
     "text": [
      "\u001b[32m[I 2023-05-18 11:59:51,842]\u001b[0m Trial 93 finished with value: 6.418029948328588 and parameters: {'n_estimators': 100, 'max_depth': 50, 'min_samples_split': 2, 'min_samples_leaf': 1}. Best is trial 83 with value: 6.392499329049205.\u001b[0m\n"
     ]
    },
    {
     "name": "stdout",
     "output_type": "stream",
     "text": [
      "6.418029948328588\n"
     ]
    },
    {
     "name": "stderr",
     "output_type": "stream",
     "text": [
      "\u001b[32m[I 2023-05-18 12:00:02,585]\u001b[0m Trial 94 finished with value: 6.416335823084086 and parameters: {'n_estimators': 150, 'max_depth': 55, 'min_samples_split': 3, 'min_samples_leaf': 2}. Best is trial 83 with value: 6.392499329049205.\u001b[0m\n"
     ]
    },
    {
     "name": "stdout",
     "output_type": "stream",
     "text": [
      "6.416335823084086\n"
     ]
    },
    {
     "name": "stderr",
     "output_type": "stream",
     "text": [
      "\u001b[32m[I 2023-05-18 12:00:15,188]\u001b[0m Trial 95 finished with value: 6.392499329049205 and parameters: {'n_estimators': 150, 'max_depth': 55, 'min_samples_split': 3, 'min_samples_leaf': 1}. Best is trial 83 with value: 6.392499329049205.\u001b[0m\n"
     ]
    },
    {
     "name": "stdout",
     "output_type": "stream",
     "text": [
      "6.392499329049205\n"
     ]
    },
    {
     "name": "stderr",
     "output_type": "stream",
     "text": [
      "\u001b[32m[I 2023-05-18 12:00:25,906]\u001b[0m Trial 96 finished with value: 6.416335823084086 and parameters: {'n_estimators': 150, 'max_depth': 40, 'min_samples_split': 3, 'min_samples_leaf': 2}. Best is trial 83 with value: 6.392499329049205.\u001b[0m\n"
     ]
    },
    {
     "name": "stdout",
     "output_type": "stream",
     "text": [
      "6.416335823084086\n"
     ]
    },
    {
     "name": "stderr",
     "output_type": "stream",
     "text": [
      "\u001b[32m[I 2023-05-18 12:00:37,645]\u001b[0m Trial 97 finished with value: 6.396722154159668 and parameters: {'n_estimators': 140, 'max_depth': 50, 'min_samples_split': 3, 'min_samples_leaf': 1}. Best is trial 83 with value: 6.392499329049205.\u001b[0m\n"
     ]
    },
    {
     "name": "stdout",
     "output_type": "stream",
     "text": [
      "6.396722154159668\n"
     ]
    },
    {
     "name": "stderr",
     "output_type": "stream",
     "text": [
      "\u001b[32m[I 2023-05-18 12:00:50,680]\u001b[0m Trial 98 finished with value: 6.404739507539807 and parameters: {'n_estimators': 150, 'max_depth': 55, 'min_samples_split': 2, 'min_samples_leaf': 1}. Best is trial 83 with value: 6.392499329049205.\u001b[0m\n"
     ]
    },
    {
     "name": "stdout",
     "output_type": "stream",
     "text": [
      "6.404739507539807\n"
     ]
    },
    {
     "name": "stderr",
     "output_type": "stream",
     "text": [
      "\u001b[32m[I 2023-05-18 12:01:02,236]\u001b[0m Trial 99 finished with value: 6.396722154159668 and parameters: {'n_estimators': 140, 'max_depth': 45, 'min_samples_split': 3, 'min_samples_leaf': 1}. Best is trial 83 with value: 6.392499329049205.\u001b[0m\n"
     ]
    },
    {
     "name": "stdout",
     "output_type": "stream",
     "text": [
      "6.396722154159668\n"
     ]
    },
    {
     "name": "stderr",
     "output_type": "stream",
     "text": [
      "\u001b[32m[I 2023-05-18 12:01:12,889]\u001b[0m Trial 100 finished with value: 6.416335823084086 and parameters: {'n_estimators': 150, 'max_depth': 55, 'min_samples_split': 4, 'min_samples_leaf': 2}. Best is trial 83 with value: 6.392499329049205.\u001b[0m\n"
     ]
    },
    {
     "name": "stdout",
     "output_type": "stream",
     "text": [
      "6.416335823084086\n"
     ]
    },
    {
     "name": "stderr",
     "output_type": "stream",
     "text": [
      "\u001b[32m[I 2023-05-18 12:01:25,072]\u001b[0m Trial 101 finished with value: 6.39489443073365 and parameters: {'n_estimators': 150, 'max_depth': 60, 'min_samples_split': 4, 'min_samples_leaf': 1}. Best is trial 83 with value: 6.392499329049205.\u001b[0m\n"
     ]
    },
    {
     "name": "stdout",
     "output_type": "stream",
     "text": [
      "6.39489443073365\n"
     ]
    },
    {
     "name": "stderr",
     "output_type": "stream",
     "text": [
      "\u001b[32m[I 2023-05-18 12:01:37,637]\u001b[0m Trial 102 finished with value: 6.392499329049205 and parameters: {'n_estimators': 150, 'max_depth': 50, 'min_samples_split': 3, 'min_samples_leaf': 1}. Best is trial 83 with value: 6.392499329049205.\u001b[0m\n"
     ]
    },
    {
     "name": "stdout",
     "output_type": "stream",
     "text": [
      "6.392499329049205\n"
     ]
    },
    {
     "name": "stderr",
     "output_type": "stream",
     "text": [
      "\u001b[32m[I 2023-05-18 12:01:50,224]\u001b[0m Trial 103 finished with value: 6.392499329049205 and parameters: {'n_estimators': 150, 'max_depth': 50, 'min_samples_split': 3, 'min_samples_leaf': 1}. Best is trial 83 with value: 6.392499329049205.\u001b[0m\n"
     ]
    },
    {
     "name": "stdout",
     "output_type": "stream",
     "text": [
      "6.392499329049205\n"
     ]
    },
    {
     "name": "stderr",
     "output_type": "stream",
     "text": [
      "\u001b[32m[I 2023-05-18 12:01:57,078]\u001b[0m Trial 104 finished with value: 6.423802069878434 and parameters: {'n_estimators': 80, 'max_depth': 50, 'min_samples_split': 3, 'min_samples_leaf': 1}. Best is trial 83 with value: 6.392499329049205.\u001b[0m\n"
     ]
    },
    {
     "name": "stdout",
     "output_type": "stream",
     "text": [
      "6.423802069878434\n"
     ]
    },
    {
     "name": "stderr",
     "output_type": "stream",
     "text": [
      "\u001b[32m[I 2023-05-18 12:02:10,163]\u001b[0m Trial 105 finished with value: 6.405111692694103 and parameters: {'n_estimators': 150, 'max_depth': 35, 'min_samples_split': 2, 'min_samples_leaf': 1}. Best is trial 83 with value: 6.392499329049205.\u001b[0m\n"
     ]
    },
    {
     "name": "stdout",
     "output_type": "stream",
     "text": [
      "6.405111692694103\n"
     ]
    },
    {
     "name": "stderr",
     "output_type": "stream",
     "text": [
      "\u001b[32m[I 2023-05-18 12:02:21,965]\u001b[0m Trial 106 finished with value: 6.396722154159668 and parameters: {'n_estimators': 140, 'max_depth': 40, 'min_samples_split': 3, 'min_samples_leaf': 1}. Best is trial 83 with value: 6.392499329049205.\u001b[0m\n"
     ]
    },
    {
     "name": "stdout",
     "output_type": "stream",
     "text": [
      "6.396722154159668\n"
     ]
    },
    {
     "name": "stderr",
     "output_type": "stream",
     "text": [
      "\u001b[32m[I 2023-05-18 12:02:31,980]\u001b[0m Trial 107 finished with value: 6.41247822567847 and parameters: {'n_estimators': 140, 'max_depth': 50, 'min_samples_split': 3, 'min_samples_leaf': 2}. Best is trial 83 with value: 6.392499329049205.\u001b[0m\n"
     ]
    },
    {
     "name": "stdout",
     "output_type": "stream",
     "text": [
      "6.41247822567847\n"
     ]
    },
    {
     "name": "stderr",
     "output_type": "stream",
     "text": [
      "\u001b[32m[I 2023-05-18 12:02:39,168]\u001b[0m Trial 108 finished with value: 6.530549513192014 and parameters: {'n_estimators': 150, 'max_depth': 45, 'min_samples_split': 3, 'min_samples_leaf': 7}. Best is trial 83 with value: 6.392499329049205.\u001b[0m\n"
     ]
    },
    {
     "name": "stdout",
     "output_type": "stream",
     "text": [
      "6.530549513192014\n"
     ]
    },
    {
     "name": "stderr",
     "output_type": "stream",
     "text": [
      "\u001b[32m[I 2023-05-18 12:02:52,232]\u001b[0m Trial 109 finished with value: 6.404739507539807 and parameters: {'n_estimators': 150, 'max_depth': 55, 'min_samples_split': 2, 'min_samples_leaf': 1}. Best is trial 83 with value: 6.392499329049205.\u001b[0m\n"
     ]
    },
    {
     "name": "stdout",
     "output_type": "stream",
     "text": [
      "6.404739507539807\n"
     ]
    },
    {
     "name": "stderr",
     "output_type": "stream",
     "text": [
      "\u001b[32m[I 2023-05-18 12:03:03,992]\u001b[0m Trial 110 finished with value: 6.396722154159668 and parameters: {'n_estimators': 140, 'max_depth': 65, 'min_samples_split': 3, 'min_samples_leaf': 1}. Best is trial 83 with value: 6.392499329049205.\u001b[0m\n"
     ]
    },
    {
     "name": "stdout",
     "output_type": "stream",
     "text": [
      "6.396722154159668\n"
     ]
    },
    {
     "name": "stderr",
     "output_type": "stream",
     "text": [
      "\u001b[32m[I 2023-05-18 12:03:15,928]\u001b[0m Trial 111 finished with value: 6.39489443073365 and parameters: {'n_estimators': 150, 'max_depth': 80, 'min_samples_split': 4, 'min_samples_leaf': 1}. Best is trial 83 with value: 6.392499329049205.\u001b[0m\n"
     ]
    },
    {
     "name": "stdout",
     "output_type": "stream",
     "text": [
      "6.39489443073365\n"
     ]
    },
    {
     "name": "stderr",
     "output_type": "stream",
     "text": [
      "\u001b[32m[I 2023-05-18 12:03:28,459]\u001b[0m Trial 112 finished with value: 6.392499329049205 and parameters: {'n_estimators': 150, 'max_depth': 50, 'min_samples_split': 3, 'min_samples_leaf': 1}. Best is trial 83 with value: 6.392499329049205.\u001b[0m\n"
     ]
    },
    {
     "name": "stdout",
     "output_type": "stream",
     "text": [
      "6.392499329049205\n"
     ]
    },
    {
     "name": "stderr",
     "output_type": "stream",
     "text": [
      "\u001b[32m[I 2023-05-18 12:03:33,571]\u001b[0m Trial 113 finished with value: 6.41903931444647 and parameters: {'n_estimators': 60, 'max_depth': 50, 'min_samples_split': 3, 'min_samples_leaf': 1}. Best is trial 83 with value: 6.392499329049205.\u001b[0m\n"
     ]
    },
    {
     "name": "stdout",
     "output_type": "stream",
     "text": [
      "6.41903931444647\n"
     ]
    },
    {
     "name": "stderr",
     "output_type": "stream",
     "text": [
      "\u001b[32m[I 2023-05-18 12:03:46,576]\u001b[0m Trial 114 finished with value: 6.404739507539807 and parameters: {'n_estimators': 150, 'max_depth': 55, 'min_samples_split': 2, 'min_samples_leaf': 1}. Best is trial 83 with value: 6.392499329049205.\u001b[0m\n"
     ]
    },
    {
     "name": "stdout",
     "output_type": "stream",
     "text": [
      "6.404739507539807\n"
     ]
    },
    {
     "name": "stderr",
     "output_type": "stream",
     "text": [
      "\u001b[32m[I 2023-05-18 12:03:57,339]\u001b[0m Trial 115 finished with value: 6.416335823084086 and parameters: {'n_estimators': 150, 'max_depth': 50, 'min_samples_split': 3, 'min_samples_leaf': 2}. Best is trial 83 with value: 6.392499329049205.\u001b[0m\n"
     ]
    },
    {
     "name": "stdout",
     "output_type": "stream",
     "text": [
      "6.416335823084086\n"
     ]
    },
    {
     "name": "stderr",
     "output_type": "stream",
     "text": [
      "\u001b[32m[I 2023-05-18 12:04:09,873]\u001b[0m Trial 116 finished with value: 6.392499329049205 and parameters: {'n_estimators': 150, 'max_depth': 45, 'min_samples_split': 3, 'min_samples_leaf': 1}. Best is trial 83 with value: 6.392499329049205.\u001b[0m\n"
     ]
    },
    {
     "name": "stdout",
     "output_type": "stream",
     "text": [
      "6.392499329049205\n"
     ]
    },
    {
     "name": "stderr",
     "output_type": "stream",
     "text": [
      "\u001b[32m[I 2023-05-18 12:04:17,405]\u001b[0m Trial 117 finished with value: 6.5137195639759495 and parameters: {'n_estimators': 140, 'max_depth': 45, 'min_samples_split': 3, 'min_samples_leaf': 5}. Best is trial 83 with value: 6.392499329049205.\u001b[0m\n"
     ]
    },
    {
     "name": "stdout",
     "output_type": "stream",
     "text": [
      "6.5137195639759495\n"
     ]
    },
    {
     "name": "stderr",
     "output_type": "stream",
     "text": [
      "\u001b[32m[I 2023-05-18 12:04:30,428]\u001b[0m Trial 118 finished with value: 6.404739507539807 and parameters: {'n_estimators': 150, 'max_depth': 45, 'min_samples_split': 2, 'min_samples_leaf': 1}. Best is trial 83 with value: 6.392499329049205.\u001b[0m\n"
     ]
    },
    {
     "name": "stdout",
     "output_type": "stream",
     "text": [
      "6.404739507539807\n"
     ]
    },
    {
     "name": "stderr",
     "output_type": "stream",
     "text": [
      "\u001b[32m[I 2023-05-18 12:04:41,154]\u001b[0m Trial 119 finished with value: 6.416335823084086 and parameters: {'n_estimators': 150, 'max_depth': 35, 'min_samples_split': 3, 'min_samples_leaf': 2}. Best is trial 83 with value: 6.392499329049205.\u001b[0m\n"
     ]
    },
    {
     "name": "stdout",
     "output_type": "stream",
     "text": [
      "6.416335823084086\n"
     ]
    },
    {
     "name": "stderr",
     "output_type": "stream",
     "text": [
      "\u001b[32m[I 2023-05-18 12:04:52,867]\u001b[0m Trial 120 finished with value: 6.396722154159668 and parameters: {'n_estimators': 140, 'max_depth': 40, 'min_samples_split': 3, 'min_samples_leaf': 1}. Best is trial 83 with value: 6.392499329049205.\u001b[0m\n"
     ]
    },
    {
     "name": "stdout",
     "output_type": "stream",
     "text": [
      "6.396722154159668\n"
     ]
    },
    {
     "name": "stderr",
     "output_type": "stream",
     "text": [
      "\u001b[32m[I 2023-05-18 12:05:05,483]\u001b[0m Trial 121 finished with value: 6.392499329049205 and parameters: {'n_estimators': 150, 'max_depth': 50, 'min_samples_split': 3, 'min_samples_leaf': 1}. Best is trial 83 with value: 6.392499329049205.\u001b[0m\n"
     ]
    },
    {
     "name": "stdout",
     "output_type": "stream",
     "text": [
      "6.392499329049205\n"
     ]
    },
    {
     "name": "stderr",
     "output_type": "stream",
     "text": [
      "\u001b[32m[I 2023-05-18 12:05:18,103]\u001b[0m Trial 122 finished with value: 6.392499329049205 and parameters: {'n_estimators': 150, 'max_depth': 50, 'min_samples_split': 3, 'min_samples_leaf': 1}. Best is trial 83 with value: 6.392499329049205.\u001b[0m\n"
     ]
    },
    {
     "name": "stdout",
     "output_type": "stream",
     "text": [
      "6.392499329049205\n"
     ]
    },
    {
     "name": "stderr",
     "output_type": "stream",
     "text": [
      "\u001b[32m[I 2023-05-18 12:05:30,723]\u001b[0m Trial 123 finished with value: 6.392499329049205 and parameters: {'n_estimators': 150, 'max_depth': 50, 'min_samples_split': 3, 'min_samples_leaf': 1}. Best is trial 83 with value: 6.392499329049205.\u001b[0m\n"
     ]
    },
    {
     "name": "stdout",
     "output_type": "stream",
     "text": [
      "6.392499329049205\n"
     ]
    },
    {
     "name": "stderr",
     "output_type": "stream",
     "text": [
      "\u001b[32m[I 2023-05-18 12:05:43,315]\u001b[0m Trial 124 finished with value: 6.392499329049205 and parameters: {'n_estimators': 150, 'max_depth': 50, 'min_samples_split': 3, 'min_samples_leaf': 1}. Best is trial 83 with value: 6.392499329049205.\u001b[0m\n"
     ]
    },
    {
     "name": "stdout",
     "output_type": "stream",
     "text": [
      "6.392499329049205\n"
     ]
    },
    {
     "name": "stderr",
     "output_type": "stream",
     "text": [
      "\u001b[32m[I 2023-05-18 12:05:55,713]\u001b[0m Trial 125 finished with value: 6.392499329049205 and parameters: {'n_estimators': 150, 'max_depth': 45, 'min_samples_split': 3, 'min_samples_leaf': 1}. Best is trial 83 with value: 6.392499329049205.\u001b[0m\n"
     ]
    },
    {
     "name": "stdout",
     "output_type": "stream",
     "text": [
      "6.392499329049205\n"
     ]
    },
    {
     "name": "stderr",
     "output_type": "stream",
     "text": [
      "\u001b[32m[I 2023-05-18 12:06:08,303]\u001b[0m Trial 126 finished with value: 6.392499329049205 and parameters: {'n_estimators': 150, 'max_depth': 50, 'min_samples_split': 3, 'min_samples_leaf': 1}. Best is trial 83 with value: 6.392499329049205.\u001b[0m\n"
     ]
    },
    {
     "name": "stdout",
     "output_type": "stream",
     "text": [
      "6.392499329049205\n"
     ]
    },
    {
     "name": "stderr",
     "output_type": "stream",
     "text": [
      "\u001b[32m[I 2023-05-18 12:06:19,030]\u001b[0m Trial 127 finished with value: 6.416335823084086 and parameters: {'n_estimators': 150, 'max_depth': 55, 'min_samples_split': 3, 'min_samples_leaf': 2}. Best is trial 83 with value: 6.392499329049205.\u001b[0m\n"
     ]
    },
    {
     "name": "stdout",
     "output_type": "stream",
     "text": [
      "6.416335823084086\n"
     ]
    },
    {
     "name": "stderr",
     "output_type": "stream",
     "text": [
      "\u001b[32m[I 2023-05-18 12:06:31,158]\u001b[0m Trial 128 finished with value: 6.409312303219297 and parameters: {'n_estimators': 140, 'max_depth': 45, 'min_samples_split': 2, 'min_samples_leaf': 1}. Best is trial 83 with value: 6.392499329049205.\u001b[0m\n"
     ]
    },
    {
     "name": "stdout",
     "output_type": "stream",
     "text": [
      "6.409312303219297\n"
     ]
    },
    {
     "name": "stderr",
     "output_type": "stream",
     "text": [
      "\u001b[32m[I 2023-05-18 12:06:38,735]\u001b[0m Trial 129 finished with value: 6.417403026158478 and parameters: {'n_estimators': 90, 'max_depth': 50, 'min_samples_split': 3, 'min_samples_leaf': 1}. Best is trial 83 with value: 6.392499329049205.\u001b[0m\n"
     ]
    },
    {
     "name": "stdout",
     "output_type": "stream",
     "text": [
      "6.417403026158478\n"
     ]
    },
    {
     "name": "stderr",
     "output_type": "stream",
     "text": [
      "\u001b[32m[I 2023-05-18 12:06:51,163]\u001b[0m Trial 130 finished with value: 6.392499329049205 and parameters: {'n_estimators': 150, 'max_depth': 55, 'min_samples_split': 3, 'min_samples_leaf': 1}. Best is trial 83 with value: 6.392499329049205.\u001b[0m\n"
     ]
    },
    {
     "name": "stdout",
     "output_type": "stream",
     "text": [
      "6.392499329049205\n"
     ]
    },
    {
     "name": "stderr",
     "output_type": "stream",
     "text": [
      "\u001b[32m[I 2023-05-18 12:07:03,756]\u001b[0m Trial 131 finished with value: 6.392499329049205 and parameters: {'n_estimators': 150, 'max_depth': 45, 'min_samples_split': 3, 'min_samples_leaf': 1}. Best is trial 83 with value: 6.392499329049205.\u001b[0m\n"
     ]
    },
    {
     "name": "stdout",
     "output_type": "stream",
     "text": [
      "6.392499329049205\n"
     ]
    },
    {
     "name": "stderr",
     "output_type": "stream",
     "text": [
      "\u001b[32m[I 2023-05-18 12:07:16,332]\u001b[0m Trial 132 finished with value: 6.392499329049205 and parameters: {'n_estimators': 150, 'max_depth': 50, 'min_samples_split': 3, 'min_samples_leaf': 1}. Best is trial 83 with value: 6.392499329049205.\u001b[0m\n"
     ]
    },
    {
     "name": "stdout",
     "output_type": "stream",
     "text": [
      "6.392499329049205\n"
     ]
    },
    {
     "name": "stderr",
     "output_type": "stream",
     "text": [
      "\u001b[32m[I 2023-05-18 12:07:28,974]\u001b[0m Trial 133 finished with value: 6.392499329049205 and parameters: {'n_estimators': 150, 'max_depth': 50, 'min_samples_split': 3, 'min_samples_leaf': 1}. Best is trial 83 with value: 6.392499329049205.\u001b[0m\n"
     ]
    },
    {
     "name": "stdout",
     "output_type": "stream",
     "text": [
      "6.392499329049205\n"
     ]
    },
    {
     "name": "stderr",
     "output_type": "stream",
     "text": [
      "\u001b[32m[I 2023-05-18 12:07:41,572]\u001b[0m Trial 134 finished with value: 6.392499329049205 and parameters: {'n_estimators': 150, 'max_depth': 40, 'min_samples_split': 3, 'min_samples_leaf': 1}. Best is trial 83 with value: 6.392499329049205.\u001b[0m\n"
     ]
    },
    {
     "name": "stdout",
     "output_type": "stream",
     "text": [
      "6.392499329049205\n"
     ]
    },
    {
     "name": "stderr",
     "output_type": "stream",
     "text": [
      "\u001b[32m[I 2023-05-18 12:07:49,391]\u001b[0m Trial 135 finished with value: 6.417408826707648 and parameters: {'n_estimators': 110, 'max_depth': 55, 'min_samples_split': 2, 'min_samples_leaf': 2}. Best is trial 83 with value: 6.392499329049205.\u001b[0m\n"
     ]
    },
    {
     "name": "stdout",
     "output_type": "stream",
     "text": [
      "6.417408826707648\n"
     ]
    },
    {
     "name": "stderr",
     "output_type": "stream",
     "text": [
      "\u001b[32m[I 2023-05-18 12:08:01,988]\u001b[0m Trial 136 finished with value: 6.392499329049205 and parameters: {'n_estimators': 150, 'max_depth': 50, 'min_samples_split': 3, 'min_samples_leaf': 1}. Best is trial 83 with value: 6.392499329049205.\u001b[0m\n"
     ]
    },
    {
     "name": "stdout",
     "output_type": "stream",
     "text": [
      "6.392499329049205\n"
     ]
    },
    {
     "name": "stderr",
     "output_type": "stream",
     "text": [
      "\u001b[32m[I 2023-05-18 12:08:13,754]\u001b[0m Trial 137 finished with value: 6.396722154159668 and parameters: {'n_estimators': 140, 'max_depth': 55, 'min_samples_split': 3, 'min_samples_leaf': 1}. Best is trial 83 with value: 6.392499329049205.\u001b[0m\n"
     ]
    },
    {
     "name": "stdout",
     "output_type": "stream",
     "text": [
      "6.396722154159668\n"
     ]
    },
    {
     "name": "stderr",
     "output_type": "stream",
     "text": [
      "\u001b[32m[I 2023-05-18 12:08:20,669]\u001b[0m Trial 138 finished with value: 6.5436148791291515 and parameters: {'n_estimators': 150, 'max_depth': 60, 'min_samples_split': 3, 'min_samples_leaf': 8}. Best is trial 83 with value: 6.392499329049205.\u001b[0m\n"
     ]
    },
    {
     "name": "stdout",
     "output_type": "stream",
     "text": [
      "6.5436148791291515\n"
     ]
    },
    {
     "name": "stderr",
     "output_type": "stream",
     "text": [
      "\u001b[32m[I 2023-05-18 12:08:32,274]\u001b[0m Trial 139 finished with value: 6.396722154159668 and parameters: {'n_estimators': 140, 'max_depth': 45, 'min_samples_split': 3, 'min_samples_leaf': 1}. Best is trial 83 with value: 6.392499329049205.\u001b[0m\n"
     ]
    },
    {
     "name": "stdout",
     "output_type": "stream",
     "text": [
      "6.396722154159668\n"
     ]
    },
    {
     "name": "stderr",
     "output_type": "stream",
     "text": [
      "\u001b[32m[I 2023-05-18 12:08:45,103]\u001b[0m Trial 140 finished with value: 6.392499329049205 and parameters: {'n_estimators': 150, 'max_depth': 50, 'min_samples_split': 3, 'min_samples_leaf': 1}. Best is trial 83 with value: 6.392499329049205.\u001b[0m\n"
     ]
    },
    {
     "name": "stdout",
     "output_type": "stream",
     "text": [
      "6.392499329049205\n"
     ]
    },
    {
     "name": "stderr",
     "output_type": "stream",
     "text": [
      "\u001b[32m[I 2023-05-18 12:08:57,806]\u001b[0m Trial 141 finished with value: 6.392499329049205 and parameters: {'n_estimators': 150, 'max_depth': 45, 'min_samples_split': 3, 'min_samples_leaf': 1}. Best is trial 83 with value: 6.392499329049205.\u001b[0m\n"
     ]
    },
    {
     "name": "stdout",
     "output_type": "stream",
     "text": [
      "6.392499329049205\n"
     ]
    },
    {
     "name": "stderr",
     "output_type": "stream",
     "text": [
      "\u001b[32m[I 2023-05-18 12:09:10,329]\u001b[0m Trial 142 finished with value: 6.392499329049205 and parameters: {'n_estimators': 150, 'max_depth': 45, 'min_samples_split': 3, 'min_samples_leaf': 1}. Best is trial 83 with value: 6.392499329049205.\u001b[0m\n"
     ]
    },
    {
     "name": "stdout",
     "output_type": "stream",
     "text": [
      "6.392499329049205\n"
     ]
    },
    {
     "name": "stderr",
     "output_type": "stream",
     "text": [
      "\u001b[32m[I 2023-05-18 12:09:22,732]\u001b[0m Trial 143 finished with value: 6.392499329049205 and parameters: {'n_estimators': 150, 'max_depth': 55, 'min_samples_split': 3, 'min_samples_leaf': 1}. Best is trial 83 with value: 6.392499329049205.\u001b[0m\n"
     ]
    },
    {
     "name": "stdout",
     "output_type": "stream",
     "text": [
      "6.392499329049205\n"
     ]
    },
    {
     "name": "stderr",
     "output_type": "stream",
     "text": [
      "\u001b[32m[I 2023-05-18 12:09:35,717]\u001b[0m Trial 144 finished with value: 6.404739507539807 and parameters: {'n_estimators': 150, 'max_depth': 50, 'min_samples_split': 2, 'min_samples_leaf': 1}. Best is trial 83 with value: 6.392499329049205.\u001b[0m\n"
     ]
    },
    {
     "name": "stdout",
     "output_type": "stream",
     "text": [
      "6.404739507539807\n"
     ]
    },
    {
     "name": "stderr",
     "output_type": "stream",
     "text": [
      "\u001b[32m[I 2023-05-18 12:09:46,432]\u001b[0m Trial 145 finished with value: 6.416335823084086 and parameters: {'n_estimators': 150, 'max_depth': 45, 'min_samples_split': 3, 'min_samples_leaf': 2}. Best is trial 83 with value: 6.392499329049205.\u001b[0m\n"
     ]
    },
    {
     "name": "stdout",
     "output_type": "stream",
     "text": [
      "6.416335823084086\n"
     ]
    },
    {
     "name": "stderr",
     "output_type": "stream",
     "text": [
      "\u001b[32m[I 2023-05-18 12:09:58,823]\u001b[0m Trial 146 finished with value: 6.392499329049205 and parameters: {'n_estimators': 150, 'max_depth': 50, 'min_samples_split': 3, 'min_samples_leaf': 1}. Best is trial 83 with value: 6.392499329049205.\u001b[0m\n"
     ]
    },
    {
     "name": "stdout",
     "output_type": "stream",
     "text": [
      "6.392499329049205\n"
     ]
    },
    {
     "name": "stderr",
     "output_type": "stream",
     "text": [
      "\u001b[32m[I 2023-05-18 12:10:11,160]\u001b[0m Trial 147 finished with value: 6.392499329049205 and parameters: {'n_estimators': 150, 'max_depth': 40, 'min_samples_split': 3, 'min_samples_leaf': 1}. Best is trial 83 with value: 6.392499329049205.\u001b[0m\n"
     ]
    },
    {
     "name": "stdout",
     "output_type": "stream",
     "text": [
      "6.392499329049205\n"
     ]
    },
    {
     "name": "stderr",
     "output_type": "stream",
     "text": [
      "\u001b[32m[I 2023-05-18 12:10:22,867]\u001b[0m Trial 148 finished with value: 6.396722154159668 and parameters: {'n_estimators': 140, 'max_depth': 55, 'min_samples_split': 3, 'min_samples_leaf': 1}. Best is trial 83 with value: 6.392499329049205.\u001b[0m\n"
     ]
    },
    {
     "name": "stdout",
     "output_type": "stream",
     "text": [
      "6.396722154159668\n"
     ]
    },
    {
     "name": "stderr",
     "output_type": "stream",
     "text": [
      "\u001b[32m[I 2023-05-18 12:10:33,628]\u001b[0m Trial 149 finished with value: 6.416335823084086 and parameters: {'n_estimators': 150, 'max_depth': 60, 'min_samples_split': 2, 'min_samples_leaf': 2}. Best is trial 83 with value: 6.392499329049205.\u001b[0m\n"
     ]
    },
    {
     "name": "stdout",
     "output_type": "stream",
     "text": [
      "6.416335823084086\n"
     ]
    }
   ],
   "source": [
    "def obj_tree(trial):\n",
    "    params = {'random_state':RANDOM_STATE\n",
    "              ,'n_estimators':trial.suggest_int('n_estimators',50,150,step=10)\n",
    "             ,'max_depth':trial.suggest_int('max_depth',5,100,step=5)\n",
    "              ,'min_samples_split':trial.suggest_int('min_samples_split',2,10,step=1)\n",
    "              ,'min_samples_leaf':trial.suggest_int('min_samples_leaf',1,10,step=1)\n",
    "             }\n",
    "    model_tree = RandomForestRegressor(**params)\n",
    "    scores = cross_val_score(model_tree,features_train_valid,target_train_valid,cv=4,scoring='neg_mean_absolute_error')\n",
    "    final_score = abs(sum(scores)/len(scores))\n",
    "    print(final_score)\n",
    "    \n",
    "    return final_score\n",
    "\n",
    "study_tree = optuna.create_study()\n",
    "study_tree.optimize(obj_tree,n_trials=150)"
   ]
  },
  {
   "cell_type": "code",
   "execution_count": 57,
   "id": "95fa098a",
   "metadata": {},
   "outputs": [
    {
     "data": {
      "text/plain": [
       "{'n_estimators': 150,\n",
       " 'max_depth': 70,\n",
       " 'min_samples_split': 3,\n",
       " 'min_samples_leaf': 1}"
      ]
     },
     "execution_count": 57,
     "metadata": {},
     "output_type": "execute_result"
    }
   ],
   "source": [
    "study_tree.best_params"
   ]
  },
  {
   "cell_type": "markdown",
   "id": "fb710d99",
   "metadata": {},
   "source": [
    "### Проверка на константной модели"
   ]
  },
  {
   "cell_type": "code",
   "execution_count": 58,
   "id": "7b4e52cc",
   "metadata": {},
   "outputs": [
    {
     "name": "stdout",
     "output_type": "stream",
     "text": [
      "Среднее абсолютное отклонение для константной модели равно:  8.060340776596155\n"
     ]
    }
   ],
   "source": [
    "model_const = DummyRegressor()\n",
    "\n",
    "scores = cross_val_score(model_const,features_train_valid,target_train_valid,cv=5,scoring='neg_mean_absolute_error')\n",
    "final_score = abs(sum(scores)/len(scores))\n",
    "print('Среднее абсолютное отклонение для константной модели равно: ',final_score)"
   ]
  },
  {
   "cell_type": "markdown",
   "id": "7fe3b647",
   "metadata": {},
   "source": [
    "Обученные модели показали лучший результат, чем константная модель."
   ]
  },
  {
   "cell_type": "markdown",
   "id": "37227925",
   "metadata": {},
   "source": [
    "### Выбор модели\n",
    "\n",
    "По результатам анализа можно составить следующую таблицу:"
   ]
  },
  {
   "cell_type": "markdown",
   "id": "eae4d01e",
   "metadata": {},
   "source": [
    "|Модель|Среднее абсолютное отклонение(МАЕ)|\n",
    "|:-:|:-:|\n",
    "|Линейная регрессия|6.5261|\n",
    "|LightGBM|6.4308|\n",
    "|Случайный лес|6.3924|"
   ]
  },
  {
   "cell_type": "markdown",
   "id": "9355654b",
   "metadata": {},
   "source": [
    "Для анализа на тестовой выборке, выберем модель случайный лес."
   ]
  },
  {
   "cell_type": "markdown",
   "id": "45d43ea3",
   "metadata": {},
   "source": [
    "### Проверка качества модели на тестовой выборке"
   ]
  },
  {
   "cell_type": "code",
   "execution_count": 61,
   "id": "25581672",
   "metadata": {},
   "outputs": [
    {
     "name": "stdout",
     "output_type": "stream",
     "text": [
      "Среднее абсолютное отклонение(MAE) для модели равно:  6.706307558071298\n"
     ]
    }
   ],
   "source": [
    "best_model = RandomForestRegressor(**study_tree.best_params,random_state=RANDOM_STATE)\n",
    "print('Среднее абсолютное отклонение(MAE) для модели равно: '\n",
    "      ,mean_absolute_error(best_model.fit(features_train_valid,target_train_valid).predict(features_test),target_test))"
   ]
  },
  {
   "cell_type": "markdown",
   "id": "c7d9023c",
   "metadata": {},
   "source": [
    "### Анализ важности факторов"
   ]
  },
  {
   "cell_type": "code",
   "execution_count": 62,
   "id": "532bcdb3",
   "metadata": {},
   "outputs": [
    {
     "name": "stderr",
     "output_type": "stream",
     "text": [
      "auto_size_plot=False is deprecated and is now ignored! Use plot_size=None instead.\n",
      "No data for colormapping provided via 'c'. Parameters 'vmin', 'vmax' will be ignored\n"
     ]
    },
    {
     "data": {
      "image/png": "[encoded data removed]",
      "text/plain": [
       "<Figure size 800x710 with 2 Axes>"
      ]
     },
     "metadata": {},
     "output_type": "display_data"
    }
   ],
   "source": [
    "shap_test = shap.TreeExplainer(best_model).shap_values(features_train_valid)\n",
    "shap.summary_plot(shap_test, features_train_valid,\n",
    "                      max_display=25, auto_size_plot=True)"
   ]
  },
  {
   "cell_type": "markdown",
   "id": "bbd3dfb5",
   "metadata": {},
   "source": [
    "Наиболее влиятельными факторами на результирующую температуру являются первичная температура(first_temp) и затраченная энергия (active_power)."
   ]
  },
  {
   "cell_type": "markdown",
   "id": "5a2d117f",
   "metadata": {},
   "source": [
    "# Часть 3.\n",
    "Отчёт."
   ]
  },
  {
   "attachments": {
    "image.png": {
     "image/png": "[encoded data removed]"
    }
   },
   "cell_type": "markdown",
   "id": "cab6e87a",
   "metadata": {},
   "source": [
    "![image.png](attachment:image.png)"
   ]
  },
  {
   "cell_type": "markdown",
   "id": "ccb5af01",
   "metadata": {},
   "source": [
    "## Выполнение плана работ.  \n",
    "План работ:  \n",
    "1. Датафреймы объеденены в data_model. Данные очищены от неполных данных(по температуре  номеру партии)  \n",
    "2. Для исследования использованы три модели (линейную регрессию,LightGBM, модель случайный лес). В качестве метрики использованна МАЕ (среднее абсолютное отклонение). Также результат сравнили с константной модели.  \n",
    "3. При проверке использованна кросс-валидация. Наилучший показатель у модели случайный лес.  \n",
    "4.  На тестовой выборке показатель модели случайный лес МАЕ = 6.7063  "
   ]
  },
  {
   "cell_type": "markdown",
   "id": "982dec7f",
   "metadata": {},
   "source": [
    "## Признаки используемые в модели.\n",
    "В качестве признаков использованы:\n",
    "- начальная температура котла (first_temp);  \n",
    "- активная мощность перемноженная с периодом нагрева (active_power);    \n",
    "- период простоя(без нагрева) (interval_idle);  \n",
    "- объём сыпучих материалов (bulk_3,bulk_4,bulk_6,bulk_12,bulk_14,bulk_15 и other_bulk, где объеденены другие из-за малого их количества);  \n",
    "- объём проволочных материалах (wire_1,wire_2 и other_wire, где объеденены другие из-за малого их количества);  \n",
    "-  продувке сплава газом (gas_1).  \n",
    "При исследовании установленно, что наибольшее влияние на целевой признак(конечную температуру last_temp) оказывают начальная температура котла (first_temp) и активная мощность перемноженная с периодом нагрева (active_power).  \t\t\t\t\t\t"
   ]
  },
  {
   "cell_type": "markdown",
   "id": "9d1596e7",
   "metadata": {},
   "source": [
    "## Гиперпараметры лучшей модели.\n",
    "При исследовании наилучший результат показала модель случайный лес (RandomForestRegressor) с гиперпараметрами:  \n",
    "n_estimators=150,  \n",
    "max_depth=70,  \n",
    "min_samples_split=3,  \n",
    "min_samples_leaf=1,  \n",
    "random_state=80523.  "
   ]
  },
  {
   "cell_type": "markdown",
   "id": "c5f352a1",
   "metadata": {},
   "source": [
    "## Рекомендации для улучшения модели.  \n",
    "1. Объемы сыпучих и проволочных материалов объеденить в один столбец, но для грамотного объединения требуется какой-нибудь показатель, чем они отличаются (пример-теплопроводность).  \n",
    "2. Более точный сбор данных(из-за неточности, было отсеяно практически треть первоначальных данных по ковшам).  "
   ]
  }
 ],
 "metadata": {
  "ExecuteTimeLog": [
   {
    "duration": 816,
    "start_time": "2023-05-12T18:10:30.275Z"
   },
   {
    "duration": 180,
    "start_time": "2023-05-12T18:10:31.093Z"
   },
   {
    "duration": 294,
    "start_time": "2023-05-12T18:10:52.459Z"
   },
   {
    "duration": 27,
    "start_time": "2023-05-12T18:10:54.325Z"
   },
   {
    "duration": 47,
    "start_time": "2023-05-12T18:11:51.350Z"
   },
   {
    "duration": 185,
    "start_time": "2023-05-12T18:11:59.417Z"
   },
   {
    "duration": 3970,
    "start_time": "2023-05-12T18:12:03.651Z"
   },
   {
    "duration": 6366,
    "start_time": "2023-05-17T16:44:54.172Z"
   },
   {
    "duration": 10636,
    "start_time": "2023-05-17T16:45:00.540Z"
   },
   {
    "duration": 3,
    "start_time": "2023-05-17T16:52:25.716Z"
   },
   {
    "duration": 330,
    "start_time": "2023-05-17T16:52:26.605Z"
   },
   {
    "duration": 27,
    "start_time": "2023-05-17T16:52:27.217Z"
   },
   {
    "duration": 35,
    "start_time": "2023-05-17T16:52:28.102Z"
   },
   {
    "duration": 143,
    "start_time": "2023-05-17T16:52:28.509Z"
   },
   {
    "duration": 5111,
    "start_time": "2023-05-17T16:52:28.817Z"
   },
   {
    "duration": 5,
    "start_time": "2023-05-17T16:52:33.931Z"
   },
   {
    "duration": 228,
    "start_time": "2023-05-17T16:52:33.938Z"
   },
   {
    "duration": 59,
    "start_time": "2023-05-17T16:52:34.169Z"
   },
   {
    "duration": 10,
    "start_time": "2023-05-17T16:52:34.230Z"
   },
   {
    "duration": 36,
    "start_time": "2023-05-17T16:52:34.242Z"
   },
   {
    "duration": 14,
    "start_time": "2023-05-17T16:52:34.281Z"
   },
   {
    "duration": 37,
    "start_time": "2023-05-17T16:52:34.298Z"
   },
   {
    "duration": 45,
    "start_time": "2023-05-17T16:52:34.337Z"
   },
   {
    "duration": 15,
    "start_time": "2023-05-17T16:52:34.387Z"
   },
   {
    "duration": 14,
    "start_time": "2023-05-17T16:52:34.404Z"
   },
   {
    "duration": 11,
    "start_time": "2023-05-17T16:52:34.420Z"
   },
   {
    "duration": 30,
    "start_time": "2023-05-17T16:52:34.433Z"
   },
   {
    "duration": 16,
    "start_time": "2023-05-17T16:52:34.644Z"
   },
   {
    "duration": 16,
    "start_time": "2023-05-17T16:52:34.816Z"
   },
   {
    "duration": 13,
    "start_time": "2023-05-17T16:52:35.100Z"
   },
   {
    "duration": 18,
    "start_time": "2023-05-17T16:52:35.405Z"
   },
   {
    "duration": 23,
    "start_time": "2023-05-17T16:52:35.573Z"
   },
   {
    "duration": 20,
    "start_time": "2023-05-17T16:52:35.890Z"
   },
   {
    "duration": 13,
    "start_time": "2023-05-17T16:52:36.215Z"
   },
   {
    "duration": 8,
    "start_time": "2023-05-17T16:52:42.504Z"
   },
   {
    "duration": 11,
    "start_time": "2023-05-17T16:52:43.001Z"
   },
   {
    "duration": 19,
    "start_time": "2023-05-17T16:52:43.332Z"
   },
   {
    "duration": 18,
    "start_time": "2023-05-17T16:52:43.500Z"
   },
   {
    "duration": 27,
    "start_time": "2023-05-17T16:52:44.905Z"
   },
   {
    "duration": 5,
    "start_time": "2023-05-17T16:52:45.408Z"
   },
   {
    "duration": 7,
    "start_time": "2023-05-17T16:52:45.704Z"
   },
   {
    "duration": 2990,
    "start_time": "2023-05-17T16:52:46.001Z"
   },
   {
    "duration": 7,
    "start_time": "2023-05-17T16:52:48.997Z"
   },
   {
    "duration": 13,
    "start_time": "2023-05-17T16:52:49.009Z"
   },
   {
    "duration": 6,
    "start_time": "2023-05-17T16:52:49.029Z"
   },
   {
    "duration": 20,
    "start_time": "2023-05-17T16:52:49.043Z"
   },
   {
    "duration": 15,
    "start_time": "2023-05-17T16:52:49.065Z"
   },
   {
    "duration": 6,
    "start_time": "2023-05-17T16:52:49.447Z"
   },
   {
    "duration": 6,
    "start_time": "2023-05-17T16:52:50.014Z"
   },
   {
    "duration": 36,
    "start_time": "2023-05-17T16:52:50.354Z"
   },
   {
    "duration": 32,
    "start_time": "2023-05-17T16:52:51.604Z"
   },
   {
    "duration": 683,
    "start_time": "2023-05-17T16:52:52.299Z"
   },
   {
    "duration": 8,
    "start_time": "2023-05-17T16:52:52.984Z"
   },
   {
    "duration": 33,
    "start_time": "2023-05-17T16:56:36.523Z"
   },
   {
    "duration": 10,
    "start_time": "2023-05-17T16:57:22.392Z"
   },
   {
    "duration": 29,
    "start_time": "2023-05-17T16:58:14.223Z"
   },
   {
    "duration": 4,
    "start_time": "2023-05-17T17:02:17.399Z"
   },
   {
    "duration": 7,
    "start_time": "2023-05-17T17:02:18.408Z"
   },
   {
    "duration": 80,
    "start_time": "2023-05-17T17:02:39.591Z"
   },
   {
    "duration": 5422,
    "start_time": "2023-05-18T17:22:13.054Z"
   },
   {
    "duration": 5461,
    "start_time": "2023-05-18T17:22:23.893Z"
   },
   {
    "duration": 6,
    "start_time": "2023-05-18T17:22:34.414Z"
   },
   {
    "duration": 337,
    "start_time": "2023-05-18T17:22:36.866Z"
   },
   {
    "duration": 16,
    "start_time": "2023-05-18T17:22:38.596Z"
   },
   {
    "duration": 47,
    "start_time": "2023-05-18T17:22:40.502Z"
   },
   {
    "duration": 151,
    "start_time": "2023-05-18T17:22:41.209Z"
   },
   {
    "duration": 3419,
    "start_time": "2023-05-18T17:22:43.405Z"
   },
   {
    "duration": 4,
    "start_time": "2023-05-18T17:22:46.827Z"
   },
   {
    "duration": 125,
    "start_time": "2023-05-18T17:22:46.833Z"
   },
   {
    "duration": 77,
    "start_time": "2023-05-18T17:22:46.961Z"
   },
   {
    "duration": 401,
    "start_time": "2023-05-18T17:22:51.154Z"
   },
   {
    "duration": 17,
    "start_time": "2023-05-18T17:22:51.725Z"
   },
   {
    "duration": 17,
    "start_time": "2023-05-18T17:22:52.432Z"
   },
   {
    "duration": 14,
    "start_time": "2023-05-18T17:22:53.106Z"
   },
   {
    "duration": 34,
    "start_time": "2023-05-18T17:22:53.506Z"
   },
   {
    "duration": 17,
    "start_time": "2023-05-18T17:22:53.856Z"
   },
   {
    "duration": 31,
    "start_time": "2023-05-18T17:22:56.817Z"
   },
   {
    "duration": 18,
    "start_time": "2023-05-18T17:22:56.851Z"
   },
   {
    "duration": 24,
    "start_time": "2023-05-18T17:22:56.871Z"
   },
   {
    "duration": 16,
    "start_time": "2023-05-18T17:22:56.905Z"
   },
   {
    "duration": 16,
    "start_time": "2023-05-18T17:22:57.258Z"
   },
   {
    "duration": 19,
    "start_time": "2023-05-18T17:22:57.460Z"
   },
   {
    "duration": 15,
    "start_time": "2023-05-18T17:22:57.821Z"
   },
   {
    "duration": 14,
    "start_time": "2023-05-18T17:22:58.155Z"
   },
   {
    "duration": 25,
    "start_time": "2023-05-18T17:22:58.313Z"
   },
   {
    "duration": 15,
    "start_time": "2023-05-18T17:22:58.639Z"
   },
   {
    "duration": 9,
    "start_time": "2023-05-18T17:22:58.961Z"
   },
   {
    "duration": 8,
    "start_time": "2023-05-18T17:22:59.709Z"
   },
   {
    "duration": 17,
    "start_time": "2023-05-18T17:22:59.905Z"
   },
   {
    "duration": 18,
    "start_time": "2023-05-18T17:23:00.212Z"
   },
   {
    "duration": 18,
    "start_time": "2023-05-18T17:23:00.393Z"
   },
   {
    "duration": 15,
    "start_time": "2023-05-18T17:23:00.726Z"
   },
   {
    "duration": 31,
    "start_time": "2023-05-18T17:23:01.703Z"
   },
   {
    "duration": 7,
    "start_time": "2023-05-18T17:23:02.720Z"
   },
   {
    "duration": 4,
    "start_time": "2023-05-18T17:23:03.454Z"
   },
   {
    "duration": 1906,
    "start_time": "2023-05-18T17:23:04.952Z"
   },
   {
    "duration": 6,
    "start_time": "2023-05-18T17:23:06.861Z"
   },
   {
    "duration": 53,
    "start_time": "2023-05-18T17:23:06.884Z"
   },
   {
    "duration": 19,
    "start_time": "2023-05-18T17:23:07.800Z"
   },
   {
    "duration": 7,
    "start_time": "2023-05-18T17:23:17.963Z"
   },
   {
    "duration": 4,
    "start_time": "2023-05-18T17:23:19.146Z"
   },
   {
    "duration": 11,
    "start_time": "2023-05-18T17:23:19.556Z"
   },
   {
    "duration": 3,
    "start_time": "2023-05-18T17:23:19.768Z"
   },
   {
    "duration": 7,
    "start_time": "2023-05-18T17:23:20.709Z"
   },
   {
    "duration": 5,
    "start_time": "2023-05-18T17:23:21.106Z"
   },
   {
    "duration": 20,
    "start_time": "2023-05-18T17:23:21.449Z"
   },
   {
    "duration": 35,
    "start_time": "2023-05-18T17:23:21.698Z"
   },
   {
    "duration": 32,
    "start_time": "2023-05-18T17:24:00.360Z"
   },
   {
    "duration": 497,
    "start_time": "2023-05-18T17:24:01.109Z"
   },
   {
    "duration": 6,
    "start_time": "2023-05-18T17:24:02.452Z"
   },
   {
    "duration": 40,
    "start_time": "2023-05-18T17:24:37.610Z"
   }
  ],
  "kernelspec": {
   "display_name": "Python 3 (ipykernel)",
   "language": "python",
   "name": "python3"
  },
  "language_info": {
   "codemirror_mode": {
    "name": "ipython",
    "version": 3
   },
   "file_extension": ".py",
   "mimetype": "text/x-python",
   "name": "python",
   "nbconvert_exporter": "python",
   "pygments_lexer": "ipython3",
   "version": "3.9.13"
  },
  "toc": {
   "base_numbering": 1,
   "nav_menu": {},
   "number_sections": true,
   "sideBar": true,
   "skip_h1_title": true,
   "title_cell": "Table of Contents",
   "title_sidebar": "Contents",
   "toc_cell": false,
   "toc_position": {},
   "toc_section_display": true,
   "toc_window_display": false
  }
 },
 "nbformat": 4,
 "nbformat_minor": 5
}
